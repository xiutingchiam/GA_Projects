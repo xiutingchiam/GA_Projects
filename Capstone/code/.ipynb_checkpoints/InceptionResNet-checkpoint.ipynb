{
 "cells": [
  {
   "cell_type": "code",
   "execution_count": 1,
   "id": "19dea624",
   "metadata": {},
   "outputs": [
    {
     "data": {
      "text/plain": [
       "[PhysicalDevice(name='/physical_device:GPU:0', device_type='GPU')]"
      ]
     },
     "execution_count": 1,
     "metadata": {},
     "output_type": "execute_result"
    }
   ],
   "source": [
    "import os\n",
    "import itertools \n",
    "import random\n",
    "random.seed(42)\n",
    "from random import shuffle\n",
    "import cv2\n",
    "\n",
    "import matplotlib.pyplot as plt\n",
    "%matplotlib inline\n",
    "\n",
    "import sklearn\n",
    "import numpy as np\n",
    "from PIL import Image\n",
    "from keras import backend as K\n",
    "from keras.callbacks import ModelCheckpoint, ReduceLROnPlateau, EarlyStopping\n",
    "from keras.layers import Input, Flatten, Dense, Dropout, Lambda\n",
    "from keras.models import Model, load_model\n",
    "from tensorflow.keras.optimizers import Adam, RMSprop\n",
    "from keras.applications.inception_resnet_v2 import preprocess_input, InceptionResNetV2\n",
    "\n",
    "# connect to gpu\n",
    "import tensorflow as tf\n",
    "from tensorflow.python.client import device_lib\n",
    "tf.config.list_physical_devices('GPU')"
   ]
  },
  {
   "cell_type": "code",
   "execution_count": null,
   "id": "1711bbf6",
   "metadata": {},
   "outputs": [],
   "source": []
  },
  {
   "cell_type": "code",
   "execution_count": 2,
   "id": "541d24f4",
   "metadata": {},
   "outputs": [],
   "source": [
    "def plot_history(results):\n",
    "    plt.plot(results.history['loss'])\n",
    "    plt.plot(results.history['val_loss'])\n",
    "    plt.title('model loss')\n",
    "    plt.ylabel('loss')\n",
    "    plt.xlabel('epoch')\n",
    "    plt.legend(['train loss', 'val loss'], loc='upper right')\n",
    "    plt.show()"
   ]
  },
  {
   "cell_type": "code",
   "execution_count": 3,
   "id": "efaa368b",
   "metadata": {
    "run_control": {
     "marked": true
    }
   },
   "outputs": [],
   "source": [
    "path='../signatures_full/train/forged'\n",
    "list_name =[]\n",
    "for root, dirs, files in os.walk(path):\n",
    "    list_name.extend(files)\n",
    "from collections import defaultdict\n",
    "#Does not raise KeyError. It provides a default value for the key that does not exists\n",
    "\n",
    "dic=defaultdict(list)\n",
    "\n",
    "\n",
    "for i in list_name:\n",
    "    filename,ext =os.path.splitext(i)\n",
    "    cat, group, img_index = filename.split('_')\n",
    "    dic[group].append(img_index)"
   ]
  },
  {
   "cell_type": "code",
   "execution_count": 4,
   "id": "c4b57c07",
   "metadata": {},
   "outputs": [],
   "source": [
    "# create a sub_directory called forged_person inside the forged directory if folder does not exist\n",
    "directory = 'forged_person'\n",
    "parent_dir = '../datasets/signatures_full/test/forged'\n",
    "path = os.path.join(parent_dir, directory)\n",
    "if not os.path.exists(path):\n",
    "    os.makedirs(path)"
   ]
  },
  {
   "cell_type": "code",
   "execution_count": 5,
   "id": "6a71f0fb",
   "metadata": {},
   "outputs": [],
   "source": [
    "#group every signature from each individual in one folder\n",
    "import shutil\n",
    "new_folder='../signatures_full/train/forged/forged_person'\n",
    "path='../signatures_full/train/forged'\n",
    "\n",
    "for i in dic:        \n",
    "        if not os.path.exists(os.path.join(new_folder,i)):\n",
    "            os.mkdir(os.path.join(new_folder,i))\n",
    "            for img in dic[i]:\n",
    "                old_image = os.path.join(path,'forgeries_{}_{}.png'.format(i,img))\n",
    "                new_image = r'{}.png'.format(img)\n",
    "                new_path =os.path.join(new_folder,i)\n",
    "\n",
    "                shutil.move(old_image,os.path.join(new_path,new_image)) #Recursively moves a file or directory to another location and returns the destination.\n",
    "                #If the destination directory already exists then src is moved inside that directory.\n",
    "                \n",
    "        else:\n",
    "            for img in dic[i]:\n",
    "                old_image = os.path.join(path,'forgeries_{}_{}.png'.format(i,img))\n",
    "                new_image = r'{}.png'.format(img)\n",
    "                new_path =os.path.join(new_folder,i)\n",
    "                print(new_path)\n",
    "                shutil.move(old_image,os.path.join(new_path,new_image))"
   ]
  },
  {
   "cell_type": "code",
   "execution_count": 6,
   "id": "cfe4f3bf",
   "metadata": {},
   "outputs": [],
   "source": [
    "path='../signatures_full/train/genuine'\n",
    "list_name_2 =[]\n",
    "for root, dirs, files in os.walk(path):\n",
    "    list_name_2.extend(files)\n",
    "from collections import defaultdict\n",
    "\n",
    "dic_2=defaultdict(list)\n",
    "\n",
    "\n",
    "for i in list_name_2:\n",
    "    filename,ext =os.path.splitext(i)\n",
    "    cat, group, img_index = filename.split('_')\n",
    "    dic_2[group].append(img_index)"
   ]
  },
  {
   "cell_type": "code",
   "execution_count": 7,
   "id": "8a740365",
   "metadata": {},
   "outputs": [],
   "source": [
    "# create a sub_directory called genuine_person inside the genuine directory\n",
    "directory = 'genuine_person'\n",
    "parent_dir = '../datasets/signatures_full/test/genuine'\n",
    "path = os.path.join(parent_dir, directory)\n",
    "if not os.path.exists(path):\n",
    "    os.makedirs(path)"
   ]
  },
  {
   "cell_type": "code",
   "execution_count": 8,
   "id": "3d749b9b",
   "metadata": {},
   "outputs": [],
   "source": [
    "#group every signature from each individual in one folder\n",
    "\n",
    "new_folder='../signatures_full/train/genuine_person'\n",
    "path='../signatures_full/train/genuine'\n",
    "\n",
    "for i in dic_2:        \n",
    "        if not os.path.exists(os.path.join(new_folder,i)):\n",
    "            os.mkdir(os.path.join(new_folder,i))\n",
    "            for img in dic_2[i]:\n",
    "                old_image = os.path.join(path,'original_{}_{}.png'.format(i,img))\n",
    "                new_image = r'{}.png'.format(img)\n",
    "                new_path =os.path.join(new_folder,i)\n",
    "\n",
    "                shutil.move(old_image,os.path.join(new_path,new_image))\n",
    "        else:\n",
    "            for img in dic_2[i]:\n",
    "                old_image = os.path.join(path,'original_{}_{}.png'.format(i,img))\n",
    "                new_image = r'{}.png'.format(img)\n",
    "                new_path =os.path.join(new_folder,i)\n",
    "                print(new_path)\n",
    "                shutil.move(old_image,os.path.join(new_path,new_image))"
   ]
  },
  {
   "cell_type": "code",
   "execution_count": null,
   "id": "a9ebf6d1",
   "metadata": {},
   "outputs": [],
   "source": []
  },
  {
   "cell_type": "code",
   "execution_count": 9,
   "id": "39b57c65",
   "metadata": {},
   "outputs": [],
   "source": [
    "# Create lists of different list of genuine signature images from a single person\n",
    "\n",
    "path = '../datasets/signatures_full/train/genuine/genuine_person'\n",
    "# create a list of directories containing signatures of each person\n",
    "dir_list_gen = next(os.walk(path))[1]  # root, folder, files\n",
    "# sort the list\n",
    "dir_list_gen.sort()\n",
    "# create an empty list\n",
    "orig_groups=[]\n",
    "for directory in dir_list_gen:\n",
    "    images = os.listdir(path+'/'+directory)\n",
    "    images.sort()\n",
    "    # list comprehension generating the file path of each img inside the dir\n",
    "    images = [path+'/'+directory+'/' + x for x in images]\n",
    "    orig_groups.append(images)  # appending the list inside the genuine list"
   ]
  },
  {
   "cell_type": "code",
   "execution_count": 10,
   "id": "8f54e9ba",
   "metadata": {},
   "outputs": [
    {
     "data": {
      "text/plain": [
       "['../datasets/signatures_full/train/genuine/genuine_person/11/1.png',\n",
       " '../datasets/signatures_full/train/genuine/genuine_person/11/10.png',\n",
       " '../datasets/signatures_full/train/genuine/genuine_person/11/11.png',\n",
       " '../datasets/signatures_full/train/genuine/genuine_person/11/12.png',\n",
       " '../datasets/signatures_full/train/genuine/genuine_person/11/13.png',\n",
       " '../datasets/signatures_full/train/genuine/genuine_person/11/14.png',\n",
       " '../datasets/signatures_full/train/genuine/genuine_person/11/15.png',\n",
       " '../datasets/signatures_full/train/genuine/genuine_person/11/16.png',\n",
       " '../datasets/signatures_full/train/genuine/genuine_person/11/17.png',\n",
       " '../datasets/signatures_full/train/genuine/genuine_person/11/18.png',\n",
       " '../datasets/signatures_full/train/genuine/genuine_person/11/19.png',\n",
       " '../datasets/signatures_full/train/genuine/genuine_person/11/2.png',\n",
       " '../datasets/signatures_full/train/genuine/genuine_person/11/20.png',\n",
       " '../datasets/signatures_full/train/genuine/genuine_person/11/3.png',\n",
       " '../datasets/signatures_full/train/genuine/genuine_person/11/4.png',\n",
       " '../datasets/signatures_full/train/genuine/genuine_person/11/5.png',\n",
       " '../datasets/signatures_full/train/genuine/genuine_person/11/6.png',\n",
       " '../datasets/signatures_full/train/genuine/genuine_person/11/7.png',\n",
       " '../datasets/signatures_full/train/genuine/genuine_person/11/8.png',\n",
       " '../datasets/signatures_full/train/genuine/genuine_person/11/9.png']"
      ]
     },
     "execution_count": 10,
     "metadata": {},
     "output_type": "execute_result"
    }
   ],
   "source": [
    "orig_groups[2]"
   ]
  },
  {
   "cell_type": "code",
   "execution_count": 11,
   "id": "04886a1e",
   "metadata": {},
   "outputs": [],
   "source": [
    "# Forged signature lists\n",
    "path = '../datasets/signatures_full/train/forged/forged_person'\n",
    "\n",
    "dir_list_forg = sorted(os.listdir(path))\n",
    "dir_list_forg.sort()\n",
    "\n",
    "forg_groups = []\n",
    "for directory in dir_list_forg:\n",
    "    images = os.listdir(path+'/'+directory)\n",
    "    images.sort()\n",
    "    images = [path+'/'+directory+'/'+x for x in images]\n",
    "    forg_groups.append(images)"
   ]
  },
  {
   "cell_type": "code",
   "execution_count": null,
   "id": "fdc5a06b",
   "metadata": {},
   "outputs": [],
   "source": []
  },
  {
   "cell_type": "code",
   "execution_count": 12,
   "id": "a633ef5b",
   "metadata": {},
   "outputs": [
    {
     "data": {
      "text/plain": [
       "(55, 55)"
      ]
     },
     "execution_count": 12,
     "metadata": {},
     "output_type": "execute_result"
    }
   ],
   "source": [
    "len(orig_groups), len(forg_groups)"
   ]
  },
  {
   "cell_type": "code",
   "execution_count": 13,
   "id": "3405e3eb",
   "metadata": {},
   "outputs": [
    {
     "name": "stdout",
     "output_type": "stream",
     "text": [
      "[20, 20, 20, 20, 20, 20, 20, 20, 20, 20, 20, 20, 20, 20, 20, 20, 20, 20, 20, 20, 20, 20, 20, 20, 20, 20, 20, 20, 20, 20, 20, 20, 20, 20, 20, 20, 20, 20, 20, 20, 20, 20, 20, 20, 20, 20, 20, 20, 20, 20, 20, 20, 20, 20, 20]\n",
      "[20, 20, 20, 20, 20, 20, 20, 20, 20, 20, 20, 20, 20, 20, 20, 20, 20, 20, 20, 20, 20, 20, 20, 20, 20, 20, 20, 20, 20, 20, 20, 20, 20, 20, 20, 20, 20, 20, 20, 20, 20, 20, 20, 20, 20, 20, 20, 20, 20, 20, 20, 20, 20, 20, 20]\n"
     ]
    }
   ],
   "source": [
    "#check the number of signatures per individual. Both genuine and forged\n",
    "orig_lengths = [len(x) for x in orig_groups]\n",
    "forg_lengths = [len(x) for x in forg_groups]\n",
    "print(orig_lengths)\n",
    "print(forg_lengths)"
   ]
  },
  {
   "cell_type": "code",
   "execution_count": 14,
   "id": "50c5057b",
   "metadata": {},
   "outputs": [],
   "source": [
    "#split data into training and validation\n",
    "#40 individuals for training and 15 for validation\n",
    "orig_train, orig_val = orig_groups[:40], orig_groups[40:]\n",
    "forg_train, forg_val = forg_groups[:40], forg_groups[40:]"
   ]
  },
  {
   "cell_type": "code",
   "execution_count": 15,
   "id": "13f7f269",
   "metadata": {},
   "outputs": [],
   "source": [
    "# All the images will be converted to the same size before processing\n",
    "img_h, img_w = 150,150"
   ]
  },
  {
   "cell_type": "code",
   "execution_count": 16,
   "id": "ffc3f7e1",
   "metadata": {},
   "outputs": [],
   "source": [
    "def generate_batch(orig_groups, forg_groups, batch_size = 32):\n",
    "    #Function to generate a batch of data with batch_size number of data points\n",
    "    #Half of the data points will be Genuine-Genuine pairs and half will be Genuine-Forged pairs\n",
    "    while True:\n",
    "        orig_pairs = []\n",
    "        forg_pairs = []\n",
    "        gen_gen_labels = []\n",
    "        gen_for_labels = []\n",
    "        all_pairs = []\n",
    "        all_labels = []\n",
    "        \n",
    "        # Here we create pairs of Genuine-Genuine image names and Genuine-Forged image names\n",
    "        # For every person we have 20 genuine signatures, hence we have \n",
    "        # 20 choose 2 = 190 Genuine-Genuine image pairs for one person.\n",
    "        # To make Genuine-Forged pairs, we pair every Genuine signature of a person\n",
    "        # with 12 randomly sampled Forged signatures of the same person.\n",
    "        # Thus we make 20 * 12 = 240 Genuine-Forged image pairs for one person.\n",
    "        # In all we have 40 person's data in the training data.\n",
    "        # Total no. of Genuine-Genuine pairs = 40 * 190= 7600\n",
    "        # Total number of Genuine-Forged pairs = 40 * 240 = 9600\n",
    "        # Total no. of data points = 7600 + 9600 = 17200\n",
    "        for orig, forg in zip(orig_groups, forg_groups):\n",
    "            orig_pairs.extend(list(itertools.combinations(orig, 2)))\n",
    "            for i in range(len(forg)):\n",
    "                forg_pairs.extend(list(itertools.product(orig[i:i+1], random.sample(forg, 12))))\n",
    "        \n",
    "        # Label for Genuine-Genuine pairs is 1\n",
    "        # Label for Genuine-Forged pairs is 0\n",
    "        gen_gen_labels = [1]*len(orig_pairs)\n",
    "        gen_for_labels = [0]*len(forg_pairs)\n",
    "        \n",
    "        # Concatenate all the pairs together along with their labels and shuffle them\n",
    "        all_pairs = orig_pairs + forg_pairs\n",
    "        all_labels = gen_gen_labels + gen_for_labels\n",
    "        del orig_pairs, forg_pairs, gen_gen_labels, gen_for_labels\n",
    "        all_pairs, all_labels = shuffle(all_pairs, all_labels)\n",
    "        \n",
    "        # Note the lists above contain only the image names and\n",
    "        # actual images are loaded and yielded below in batches\n",
    "        # Below we prepare a batch of data points and yield the batch\n",
    "        # In each batch we load \"batch_size\" number of image pairs\n",
    "        # These images are then removed from the original set so that\n",
    "        # they are not added again in the next batch.\n",
    "            \n",
    "        k = 0\n",
    "        pairs=[np.zeros((batch_size, img_h, img_w, 1)) for i in range(2)]\n",
    "        targets=np.zeros((batch_size,))\n",
    "        for ix, pair in enumerate(all_pairs):\n",
    "            img1 = cv2.imread(pair[0], 0)\n",
    "            img2 = cv2.imread(pair[1], 0)\n",
    "            img1 = cv2.resize(img1, (img_w, img_h))\n",
    "            img2 = cv2.resize(img2, (img_w, img_h))\n",
    "            img1 = np.array(img1, dtype = np.float64)\n",
    "            img2 = np.array(img2, dtype = np.float64)\n",
    "            img1 /= 255\n",
    "            img2 /= 255\n",
    "            img1 = img1[..., np.newaxis]\n",
    "            img2 = img2[..., np.newaxis]\n",
    "            pairs[0][k, :, :, :] = img1\n",
    "            pairs[1][k, :, :, :] = img2\n",
    "            targets[k] = all_labels[ix]\n",
    "            k += 1\n",
    "            if k == batch_size:\n",
    "                yield pairs, targets\n",
    "                k = 0\n",
    "                pairs=[np.zeros((batch_size, img_h, img_w, 1)) for i in range(2)]\n",
    "                targets=np.zeros((batch_size,))\n"
   ]
  },
  {
   "cell_type": "code",
   "execution_count": 17,
   "id": "ecffafcd",
   "metadata": {},
   "outputs": [],
   "source": [
    "def euclidean_distance(vects):\n",
    "    #Compute Euclidean Distance between two vectors\n",
    "    \n",
    "    x, y = vects\n",
    "    return K.sqrt(K.sum(K.square(x - y), axis=1, keepdims=True))"
   ]
  },
  {
   "cell_type": "code",
   "execution_count": 18,
   "id": "2a8f475b",
   "metadata": {},
   "outputs": [],
   "source": [
    "def eucl_dist_output_shape(shapes):\n",
    "    shape1, shape2 = shapes\n",
    "    return (shape1[0], 1)"
   ]
  },
  {
   "cell_type": "code",
   "execution_count": 19,
   "id": "39070a62",
   "metadata": {},
   "outputs": [],
   "source": [
    "def contrastive_loss(y_true, y_pred):          #contrastive_loss - This loss encourages the embedding to be close to each other for\n",
    "                                               #the samples of the same label and the embedding to be far apart at least\n",
    "                                               #by the margin constant for the samples of different labels\n",
    "\n",
    "    margin = 1\n",
    "    return K.mean(y_true * K.square(y_pred) + (1 - y_true) * K.square(K.maximum(margin - y_pred, 0)))"
   ]
  },
  {
   "cell_type": "code",
   "execution_count": 20,
   "id": "79a443d5",
   "metadata": {
    "run_control": {
     "marked": true
    }
   },
   "outputs": [],
   "source": [
    "def create_pairs(orig_groups, forg_groups):\n",
    "    orig_pairs = []\n",
    "    forg_pairs = []\n",
    "    gen_gen_labels = []\n",
    "    gen_for_labels = []\n",
    "    all_pairs = []\n",
    "    all_labels = []\n",
    "        \n",
    "    # Here we create pairs of Genuine-Genuine image names and Genuine-Forged image names\n",
    "    # For every person we have 20 genuine signatures, hence we have \n",
    "    # 20 choose 2 = 190 Genuine-Genuine image pairs for one person.\n",
    "    # To make Genuine-Forged pairs, we pair every Genuine signature of a person\n",
    "    # with 12 randomly sampled Forged signatures of the same person.\n",
    "    # Thus we make 20 * 12 = 240 Genuine-Forged image pairs for one person.\n",
    "    # In all we have 40 person's data in the training data.\n",
    "    # Total no. of Genuine-Genuine pairs = 40 * 190= 7600\n",
    "    # Total number of Genuine-Forged pairs = 40 * 240 = 9600\n",
    "    # Total no. of data points = 7600 + 9600 = 17200\n",
    "    for orig, forg in zip(orig_groups, forg_groups):\n",
    "        orig_pairs.extend(list(itertools.combinations(orig, 2)))\n",
    "        for i in range(len(forg)):\n",
    "            forg_pairs.extend(list(itertools.product(orig[i:i+1], random.sample(forg, 12))))\n",
    "        \n",
    "    # Label for Genuine-Genuine pairs is 1\n",
    "    # Label for Genuine-Forged pairs is 0\n",
    "    gen_gen_labels = [1]*len(orig_pairs)\n",
    "    gen_for_labels = [0]*len(forg_pairs)\n",
    "        \n",
    "    # Concatenate all the pairs together along with their labels and shuffle them\n",
    "    all_pairs = orig_pairs + forg_pairs\n",
    "    all_labels = gen_gen_labels + gen_for_labels\n",
    "    \n",
    "    return (all_pairs, all_labels)\n",
    "    \n"
   ]
  },
  {
   "cell_type": "code",
   "execution_count": 21,
   "id": "c477aeb2",
   "metadata": {},
   "outputs": [],
   "source": [
    "def batch_generator(X_pairs, y_labels, batch_size):\n",
    "    \"\"\"\"Returns a batch of images for the model to consume\n",
    "    \n",
    "    Args:\n",
    "        X_pairs (tuple[str, str]): List of tuples with two image filepaths\n",
    "        y_labels (List[int]): List of labels for pairs, 1 for similar and 0 for dissimilar\n",
    "    \n",
    "    Yields:\n",
    "        tuple[(ndarray, ndarray), ndarray]\n",
    "    \"\"\"\n",
    "    total_pairs = len(y_labels)\n",
    "    while True:\n",
    "        batch = []\n",
    "        labels = []\n",
    "        for i, ((img_filename_1, img_filename_2), label) in enumerate(zip(X_pairs, y_labels)):\n",
    "            img_1 = cv2.imread(img_filename_1)\n",
    "            img_2 = cv2.imread(img_filename_2)\n",
    "            img_1 = preprocess_image_inception_keras(img_1)\n",
    "            img_2 = preprocess_image_inception_keras(img_2)\n",
    "            batch.append([img_1, img_2])\n",
    "            labels.append(label)\n",
    "            if (i + 1) % batch_size == 0 or (i + 1) == total_pairs:\n",
    "                result = np.array(batch, dtype=np.float32)\n",
    "                yield ([result[:, 0], result[:, 1]], np.array(labels, dtype=np.float32))\n",
    "                result = None\n",
    "                batch = []\n",
    "                labels = []"
   ]
  },
  {
   "cell_type": "code",
   "execution_count": 22,
   "id": "9215ebae",
   "metadata": {},
   "outputs": [],
   "source": [
    "def preprocess_image_inception_keras(image_matrix):\n",
    "    X = np.array(image_matrix, dtype=np.float32)\n",
    "    return preprocess_input(X)"
   ]
  },
  {
   "cell_type": "code",
   "execution_count": 23,
   "id": "55187dbe",
   "metadata": {},
   "outputs": [],
   "source": [
    "X_train, y_train = create_pairs(orig_train, forg_train)\n",
    "X_val, y_val = create_pairs(orig_val, forg_val)"
   ]
  },
  {
   "cell_type": "code",
   "execution_count": 24,
   "id": "f2ac43a0",
   "metadata": {},
   "outputs": [],
   "source": [
    "def euclidean_distance(vects):\n",
    "    x, y = vects\n",
    "    return K.sqrt(K.maximum(K.sum(K.square(x - y), axis=1, keepdims=True), K.epsilon()))"
   ]
  },
  {
   "cell_type": "code",
   "execution_count": 25,
   "id": "28d22ab0",
   "metadata": {},
   "outputs": [],
   "source": [
    "def eucl_dist_output_shape(shapes):\n",
    "    shape1, shape2 = shapes\n",
    "    return (shape1[0], 1)"
   ]
  },
  {
   "cell_type": "code",
   "execution_count": 26,
   "id": "ca20740e",
   "metadata": {},
   "outputs": [],
   "source": [
    "def create_base_network(input_shape, model_name, freeze_layers_until=None):\n",
    "    \"\"\"Get the base network to do the feature extract for the latent embedding\n",
    "    \n",
    "    Args:\n",
    "        input_shape (tuple): Shape of image tensor input\n",
    "        \n",
    "    Returns:\n",
    "        keras.models.Model\n",
    "    \"\"\"\n",
    "    input = Input(shape=input_shape)\n",
    "    model = model_name(weights='imagenet', input_tensor=input)\n",
    "    model.layers.pop()  # Remove classification layer\n",
    "\n",
    "    if freeze_layers_until:\n",
    "        assert freeze_layers_until in [l.name for l in model.layers]\n",
    "        for layer in model.layers:\n",
    "            layer.trainable = False\n",
    "            if type(layer) == 'BatchNormalization':\n",
    "                layer.momentum = 1.0\n",
    "            if layer.name == freeze_layers_until:\n",
    "                break\n",
    "\n",
    "    model = Model(inputs=[input], outputs=[model.layers[-1].output], name='embedding_model')\n",
    "    return model"
   ]
  },
  {
   "cell_type": "code",
   "execution_count": 27,
   "id": "46a9e077",
   "metadata": {},
   "outputs": [],
   "source": [
    "def compute_accuracy(y_true, y_pred):\n",
    "    \"\"\"Compute classification accuracy with a fixed threshold on distances.\"\"\"\n",
    "    pred = y_pred.ravel() < 0.5\n",
    "    return np.mean(pred == y_true)"
   ]
  },
  {
   "cell_type": "code",
   "execution_count": 28,
   "id": "47f8b4f4",
   "metadata": {},
   "outputs": [],
   "source": [
    "def accuracy(y_true, y_pred):\n",
    "    \"\"\"Compute classification accuracy with a fixed threshold on distances.\"\"\"\n",
    "    return K.mean(K.equal(y_true, K.cast(y_pred < 0.5, y_true.dtype)))"
   ]
  },
  {
   "cell_type": "code",
   "execution_count": 29,
   "id": "36992d3b",
   "metadata": {},
   "outputs": [],
   "source": [
    "# Don't change these unless you know what you are doing\n",
    "IMAGE_SHAPE = (150, 150, 3)\n",
    "IMAGE_SIZE = IMAGE_SHAPE[:2]\n",
    "EVAL_PERCENT = 0.3"
   ]
  },
  {
   "cell_type": "code",
   "execution_count": null,
   "id": "feaa946d",
   "metadata": {},
   "outputs": [],
   "source": []
  },
  {
   "cell_type": "code",
   "execution_count": 30,
   "id": "72c351e1",
   "metadata": {},
   "outputs": [],
   "source": [
    "# Grab the Inception ResNet V2 model pretrained on image net\n",
    "# Freeze layers up to mixed_6a for faster training and less overfitting\n",
    "base_network = create_base_network(IMAGE_SHAPE, InceptionResNetV2, 'mixed_6a')\n",
    "\n",
    "# Create two inputs for both images from pairs\n",
    "input_a = Input(shape=IMAGE_SHAPE)\n",
    "input_b = Input(shape=IMAGE_SHAPE)"
   ]
  },
  {
   "cell_type": "code",
   "execution_count": 31,
   "id": "695c3fdd",
   "metadata": {},
   "outputs": [],
   "source": [
    "# Connect the same base_network created above to the two image inputs\n",
    "processed_a = base_network(input_a)\n",
    "processed_b = base_network(input_b)\n",
    "\n",
    "# Get the distance between the two input images\n",
    "distance = Lambda(euclidean_distance,\n",
    "                  output_shape=eucl_dist_output_shape)([processed_a, processed_b])\n",
    "\n",
    "# Create a model which takes in a pair of images and returns the distance\n",
    "model = Model([input_a, input_b], distance)"
   ]
  },
  {
   "cell_type": "code",
   "execution_count": null,
   "id": "38ada277",
   "metadata": {},
   "outputs": [],
   "source": [
    "# Create callback functions to call after every epoch\n",
    "ckpt_dir = 'checkpoints'\n",
    "if not os.path.exists(ckpt_dir):\n",
    "    os.mkdir(ckpt_dir)\n",
    "ckpt_pattern = os.path.join(ckpt_dir, 'weights.{epoch:02d}-{val_loss:.5f}.hdf5')\n",
    "\n",
    "callbacks = [\n",
    "    ModelCheckpoint(ckpt_pattern,\n",
    "                    monitor='val_loss',\n",
    "                    save_best_only=True),\n",
    "    ReduceLROnPlateau('loss', factor=0.5, patience=3, verbose=1, min_lr=1e-7)\n",
    "]"
   ]
  },
  {
   "cell_type": "code",
   "execution_count": 33,
   "id": "5937f725",
   "metadata": {
    "run_control": {
     "marked": true
    }
   },
   "outputs": [
    {
     "name": "stdout",
     "output_type": "stream",
     "text": [
      "Model: \"model\"\n",
      "__________________________________________________________________________________________________\n",
      " Layer (type)                   Output Shape         Param #     Connected to                     \n",
      "==================================================================================================\n",
      " input_2 (InputLayer)           [(None, 150, 150, 3  0           []                               \n",
      "                                )]                                                                \n",
      "                                                                                                  \n",
      " input_3 (InputLayer)           [(None, 150, 150, 3  0           []                               \n",
      "                                )]                                                                \n",
      "                                                                                                  \n",
      " embedding_model (Functional)   (None, 1000)         55873736    ['input_2[0][0]',                \n",
      "                                                                  'input_3[0][0]']                \n",
      "                                                                                                  \n",
      " lambda (Lambda)                (None, 1)            0           ['embedding_model[0][0]',        \n",
      "                                                                  'embedding_model[1][0]']        \n",
      "                                                                                                  \n",
      "==================================================================================================\n",
      "Total params: 55,873,736\n",
      "Trainable params: 51,480,168\n",
      "Non-trainable params: 4,393,568\n",
      "__________________________________________________________________________________________________\n"
     ]
    }
   ],
   "source": [
    "init_learning_rate = 0.0005\n",
    "rms = RMSprop(learning_rate=init_learning_rate)\n",
    "model.compile(loss=contrastive_loss, optimizer=rms, metrics=[accuracy])\n",
    "model.summary()"
   ]
  },
  {
   "cell_type": "code",
   "execution_count": 34,
   "id": "f133a3e2",
   "metadata": {
    "run_control": {
     "marked": true
    }
   },
   "outputs": [
    {
     "name": "stdout",
     "output_type": "stream",
     "text": [
      "Epoch 1/20\n",
      "537/537 [==============================] - 253s 423ms/step - loss: 0.0882 - accuracy: 0.8897 - val_loss: 0.5134 - val_accuracy: 0.4646 - lr: 5.0000e-04\n",
      "Epoch 2/20\n",
      "537/537 [==============================] - 224s 415ms/step - loss: 0.0584 - accuracy: 0.9208 - val_loss: 0.5544 - val_accuracy: 0.4453 - lr: 5.0000e-04\n",
      "Epoch 3/20\n",
      "537/537 [==============================] - 226s 422ms/step - loss: 0.0430 - accuracy: 0.9374 - val_loss: 0.5218 - val_accuracy: 0.5292 - lr: 5.0000e-04\n",
      "Epoch 4/20\n",
      "537/537 [==============================] - 226s 422ms/step - loss: 0.0669 - accuracy: 0.9175 - val_loss: 0.5293 - val_accuracy: 0.4557 - lr: 5.0000e-04\n",
      "Epoch 5/20\n",
      "537/537 [==============================] - 224s 416ms/step - loss: 0.0507 - accuracy: 0.9398 - val_loss: 0.5492 - val_accuracy: 0.5622 - lr: 5.0000e-04\n",
      "Epoch 6/20\n",
      "537/537 [==============================] - 223s 416ms/step - loss: 0.0298 - accuracy: 0.9614 - val_loss: 0.5452 - val_accuracy: 0.4579 - lr: 5.0000e-04\n",
      "Epoch 7/20\n",
      "537/537 [==============================] - 224s 416ms/step - loss: 0.0480 - accuracy: 0.9395 - val_loss: 0.5274 - val_accuracy: 0.5045 - lr: 5.0000e-04\n",
      "Epoch 8/20\n",
      "537/537 [==============================] - 225s 419ms/step - loss: 0.1406 - accuracy: 0.8482 - val_loss: 0.5409 - val_accuracy: 0.5131 - lr: 5.0000e-04\n",
      "Epoch 9/20\n",
      "537/537 [==============================] - ETA: 0s - loss: 0.0879 - accuracy: 0.8951\n",
      "Epoch 9: ReduceLROnPlateau reducing learning rate to 0.0002500000118743628.\n",
      "537/537 [==============================] - 222s 414ms/step - loss: 0.0879 - accuracy: 0.8951 - val_loss: 0.5534 - val_accuracy: 0.4507 - lr: 5.0000e-04\n",
      "Epoch 10/20\n",
      "537/537 [==============================] - 224s 417ms/step - loss: 0.1037 - accuracy: 0.8803 - val_loss: 0.5307 - val_accuracy: 0.5168 - lr: 2.5000e-04\n",
      "Epoch 11/20\n",
      "537/537 [==============================] - 226s 420ms/step - loss: 0.0787 - accuracy: 0.9161 - val_loss: 0.5301 - val_accuracy: 0.5107 - lr: 2.5000e-04\n",
      "Epoch 12/20\n",
      "537/537 [==============================] - ETA: 0s - loss: 0.0330 - accuracy: 0.9627\n",
      "Epoch 12: ReduceLROnPlateau reducing learning rate to 0.0001250000059371814.\n",
      "537/537 [==============================] - 225s 419ms/step - loss: 0.0330 - accuracy: 0.9627 - val_loss: 0.5521 - val_accuracy: 0.4841 - lr: 2.5000e-04\n",
      "Epoch 13/20\n",
      "537/537 [==============================] - 222s 414ms/step - loss: 0.0959 - accuracy: 0.9001 - val_loss: 0.5442 - val_accuracy: 0.4913 - lr: 1.2500e-04\n",
      "Epoch 14/20\n",
      "537/537 [==============================] - 223s 415ms/step - loss: 0.0604 - accuracy: 0.9361 - val_loss: 0.5419 - val_accuracy: 0.5006 - lr: 1.2500e-04\n",
      "Epoch 15/20\n",
      "537/537 [==============================] - ETA: 0s - loss: 0.0931 - accuracy: 0.9003\n",
      "Epoch 15: ReduceLROnPlateau reducing learning rate to 6.25000029685907e-05.\n",
      "537/537 [==============================] - 224s 417ms/step - loss: 0.0931 - accuracy: 0.9003 - val_loss: 0.5553 - val_accuracy: 0.4420 - lr: 1.2500e-04\n",
      "Epoch 16/20\n",
      "537/537 [==============================] - 222s 414ms/step - loss: 0.0637 - accuracy: 0.9287 - val_loss: 0.5521 - val_accuracy: 0.4431 - lr: 6.2500e-05\n",
      "Epoch 17/20\n",
      "537/537 [==============================] - 224s 416ms/step - loss: 0.0759 - accuracy: 0.9168 - val_loss: 0.5539 - val_accuracy: 0.4431 - lr: 6.2500e-05\n",
      "Epoch 18/20\n",
      "537/537 [==============================] - ETA: 0s - loss: 0.1427 - accuracy: 0.8478\n",
      "Epoch 18: ReduceLROnPlateau reducing learning rate to 3.125000148429535e-05.\n",
      "537/537 [==============================] - 222s 414ms/step - loss: 0.1427 - accuracy: 0.8478 - val_loss: 0.5539 - val_accuracy: 0.4431 - lr: 6.2500e-05\n",
      "Epoch 19/20\n",
      "537/537 [==============================] - 224s 417ms/step - loss: 0.2766 - accuracy: 0.6968 - val_loss: 0.5542 - val_accuracy: 0.4431 - lr: 3.1250e-05\n",
      "Epoch 20/20\n",
      "537/537 [==============================] - 222s 413ms/step - loss: 0.1712 - accuracy: 0.8024 - val_loss: 0.5551 - val_accuracy: 0.4431 - lr: 3.1250e-05\n"
     ]
    }
   ],
   "source": [
    "history = model.fit(batch_generator(X_train, y_train, 32),\n",
    "          steps_per_epoch=len(X_train) // 32,\n",
    "          epochs=20,\n",
    "          callbacks=callbacks,\n",
    "          validation_data=batch_generator(X_val, y_val, 32),\n",
    "          validation_steps=len(y_val) // 32)"
   ]
  },
  {
   "cell_type": "code",
   "execution_count": 39,
   "id": "6f92ccf6",
   "metadata": {},
   "outputs": [
    {
     "data": {
      "image/png": "[encoded data removed]",
      "text/plain": [
       "<Figure size 432x288 with 1 Axes>"
      ]
     },
     "metadata": {
      "needs_background": "light"
     },
     "output_type": "display_data"
    }
   ],
   "source": [
    "plot_history(history)"
   ]
  },
  {
   "cell_type": "code",
   "execution_count": 40,
   "id": "0621c6a0",
   "metadata": {},
   "outputs": [],
   "source": [
    "# Save the final model\n",
    "model.save(os.path.join(ckpt_dir, 'final_model.hdf5'))"
   ]
  },
  {
   "cell_type": "code",
   "execution_count": null,
   "id": "e5673f6c",
   "metadata": {},
   "outputs": [],
   "source": []
  },
  {
   "cell_type": "code",
   "execution_count": 35,
   "id": "1efe59f5",
   "metadata": {},
   "outputs": [],
   "source": [
    "callbacks = [\n",
    "    EarlyStopping(monitor='val_loss', patience=3, verbose=1, restore_best_weights=True),\n",
    "    # ReduceLROnPlateau(factor=0.1, patience=3, min_lr=0.000001, verbose=1),\n",
    "    ModelCheckpoint(\n",
    "        '../weights/inception_resnetv2-model-{epoch:02d}.h5', verbose=1, save_weights_only=True)\n",
    "]"
   ]
  },
  {
   "cell_type": "code",
   "execution_count": 36,
   "id": "199b9839",
   "metadata": {
    "run_control": {
     "marked": true
    },
    "scrolled": false
   },
   "outputs": [
    {
     "name": "stdout",
     "output_type": "stream",
     "text": [
      "Model: \"model\"\n",
      "__________________________________________________________________________________________________\n",
      " Layer (type)                   Output Shape         Param #     Connected to                     \n",
      "==================================================================================================\n",
      " input_2 (InputLayer)           [(None, 150, 150, 3  0           []                               \n",
      "                                )]                                                                \n",
      "                                                                                                  \n",
      " input_3 (InputLayer)           [(None, 150, 150, 3  0           []                               \n",
      "                                )]                                                                \n",
      "                                                                                                  \n",
      " embedding_model (Functional)   (None, 1000)         55873736    ['input_2[0][0]',                \n",
      "                                                                  'input_3[0][0]']                \n",
      "                                                                                                  \n",
      " lambda (Lambda)                (None, 1)            0           ['embedding_model[0][0]',        \n",
      "                                                                  'embedding_model[1][0]']        \n",
      "                                                                                                  \n",
      "==================================================================================================\n",
      "Total params: 55,873,736\n",
      "Trainable params: 51,480,168\n",
      "Non-trainable params: 4,393,568\n",
      "__________________________________________________________________________________________________\n"
     ]
    }
   ],
   "source": [
    "init_learning_rate = 1e-3\n",
    "rms = RMSprop(learning_rate=init_learning_rate)\n",
    "model.compile(loss=contrastive_loss, optimizer=rms, metrics=[accuracy])\n",
    "model.summary()"
   ]
  },
  {
   "cell_type": "code",
   "execution_count": null,
   "id": "01d40fb4",
   "metadata": {},
   "outputs": [
    {
     "name": "stdout",
     "output_type": "stream",
     "text": [
      "Epoch 1/30\n"
     ]
    }
   ],
   "source": [
    "history = model.fit(batch_generator(X_train, y_train, 32),\n",
    "                    steps_per_epoch=len(X_train) // 32,\n",
    "                    epochs=30,\n",
    "                    callbacks=callbacks,\n",
    "                    validation_data=batch_generator(X_val, y_val, 32),\n",
    "                    validation_steps=len(y_val) // 32)"
   ]
  },
  {
   "cell_type": "code",
   "execution_count": null,
   "id": "f0f082fb",
   "metadata": {},
   "outputs": [],
   "source": [
    "plot_history(history)"
   ]
  },
  {
   "cell_type": "code",
   "execution_count": null,
   "id": "fd7bdebf",
   "metadata": {},
   "outputs": [],
   "source": []
  }
 ],
 "metadata": {
  "kernelspec": {
   "display_name": "Python 3 (ipykernel)",
   "language": "python",
   "name": "python3"
  },
  "language_info": {
   "codemirror_mode": {
    "name": "ipython",
    "version": 3
   },
   "file_extension": ".py",
   "mimetype": "text/x-python",
   "name": "python",
   "nbconvert_exporter": "python",
   "pygments_lexer": "ipython3",
   "version": "3.9.7"
  },
  "toc": {
   "base_numbering": 1,
   "nav_menu": {},
   "number_sections": true,
   "sideBar": true,
   "skip_h1_title": false,
   "title_cell": "Table of Contents",
   "title_sidebar": "Contents",
   "toc_cell": false,
   "toc_position": {
    "height": "calc(100% - 180px)",
    "left": "10px",
    "top": "150px",
    "width": "165px"
   },
   "toc_section_display": true,
   "toc_window_display": true
  },
  "varInspector": {
   "cols": {
    "lenName": 16,
    "lenType": 16,
    "lenVar": 40
   },
   "kernels_config": {
    "python": {
     "delete_cmd_postfix": "",
     "delete_cmd_prefix": "del ",
     "library": "var_list.py",
     "varRefreshCmd": "print(var_dic_list())"
    },
    "r": {
     "delete_cmd_postfix": ") ",
     "delete_cmd_prefix": "rm(",
     "library": "var_list.r",
     "varRefreshCmd": "cat(var_dic_list()) "
    }
   },
   "types_to_exclude": [
    "module",
    "function",
    "builtin_function_or_method",
    "instance",
    "_Feature"
   ],
   "window_display": false
  }
 },
 "nbformat": 4,
 "nbformat_minor": 5
}
