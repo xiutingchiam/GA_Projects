{
 "cells": [
  {
   "cell_type": "code",
   "execution_count": 11,
   "id": "7f8f3fb7",
   "metadata": {},
   "outputs": [
    {
     "data": {
      "text/plain": [
       "[PhysicalDevice(name='/physical_device:GPU:0', device_type='GPU')]"
      ]
     },
     "execution_count": 11,
     "metadata": {},
     "output_type": "execute_result"
    }
   ],
   "source": [
    "import warnings\n",
    "warnings.filterwarnings('ignore')\n",
    "\n",
    "import tensorflow as tf\n",
    "import matplotlib.pyplot as plt\n",
    "import matplotlib.gridspec as gridspec\n",
    "import numpy as np\n",
    "import random\n",
    "import os\n",
    "import glob\n",
    "\n",
    "from datetime import datetime\n",
    "from tensorflow.keras.models import model_from_json\n",
    "from tensorflow.keras.callbacks import Callback, CSVLogger, ModelCheckpoint\n",
    "from tensorflow.keras.optimizers import Adam\n",
    "from tensorflow.keras.layers import Activation, Input, concatenate\n",
    "from tensorflow.keras.layers import Layer, BatchNormalization, MaxPooling2D, Concatenate, Lambda, Flatten, Dense\n",
    "from tensorflow.keras.initializers import glorot_uniform, he_uniform\n",
    "from tensorflow.keras.regularizers import l2\n",
    "\n",
    "from sklearn.decomposition import PCA\n",
    "from sklearn.metrics import roc_curve, roc_auc_score\n",
    "import math\n",
    "import json\n",
    "\n",
    "# connect to gpu\n",
    "import tensorflow as tf\n",
    "from tensorflow.python.client import device_lib\n",
    "tf.config.list_physical_devices('GPU')"
   ]
  },
  {
   "cell_type": "code",
   "execution_count": 27,
   "id": "509844ec",
   "metadata": {},
   "outputs": [
    {
     "ename": "AttributeError",
     "evalue": "'google.protobuf.pyext._message.FieldProperty' object has no attribute 'allow_growth'",
     "output_type": "error",
     "traceback": [
      "\u001b[1;31m---------------------------------------------------------------------------\u001b[0m",
      "\u001b[1;31mAttributeError\u001b[0m                            Traceback (most recent call last)",
      "\u001b[1;32m~\\AppData\\Local\\Temp/ipykernel_15664/595788734.py\u001b[0m in \u001b[0;36m<module>\u001b[1;34m\u001b[0m\n\u001b[0;32m      1\u001b[0m \u001b[0mconfig\u001b[0m \u001b[1;33m=\u001b[0m \u001b[0mtf\u001b[0m\u001b[1;33m.\u001b[0m\u001b[0mcompat\u001b[0m\u001b[1;33m.\u001b[0m\u001b[0mv1\u001b[0m\u001b[1;33m.\u001b[0m\u001b[0mConfigProto\u001b[0m\u001b[1;33m\u001b[0m\u001b[1;33m\u001b[0m\u001b[0m\n\u001b[1;32m----> 2\u001b[1;33m \u001b[0mconfig\u001b[0m\u001b[1;33m.\u001b[0m\u001b[0mgpu_options\u001b[0m\u001b[1;33m.\u001b[0m\u001b[0mallow_growth\u001b[0m \u001b[1;33m=\u001b[0m \u001b[1;32mTrue\u001b[0m\u001b[1;33m\u001b[0m\u001b[1;33m\u001b[0m\u001b[0m\n\u001b[0m\u001b[0;32m      3\u001b[0m \u001b[0msess\u001b[0m \u001b[1;33m=\u001b[0m \u001b[0mtf\u001b[0m\u001b[1;33m.\u001b[0m\u001b[0mSession\u001b[0m\u001b[1;33m(\u001b[0m\u001b[0mconfig\u001b[0m\u001b[1;33m=\u001b[0m\u001b[0mconfig\u001b[0m\u001b[1;33m)\u001b[0m\u001b[1;33m\u001b[0m\u001b[1;33m\u001b[0m\u001b[0m\n\u001b[0;32m      4\u001b[0m \u001b[0mK\u001b[0m\u001b[1;33m.\u001b[0m\u001b[0mset_session\u001b[0m\u001b[1;33m(\u001b[0m\u001b[0msess\u001b[0m\u001b[1;33m)\u001b[0m\u001b[1;33m\u001b[0m\u001b[1;33m\u001b[0m\u001b[0m\n\u001b[0;32m      5\u001b[0m \u001b[1;33m\u001b[0m\u001b[0m\n",
      "\u001b[1;31mAttributeError\u001b[0m: 'google.protobuf.pyext._message.FieldProperty' object has no attribute 'allow_growth'"
     ]
    }
   ],
   "source": [
    "config = tf.compat.v1.ConfigProto\n",
    "config.gpu_options.allow_growth = True\n",
    "sess = tf.Session(config=config)\n",
    "K.set_session(sess)\n",
    "\n",
    "logging.basicConfig(level=logging.WARNING)\n",
    "log = logging.getLogger()"
   ]
  },
  {
   "cell_type": "code",
   "execution_count": null,
   "id": "377a7385",
   "metadata": {},
   "outputs": [],
   "source": []
  },
  {
   "cell_type": "code",
   "execution_count": null,
   "id": "cfe27118",
   "metadata": {},
   "outputs": [],
   "source": []
  },
  {
   "cell_type": "code",
   "execution_count": null,
   "id": "124f8096",
   "metadata": {},
   "outputs": [],
   "source": []
  },
  {
   "cell_type": "code",
   "execution_count": null,
   "id": "17ffd5fa",
   "metadata": {},
   "outputs": [],
   "source": []
  },
  {
   "cell_type": "code",
   "execution_count": null,
   "id": "5cb2bae1",
   "metadata": {},
   "outputs": [],
   "source": []
  },
  {
   "cell_type": "code",
   "execution_count": 12,
   "id": "1737ce7c",
   "metadata": {},
   "outputs": [],
   "source": [
    "path='../signatures_full/train/forged'\n",
    "list_name =[]\n",
    "for root, dirs, files in os.walk(path):\n",
    "    list_name.extend(files)\n",
    "from collections import defaultdict\n",
    "#Does not raise KeyError. It provides a default value for the key that does not exists\n",
    "\n",
    "dic=defaultdict(list)\n",
    "\n",
    "\n",
    "for i in list_name:\n",
    "    filename,ext =os.path.splitext(i)\n",
    "    cat, group, img_index = filename.split('_')\n",
    "    dic[group].append(img_index)"
   ]
  },
  {
   "cell_type": "code",
   "execution_count": 13,
   "id": "cee2e7d8",
   "metadata": {},
   "outputs": [],
   "source": [
    "# create a sub_directory called forged_person inside the forged directory if folder does not exist\n",
    "directory = 'forged_person'\n",
    "parent_dir = '../datasets/signatures_full/test/forged'\n",
    "path = os.path.join(parent_dir, directory)\n",
    "if not os.path.exists(path):\n",
    "    os.makedirs(path)"
   ]
  },
  {
   "cell_type": "code",
   "execution_count": 14,
   "id": "b572fea1",
   "metadata": {},
   "outputs": [],
   "source": [
    "#group every signature from each individual in one folder\n",
    "import shutil\n",
    "new_folder='../signatures_full/train/forged/forged_person'\n",
    "path='../signatures_full/train/forged'\n",
    "\n",
    "for i in dic:        \n",
    "        if not os.path.exists(os.path.join(new_folder,i)):\n",
    "            os.mkdir(os.path.join(new_folder,i))\n",
    "            for img in dic[i]:\n",
    "                old_image = os.path.join(path,'forgeries_{}_{}.png'.format(i,img))\n",
    "                new_image = r'{}.png'.format(img)\n",
    "                new_path =os.path.join(new_folder,i)\n",
    "\n",
    "                shutil.move(old_image,os.path.join(new_path,new_image)) #Recursively moves a file or directory to another location and returns the destination.\n",
    "                #If the destination directory already exists then src is moved inside that directory.\n",
    "                \n",
    "        else:\n",
    "            for img in dic[i]:\n",
    "                old_image = os.path.join(path,'forgeries_{}_{}.png'.format(i,img))\n",
    "                new_image = r'{}.png'.format(img)\n",
    "                new_path =os.path.join(new_folder,i)\n",
    "                print(new_path)\n",
    "                shutil.move(old_image,os.path.join(new_path,new_image))"
   ]
  },
  {
   "cell_type": "code",
   "execution_count": 15,
   "id": "a652db39",
   "metadata": {},
   "outputs": [],
   "source": [
    "path='../signatures_full/train/genuine'\n",
    "list_name_2 =[]\n",
    "for root, dirs, files in os.walk(path):\n",
    "    list_name_2.extend(files)\n",
    "from collections import defaultdict\n",
    "\n",
    "dic_2=defaultdict(list)\n",
    "\n",
    "\n",
    "for i in list_name_2:\n",
    "    filename,ext =os.path.splitext(i)\n",
    "    cat, group, img_index = filename.split('_')\n",
    "    dic_2[group].append(img_index)"
   ]
  },
  {
   "cell_type": "code",
   "execution_count": 16,
   "id": "e5252315",
   "metadata": {},
   "outputs": [],
   "source": [
    "# create a sub_directory called genuine_person inside the genuine directory\n",
    "directory = 'genuine_person'\n",
    "parent_dir = '../datasets/signatures_full/test/genuine'\n",
    "path = os.path.join(parent_dir, directory)\n",
    "if not os.path.exists(path):\n",
    "    os.makedirs(path)"
   ]
  },
  {
   "cell_type": "code",
   "execution_count": 17,
   "id": "1635f340",
   "metadata": {},
   "outputs": [],
   "source": [
    "#group every signature from each individual in one folder\n",
    "\n",
    "new_folder='../signatures_full/train/genuine_person'\n",
    "path='../signatures_full/train/genuine'\n",
    "\n",
    "for i in dic_2:        \n",
    "        if not os.path.exists(os.path.join(new_folder,i)):\n",
    "            os.mkdir(os.path.join(new_folder,i))\n",
    "            for img in dic_2[i]:\n",
    "                old_image = os.path.join(path,'original_{}_{}.png'.format(i,img))\n",
    "                new_image = r'{}.png'.format(img)\n",
    "                new_path =os.path.join(new_folder,i)\n",
    "\n",
    "                shutil.move(old_image,os.path.join(new_path,new_image))\n",
    "        else:\n",
    "            for img in dic_2[i]:\n",
    "                old_image = os.path.join(path,'original_{}_{}.png'.format(i,img))\n",
    "                new_image = r'{}.png'.format(img)\n",
    "                new_path =os.path.join(new_folder,i)\n",
    "                print(new_path)\n",
    "                shutil.move(old_image,os.path.join(new_path,new_image))"
   ]
  },
  {
   "cell_type": "code",
   "execution_count": 18,
   "id": "33d3246c",
   "metadata": {},
   "outputs": [],
   "source": [
    "# Create lists of different list of genuine signature images from a single person\n",
    "\n",
    "path = '../datasets/signatures_full/train/genuine/genuine_person'\n",
    "# create a list of directories containing signatures of each person\n",
    "dir_list_gen = next(os.walk(path))[1]  # root, folder, files\n",
    "# sort the list\n",
    "dir_list_gen.sort()\n",
    "# create an empty list\n",
    "orig_groups=[]\n",
    "for directory in dir_list_gen:\n",
    "    images = os.listdir(path+'/'+directory)\n",
    "    images.sort()\n",
    "    # list comprehension generating the file path of each img inside the dir\n",
    "    images = [path+'/'+directory+'/' + x for x in images]\n",
    "    orig_groups.append(images)  # appending the list inside the genuine list"
   ]
  },
  {
   "cell_type": "code",
   "execution_count": 19,
   "id": "b3967104",
   "metadata": {},
   "outputs": [],
   "source": [
    "# Forged signature lists\n",
    "path = '../datasets/signatures_full/train/forged/forged_person'\n",
    "\n",
    "dir_list_forg = sorted(os.listdir(path))\n",
    "dir_list_forg.sort()\n",
    "\n",
    "forg_groups = []\n",
    "for directory in dir_list_forg:\n",
    "    images = os.listdir(path+'/'+directory)\n",
    "    images.sort()\n",
    "    images = [path+'/'+directory+'/'+x for x in images]\n",
    "    forg_groups.append(images)"
   ]
  },
  {
   "cell_type": "code",
   "execution_count": 20,
   "id": "efc66630",
   "metadata": {},
   "outputs": [
    {
     "data": {
      "text/plain": [
       "(55, 55)"
      ]
     },
     "execution_count": 20,
     "metadata": {},
     "output_type": "execute_result"
    }
   ],
   "source": [
    "len(orig_groups), len(forg_groups)"
   ]
  },
  {
   "cell_type": "code",
   "execution_count": 21,
   "id": "bd23aad8",
   "metadata": {},
   "outputs": [
    {
     "name": "stdout",
     "output_type": "stream",
     "text": [
      "[20, 20, 20, 20, 20, 20, 20, 20, 20, 20, 20, 20, 20, 20, 20, 20, 20, 20, 20, 20, 20, 20, 20, 20, 20, 20, 20, 20, 20, 20, 20, 20, 20, 20, 20, 20, 20, 20, 20, 20, 20, 20, 20, 20, 20, 20, 20, 20, 20, 20, 20, 20, 20, 20, 20]\n",
      "[20, 20, 20, 20, 20, 20, 20, 20, 20, 20, 20, 20, 20, 20, 20, 20, 20, 20, 20, 20, 20, 20, 20, 20, 20, 20, 20, 20, 20, 20, 20, 20, 20, 20, 20, 20, 20, 20, 20, 20, 20, 20, 20, 20, 20, 20, 20, 20, 20, 20, 20, 20, 20, 20, 20]\n"
     ]
    }
   ],
   "source": [
    "#check the number of signatures per individual. Both genuine and forged\n",
    "orig_lengths = [len(x) for x in orig_groups]\n",
    "forg_lengths = [len(x) for x in forg_groups]\n",
    "print(orig_lengths)\n",
    "print(forg_lengths)"
   ]
  },
  {
   "cell_type": "code",
   "execution_count": null,
   "id": "bb85287f",
   "metadata": {},
   "outputs": [],
   "source": []
  },
  {
   "cell_type": "code",
   "execution_count": null,
   "id": "59354d9c",
   "metadata": {},
   "outputs": [],
   "source": []
  }
 ],
 "metadata": {
  "kernelspec": {
   "display_name": "Python 3 (ipykernel)",
   "language": "python",
   "name": "python3"
  },
  "language_info": {
   "codemirror_mode": {
    "name": "ipython",
    "version": 3
   },
   "file_extension": ".py",
   "mimetype": "text/x-python",
   "name": "python",
   "nbconvert_exporter": "python",
   "pygments_lexer": "ipython3",
   "version": "3.9.7"
  },
  "toc": {
   "base_numbering": 1,
   "nav_menu": {},
   "number_sections": true,
   "sideBar": true,
   "skip_h1_title": false,
   "title_cell": "Table of Contents",
   "title_sidebar": "Contents",
   "toc_cell": false,
   "toc_position": {},
   "toc_section_display": true,
   "toc_window_display": false
  },
  "varInspector": {
   "cols": {
    "lenName": 16,
    "lenType": 16,
    "lenVar": 40
   },
   "kernels_config": {
    "python": {
     "delete_cmd_postfix": "",
     "delete_cmd_prefix": "del ",
     "library": "var_list.py",
     "varRefreshCmd": "print(var_dic_list())"
    },
    "r": {
     "delete_cmd_postfix": ") ",
     "delete_cmd_prefix": "rm(",
     "library": "var_list.r",
     "varRefreshCmd": "cat(var_dic_list()) "
    }
   },
   "types_to_exclude": [
    "module",
    "function",
    "builtin_function_or_method",
    "instance",
    "_Feature"
   ],
   "window_display": false
  }
 },
 "nbformat": 4,
 "nbformat_minor": 5
}
