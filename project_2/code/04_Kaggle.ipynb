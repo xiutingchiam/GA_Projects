{
 "cells": [
  {
   "cell_type": "markdown",
   "id": "4ad26f4d",
   "metadata": {},
   "source": [
    "<img src=\"http://imgur.com/1ZcRyrc.png\" style=\"float: left; margin: 20px; height: 55px\">\n",
    "\n",
    "# Project 2: Ames Housing Data and Kaggle Challenge"
   ]
  },
  {
   "cell_type": "markdown",
   "id": "9f816323",
   "metadata": {},
   "source": [
    "# Kaggle Submission"
   ]
  },
  {
   "cell_type": "code",
   "execution_count": 1,
   "id": "05548065",
   "metadata": {},
   "outputs": [],
   "source": [
    "import pandas as pd\n",
    "import numpy as np\n",
    "import matplotlib.pyplot as plt\n",
    "import seaborn as sns\n",
    "import statistics\n",
    "from scipy import stats\n",
    "\n",
    "from sklearn.model_selection import train_test_split, cross_val_score, cross_val_predict\n",
    "from sklearn.linear_model import LinearRegression\n",
    "from sklearn.metrics import mean_squared_error, r2_score"
   ]
  },
  {
   "cell_type": "code",
   "execution_count": 2,
   "id": "e770042a",
   "metadata": {},
   "outputs": [],
   "source": [
    "train = pd.read_csv('../datasets/final_model.csv')"
   ]
  },
  {
   "cell_type": "code",
   "execution_count": 3,
   "id": "f10497bf",
   "metadata": {},
   "outputs": [],
   "source": [
    "test = pd.read_csv('../datasets/test_preprocessed.csv')"
   ]
  },
  {
   "cell_type": "code",
   "execution_count": 4,
   "id": "1bf1a7cb",
   "metadata": {},
   "outputs": [],
   "source": [
    "def metrics(model, X_train, y_train, pred, X_test, y_test):\n",
    "    y_actual = np.exp(y_test)\n",
    "    y_pred = np.exp(pred)\n",
    "    print(f'RMSE Score (original units): {mean_squared_error(y_actual, y_pred, squared = False)} \\n')\n",
    "    print(f'Training Score (R^2): {model.score(X_train, y_train)} \\n')\n",
    "    print(f'Cross Validation Score: {abs(cross_val_score(model, X_train, np.exp(y_train), cv = 10, scoring = \"neg_root_mean_squared_error\").mean())} \\n')\n",
    "    print(f'Testing Score (R^2): {model.score(X_test, y_test)} \\n')"
   ]
  },
  {
   "cell_type": "code",
   "execution_count": 5,
   "id": "dcd2b1ee",
   "metadata": {},
   "outputs": [],
   "source": [
    "X = train.drop('saleprice', axis=1)\n",
    "y = train['saleprice']"
   ]
  },
  {
   "cell_type": "code",
   "execution_count": 6,
   "id": "3247d22b",
   "metadata": {},
   "outputs": [],
   "source": [
    "X_train, X_test, y_train, y_test = train_test_split(X, y, test_size = 0.2, random_state = 42)"
   ]
  },
  {
   "cell_type": "code",
   "execution_count": 7,
   "id": "4f83b849",
   "metadata": {},
   "outputs": [],
   "source": [
    "lr = LinearRegression()"
   ]
  },
  {
   "cell_type": "code",
   "execution_count": 8,
   "id": "c79a93e9",
   "metadata": {},
   "outputs": [
    {
     "data": {
      "text/plain": [
       "LinearRegression()"
      ]
     },
     "execution_count": 8,
     "metadata": {},
     "output_type": "execute_result"
    }
   ],
   "source": [
    "lr.fit(X_train, y_train)"
   ]
  },
  {
   "cell_type": "code",
   "execution_count": 9,
   "id": "840a0c13",
   "metadata": {},
   "outputs": [],
   "source": [
    "y_pred = lr.predict(X_test)"
   ]
  },
  {
   "cell_type": "code",
   "execution_count": 10,
   "id": "ea4c6522",
   "metadata": {},
   "outputs": [
    {
     "name": "stdout",
     "output_type": "stream",
     "text": [
      "RMSE Score (original units): 21861.55688905863 \n",
      "\n",
      "Training Score (R^2): 0.8942374049795403 \n",
      "\n",
      "Cross Validation Score: 28669.56642600141 \n",
      "\n",
      "Testing Score (R^2): 0.8968588049550573 \n",
      "\n"
     ]
    }
   ],
   "source": [
    "metrics(lr, X_train, y_train, y_pred, X_test, y_test)"
   ]
  },
  {
   "cell_type": "code",
   "execution_count": 11,
   "id": "bf0982d8",
   "metadata": {},
   "outputs": [],
   "source": [
    "cols = X.columns.tolist()"
   ]
  },
  {
   "cell_type": "code",
   "execution_count": 12,
   "id": "f544aad2",
   "metadata": {},
   "outputs": [],
   "source": [
    "X_kaggle = test[cols]"
   ]
  },
  {
   "cell_type": "code",
   "execution_count": 13,
   "id": "3cfd3c8b",
   "metadata": {},
   "outputs": [],
   "source": [
    "y_kaggle = lr.predict(X_kaggle)"
   ]
  },
  {
   "cell_type": "code",
   "execution_count": 14,
   "id": "db5e69cc",
   "metadata": {},
   "outputs": [],
   "source": [
    "kaggle = pd.DataFrame()\n",
    "kaggle['ID'] = test['id']\n",
    "# Return predicted values to original units\n",
    "kaggle['SalePrice'] = np.exp(y_kaggle)"
   ]
  },
  {
   "cell_type": "code",
   "execution_count": 15,
   "id": "174a281c",
   "metadata": {},
   "outputs": [
    {
     "data": {
      "text/html": [
       "<div>\n",
       "<style scoped>\n",
       "    .dataframe tbody tr th:only-of-type {\n",
       "        vertical-align: middle;\n",
       "    }\n",
       "\n",
       "    .dataframe tbody tr th {\n",
       "        vertical-align: top;\n",
       "    }\n",
       "\n",
       "    .dataframe thead th {\n",
       "        text-align: right;\n",
       "    }\n",
       "</style>\n",
       "<table border=\"1\" class=\"dataframe\">\n",
       "  <thead>\n",
       "    <tr style=\"text-align: right;\">\n",
       "      <th></th>\n",
       "      <th>ID</th>\n",
       "      <th>SalePrice</th>\n",
       "    </tr>\n",
       "  </thead>\n",
       "  <tbody>\n",
       "    <tr>\n",
       "      <th>0</th>\n",
       "      <td>2658</td>\n",
       "      <td>123328.884548</td>\n",
       "    </tr>\n",
       "    <tr>\n",
       "      <th>1</th>\n",
       "      <td>2718</td>\n",
       "      <td>170114.325842</td>\n",
       "    </tr>\n",
       "    <tr>\n",
       "      <th>2</th>\n",
       "      <td>2414</td>\n",
       "      <td>222074.849731</td>\n",
       "    </tr>\n",
       "    <tr>\n",
       "      <th>3</th>\n",
       "      <td>1989</td>\n",
       "      <td>93130.477664</td>\n",
       "    </tr>\n",
       "    <tr>\n",
       "      <th>4</th>\n",
       "      <td>625</td>\n",
       "      <td>175896.831465</td>\n",
       "    </tr>\n",
       "    <tr>\n",
       "      <th>5</th>\n",
       "      <td>333</td>\n",
       "      <td>105559.104965</td>\n",
       "    </tr>\n",
       "    <tr>\n",
       "      <th>6</th>\n",
       "      <td>1327</td>\n",
       "      <td>100938.689087</td>\n",
       "    </tr>\n",
       "    <tr>\n",
       "      <th>7</th>\n",
       "      <td>858</td>\n",
       "      <td>157898.574562</td>\n",
       "    </tr>\n",
       "    <tr>\n",
       "      <th>8</th>\n",
       "      <td>95</td>\n",
       "      <td>176883.309258</td>\n",
       "    </tr>\n",
       "    <tr>\n",
       "      <th>9</th>\n",
       "      <td>1568</td>\n",
       "      <td>162557.662371</td>\n",
       "    </tr>\n",
       "  </tbody>\n",
       "</table>\n",
       "</div>"
      ],
      "text/plain": [
       "     ID      SalePrice\n",
       "0  2658  123328.884548\n",
       "1  2718  170114.325842\n",
       "2  2414  222074.849731\n",
       "3  1989   93130.477664\n",
       "4   625  175896.831465\n",
       "5   333  105559.104965\n",
       "6  1327  100938.689087\n",
       "7   858  157898.574562\n",
       "8    95  176883.309258\n",
       "9  1568  162557.662371"
      ]
     },
     "execution_count": 15,
     "metadata": {},
     "output_type": "execute_result"
    }
   ],
   "source": [
    "kaggle.head(10)"
   ]
  },
  {
   "cell_type": "code",
   "execution_count": 16,
   "id": "cf9dae10",
   "metadata": {},
   "outputs": [],
   "source": [
    "kaggle.to_csv('../datasets/kaggle.csv', index = False)"
   ]
  },
  {
   "cell_type": "markdown",
   "id": "50135877",
   "metadata": {},
   "source": [
    "## Kaggle Submission Score"
   ]
  },
  {
   "attachments": {
    "kaggle_submission.jpg": {
     "image/jpeg": "[encoded data removed]"
    }
   },
   "cell_type": "markdown",
   "id": "6182f619",
   "metadata": {},
   "source": [
    "![kaggle_submission.jpg](attachment:kaggle_submission.jpg)"
   ]
  },
  {
   "cell_type": "code",
   "execution_count": null,
   "id": "f978f596",
   "metadata": {},
   "outputs": [],
   "source": []
  }
 ],
 "metadata": {
  "kernelspec": {
   "display_name": "Python 3 (ipykernel)",
   "language": "python",
   "name": "python3"
  },
  "language_info": {
   "codemirror_mode": {
    "name": "ipython",
    "version": 3
   },
   "file_extension": ".py",
   "mimetype": "text/x-python",
   "name": "python",
   "nbconvert_exporter": "python",
   "pygments_lexer": "ipython3",
   "version": "3.9.7"
  }
 },
 "nbformat": 4,
 "nbformat_minor": 5
}
