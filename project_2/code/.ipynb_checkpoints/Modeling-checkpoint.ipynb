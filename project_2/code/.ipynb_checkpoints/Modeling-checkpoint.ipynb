{
 "cells": [
  {
   "cell_type": "markdown",
   "id": "35bc4277",
   "metadata": {},
   "source": [
    "<img src=\"http://imgur.com/1ZcRyrc.png\" style=\"float: left; margin: 20px; height: 55px\">\n",
    "\n",
    "# Project 2: Ames Housing Data and Kaggle Challenge"
   ]
  },
  {
   "cell_type": "markdown",
   "id": "3df1ef58",
   "metadata": {},
   "source": [
    "# Part 3: Modeling "
   ]
  },
  {
   "cell_type": "markdown",
   "id": "2b568a91",
   "metadata": {},
   "source": [
    "## Table of Contents:\n",
    "- [Datasets Used](#Datasets-Used)\n",
    "- [Import Libraries](#Import-Libraries)\n",
    "- [Functions](#Functions)\n",
    "- [Data Import](#Data-Import)\n"
   ]
  },
  {
   "cell_type": "markdown",
   "id": "7cae0406",
   "metadata": {},
   "source": [
    "## Datasets Used"
   ]
  },
  {
   "cell_type": "markdown",
   "id": "2fa5385f",
   "metadata": {},
   "source": [
    "The following preprocessed datasets in [`datasets`](../datasets/) folder will be used for in this notebook\n",
    "\n",
    "* [`train_preprocessed.csv`](../datasets/train.csv): (2016 - 2010) Pre-processed Ames Housing dataset\n",
    "* [`test_preprocessed.csv`](../datasets/test.csv): (2016 - 2010) Pre-processed Ames Housing dataset, excluding target variable"
   ]
  },
  {
   "cell_type": "markdown",
   "id": "24f80218",
   "metadata": {},
   "source": [
    "## Import Libraries"
   ]
  },
  {
   "cell_type": "code",
   "execution_count": 1,
   "id": "9cb33782",
   "metadata": {},
   "outputs": [],
   "source": [
    "import pandas as pd\n",
    "import numpy as np\n",
    "import matplotlib.pyplot as plt\n",
    "import seaborn as sns\n",
    "import statistics\n",
    "import matplotlib.lines as mlines\n",
    "import matplotlib.transforms as mtransforms\n",
    "from scipy import stats\n",
    "\n",
    "from sklearn.feature_selection import SelectKBest, f_regression\n",
    "from sklearn.model_selection import train_test_split, cross_val_score, cross_val_predict\n",
    "from sklearn.linear_model import LinearRegression, LassoCV, RidgeCV, Ridge, Lasso\n",
    "from sklearn.dummy import DummyRegressor\n",
    "\n",
    "from sklearn.metrics import mean_squared_error, r2_score"
   ]
  },
  {
   "cell_type": "markdown",
   "id": "32732341",
   "metadata": {},
   "source": [
    "## Functions"
   ]
  },
  {
   "cell_type": "code",
   "execution_count": 188,
   "id": "32f2e105",
   "metadata": {},
   "outputs": [],
   "source": [
    "def metrics(model, X_train, y_train, pred, X_test, y_test):\n",
    "    y_actual = np.exp(y_test)\n",
    "    y_pred = np.exp(pred)\n",
    "    print(f'RMSE Score (original units): {mean_squared_error(y_actual, y_pred, squared = False)} \\n')\n",
    "    print(f'Training Score (R^2): {model.score(X_train, y_train)} \\n')\n",
    "    print(f'CrossVal Score: {abs(cross_val_score(model, X_train, np.exp(y_train), cv = 10, scoring = \"neg_root_mean_squared_error\").mean())} \\n')\n",
    "    print(f'Testing Score (R^2): {model.score(X_test, y_test)} \\n')"
   ]
  },
  {
   "cell_type": "markdown",
   "id": "e991f22b",
   "metadata": {},
   "source": [
    "## Data Import"
   ]
  },
  {
   "cell_type": "code",
   "execution_count": 3,
   "id": "97f6ecb5",
   "metadata": {},
   "outputs": [],
   "source": [
    "train = pd.read_csv('../datasets/train_preprocessed.csv')\n",
    "test = pd.read_csv('../datasets/test_preprocessed.csv')"
   ]
  },
  {
   "cell_type": "markdown",
   "id": "a9f61ca5",
   "metadata": {},
   "source": [
    "## Fitting and Modeling\n",
    "___"
   ]
  },
  {
   "cell_type": "markdown",
   "id": "c3798809",
   "metadata": {},
   "source": [
    "### Baseline Model\n",
    "A baseline model is created to base upon subsequent models. DummyRegressor is used that simply predicts the mean house price of the training data for any house has a prediction error of $78,278.84. "
   ]
  },
  {
   "cell_type": "code",
   "execution_count": 78,
   "id": "d6e4c3e0",
   "metadata": {},
   "outputs": [
    {
     "name": "stdout",
     "output_type": "stream",
     "text": [
      "(2048, 142)\n",
      "(2048,)\n"
     ]
    }
   ],
   "source": [
    "X = train\n",
    "y = train['saleprice']\n",
    "print(X.shape)\n",
    "print(y.shape)"
   ]
  },
  {
   "cell_type": "code",
   "execution_count": 79,
   "id": "2ab471f9",
   "metadata": {},
   "outputs": [],
   "source": [
    "X_train, X_test, y_train, y_test = train_test_split(X, y, test_size = 0.2, random_state = 42)"
   ]
  },
  {
   "cell_type": "code",
   "execution_count": 80,
   "id": "f98a35d0",
   "metadata": {},
   "outputs": [
    {
     "name": "stdout",
     "output_type": "stream",
     "text": [
      "RMSE Score (original units): 78278.84170187355 \n",
      "\n",
      "Training Score (R^2): 0.0 \n",
      "\n",
      "CrossVal Score: 79625.55077030548 \n",
      "\n",
      "Testing Score (R^2): -0.0018513201208738561 \n",
      "\n"
     ]
    }
   ],
   "source": [
    "dr = DummyRegressor(strategy = 'mean')\n",
    "dr.fit(X_train, y_train)\n",
    "y_pred = dr.predict(X_test)\n",
    "metrics(dr, X_train, y_train, y_pred, X_test, y_test)"
   ]
  },
  {
   "cell_type": "markdown",
   "id": "4bc34059",
   "metadata": {},
   "source": [
    "---"
   ]
  },
  {
   "cell_type": "markdown",
   "id": "7c57def1",
   "metadata": {},
   "source": [
    "### Modeling: Feature Selection by SelectKBest"
   ]
  },
  {
   "cell_type": "code",
   "execution_count": 173,
   "id": "dad29d20",
   "metadata": {},
   "outputs": [
    {
     "name": "stdout",
     "output_type": "stream",
     "text": [
      "(2048, 32)\n",
      "(2048,)\n"
     ]
    }
   ],
   "source": [
    "X = train[['lot_frontage', 'overall_qual', 'year_remod/add', 'mas_vnr_area',\n",
    "       'bsmt_qual', 'bsmt_exposure', 'bsmtfin_type_1', 'heating_qc',\n",
    "       'kitchen_qual', 'totrms_abvgrd', 'fireplace_qu', 'garage_yr_blt',\n",
    "       'garage_finish', 'garage_area', 'garage_qual', 'paved_drive',\n",
    "       'wood_deck_sf', 'open_porch_sf', 'house_age', 'house_area',\n",
    "       'location', 'total_bath', 'ms_subclass_30', 'ms_subclass_60',\n",
    "       'ms_zoning_RM', 'mas_vnr_type_None', 'foundation_CBlock',\n",
    "       'foundation_PConc', 'central_air_Y', 'garage_type_Attchd',\n",
    "       'garage_type_Detchd', 'sale_type_New']]\n",
    "\n",
    "y = train['saleprice']\n",
    "print(X.shape)\n",
    "print(y.shape)"
   ]
  },
  {
   "cell_type": "code",
   "execution_count": 174,
   "id": "2d33f2b5",
   "metadata": {},
   "outputs": [],
   "source": [
    "X_train, X_test, y_train, y_test = train_test_split(X, y, test_size = 0.2, random_state = 42)"
   ]
  },
  {
   "cell_type": "code",
   "execution_count": 175,
   "id": "bf197903",
   "metadata": {},
   "outputs": [
    {
     "name": "stdout",
     "output_type": "stream",
     "text": [
      "Train: (1638, 32) (1638,)\n"
     ]
    }
   ],
   "source": [
    "# summarize shape\n",
    "print('Train:', X_train.shape, y_train.shape)"
   ]
  },
  {
   "cell_type": "markdown",
   "id": "12980820",
   "metadata": {},
   "source": [
    "#### Linear Regression Model"
   ]
  },
  {
   "cell_type": "code",
   "execution_count": 176,
   "id": "0403ec11",
   "metadata": {},
   "outputs": [],
   "source": [
    "lr = LinearRegression()"
   ]
  },
  {
   "cell_type": "code",
   "execution_count": 177,
   "id": "86566b0e",
   "metadata": {},
   "outputs": [
    {
     "data": {
      "text/plain": [
       "LinearRegression()"
      ]
     },
     "execution_count": 177,
     "metadata": {},
     "output_type": "execute_result"
    }
   ],
   "source": [
    "lr.fit(X_train, y_train)"
   ]
  },
  {
   "cell_type": "code",
   "execution_count": 178,
   "id": "044f53cc",
   "metadata": {},
   "outputs": [
    {
     "name": "stdout",
     "output_type": "stream",
     "text": [
      "[ 0.02373821  0.07148841  0.02876963  0.00915423 -0.00483965  0.01103523\n",
      "  0.01091978  0.02247645  0.03876273  0.01431619  0.01591823 -0.00431867\n",
      "  0.00273932  0.01034734  0.02451134  0.04966949  0.01196336  0.00448034\n",
      " -0.01104239  0.12248629  0.02972992  0.02810115 -0.09558238  0.01673806\n",
      " -0.03188987  0.01785988 -0.00311232  0.01100226  0.10478342 -0.01002807\n",
      " -0.00135393  0.04934919]\n",
      "10.883172160396985\n"
     ]
    }
   ],
   "source": [
    "print(lr.coef_)\n",
    "print(lr.intercept_)"
   ]
  },
  {
   "cell_type": "code",
   "execution_count": 179,
   "id": "f4989fef",
   "metadata": {},
   "outputs": [],
   "source": [
    "y_pred = lr.predict(X_test)"
   ]
  },
  {
   "cell_type": "code",
   "execution_count": 146,
   "id": "acd19338",
   "metadata": {
    "scrolled": true
   },
   "outputs": [
    {
     "name": "stdout",
     "output_type": "stream",
     "text": [
      "RMSE Score (original units): 22910.904572787018 \n",
      "\n",
      "Training Score (R^2): 0.8879574382495934 \n",
      "\n",
      "CrossVal Score: 28916.84565604644 \n",
      "\n",
      "Testing Score (R^2): 0.8829845589375604 \n",
      "\n"
     ]
    }
   ],
   "source": [
    "metrics(lr, X_train, y_train, y_pred, X_test, y_test)"
   ]
  },
  {
   "cell_type": "markdown",
   "id": "1b8c7e4b",
   "metadata": {},
   "source": [
    "#### Ridge "
   ]
  },
  {
   "cell_type": "code",
   "execution_count": 184,
   "id": "d2106179",
   "metadata": {},
   "outputs": [
    {
     "data": {
      "text/plain": [
       "16.3265306122449"
      ]
     },
     "execution_count": 184,
     "metadata": {},
     "output_type": "execute_result"
    }
   ],
   "source": [
    "ridgecv = RidgeCV(alphas = np.linspace(0, 100, 50), cv = 10)\n",
    "ridgecv.fit(X_train, y_train)\n",
    "ridgecv.alpha_"
   ]
  },
  {
   "cell_type": "code",
   "execution_count": 185,
   "id": "6ff38a50",
   "metadata": {},
   "outputs": [
    {
     "name": "stdout",
     "output_type": "stream",
     "text": [
      "RMSE Score (original units): 22267.225089476804 \n",
      "\n",
      "Training Score (R^2): 0.8934371165112741 \n",
      "\n",
      "CrossVal Score: 28634.8795313333 \n",
      "\n",
      "Testing Score (R^2): 0.8957363454762204 \n",
      "\n"
     ]
    }
   ],
   "source": [
    "ridge = Ridge(alpha = ridgecv.alpha_)\n",
    "ridge.fit(X_train, y_train)\n",
    "ridge_pred = ridge.predict(X_test)\n",
    "metrics(ridge, X_train, y_train, ridge_pred, X_test, y_test)"
   ]
  },
  {
   "cell_type": "markdown",
   "id": "69d731a3",
   "metadata": {},
   "source": [
    "#### Lasso Regression\n",
    "Lasso differs from Ridge regression by summing the absolute value of the predictors (mⱼ) instead of summing the squared values."
   ]
  },
  {
   "cell_type": "code",
   "execution_count": 186,
   "id": "e2d0beea",
   "metadata": {},
   "outputs": [
    {
     "data": {
      "text/plain": [
       "0.00035564803062231287"
      ]
     },
     "execution_count": 186,
     "metadata": {},
     "output_type": "execute_result"
    }
   ],
   "source": [
    "lassocv = LassoCV(alphas = np.logspace(-4, -1, 50), cv = 10)\n",
    "lassocv.fit(X_train, y_train)\n",
    "lassocv.alpha_"
   ]
  },
  {
   "cell_type": "code",
   "execution_count": 187,
   "id": "59804f64",
   "metadata": {
    "scrolled": false
   },
   "outputs": [
    {
     "name": "stdout",
     "output_type": "stream",
     "text": [
      "RMSE Score (original units): 22279.308150865643 \n",
      "\n",
      "Training Score (R^2): 0.8935400991538824 \n",
      "\n",
      "CrossVal Score: 28666.70851187904 \n",
      "\n",
      "Testing Score (R^2): 0.8950594842420962 \n",
      "\n"
     ]
    }
   ],
   "source": [
    "lasso = Lasso(alpha = lassocv.alpha_)\n",
    "lasso.fit(X_train, y_train)\n",
    "lasso_pred = lasso.predict(X_test)\n",
    "metrics(lasso, X_train, y_train, lasso_pred, X_test, y_test)"
   ]
  }
 ],
 "metadata": {
  "kernelspec": {
   "display_name": "Python 3 (ipykernel)",
   "language": "python",
   "name": "python3"
  },
  "language_info": {
   "codemirror_mode": {
    "name": "ipython",
    "version": 3
   },
   "file_extension": ".py",
   "mimetype": "text/x-python",
   "name": "python",
   "nbconvert_exporter": "python",
   "pygments_lexer": "ipython3",
   "version": "3.9.7"
  }
 },
 "nbformat": 4,
 "nbformat_minor": 5
}
