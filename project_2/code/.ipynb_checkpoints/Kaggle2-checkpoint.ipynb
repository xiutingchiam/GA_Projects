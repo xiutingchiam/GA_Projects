{
 "cells": [
  {
   "cell_type": "code",
   "execution_count": null,
   "id": "340d4a53",
   "metadata": {},
   "outputs": [],
   "source": []
  },
  {
   "cell_type": "markdown",
   "id": "796aacb3",
   "metadata": {},
   "source": [
    "<img src=\"http://imgur.com/1ZcRyrc.png\" style=\"float: left; margin: 20px; height: 55px\">\n",
    "\n",
    "# Project 2: Ames Housing Data and Kaggle Challenge"
   ]
  },
  {
   "cell_type": "markdown",
   "id": "700b24f2",
   "metadata": {},
   "source": [
    "# Kaggle Submissions"
   ]
  },
  {
   "cell_type": "code",
   "execution_count": 1,
   "id": "02417d36",
   "metadata": {},
   "outputs": [],
   "source": [
    "import pandas as pd\n",
    "import numpy as np\n",
    "import matplotlib.pyplot as plt\n",
    "import seaborn as sns\n",
    "import statistics\n",
    "import matplotlib.lines as mlines\n",
    "import matplotlib.transforms as mtransforms\n",
    "from scipy import stats\n",
    "\n",
    "from sklearn.model_selection import train_test_split, cross_val_score, cross_val_predict\n",
    "from sklearn.linear_model import LinearRegression, LassoCV, RidgeCV\n",
    "from sklearn.metrics import mean_squared_error, r2_score"
   ]
  },
  {
   "cell_type": "code",
   "execution_count": 2,
   "id": "ef0591ef",
   "metadata": {},
   "outputs": [],
   "source": [
    "train = pd.read_csv('../datasets/train_preprocessed.csv')"
   ]
  },
  {
   "cell_type": "code",
   "execution_count": 3,
   "id": "c861bdf7",
   "metadata": {},
   "outputs": [],
   "source": [
    "test = pd.read_csv('../datasets/test_preprocessed.csv')"
   ]
  },
  {
   "cell_type": "code",
   "execution_count": 4,
   "id": "1e78e627",
   "metadata": {},
   "outputs": [],
   "source": [
    "def metrics(model, X_train, y_train, pred, X_test, y_test):\n",
    "    y_actual = np.exp(y_test)\n",
    "    y_pred = np.exp(pred)\n",
    "    print(f'RMSE Score (original units): {mean_squared_error(y_actual, y_pred, squared = False)} \\n')\n",
    "    print(f'Training Score (R^2): {model.score(X_train, y_train)} \\n')\n",
    "    print(f'CrossVal Score: {cross_val_score(model, X_train,y_train,cv = 10).mean()} \\n')\n",
    "    print(f'Testing Score (R^2): {model.score(X_test, y_test)} \\n')"
   ]
  },
  {
   "cell_type": "code",
   "execution_count": 5,
   "id": "d12d1cd1",
   "metadata": {},
   "outputs": [],
   "source": [
    "X_p = train[['lot_frontage', 'lot_shape', 'overall_qual', 'year_remod/add', 'mas_vnr_area', 'bsmt_qual', 'electrical', 'wood_deck_sf', \n",
    "             'open_porch_sf', 'bsmt_exposure', 'bsmtfin_type_1', 'heating_qc', 'kitchen_qual', 'totrms_abvgrd', 'fireplace_qu', \n",
    "             'garage_yr_blt', 'garage_finish', 'garage_area', 'garage_qual', 'paved_drive', 'house_age', 'house_area', \n",
    "             'location', 'total_bath', 'ms_subclass_30', 'ms_subclass_60', 'ms_zoning_RM', 'mas_vnr_type_None', \n",
    "             'foundation_PConc', 'foundation_CBlock', 'central_air_Y', 'garage_type_Attchd', 'garage_type_Detchd', \n",
    "             'sale_type_New']]\n",
    "y_p = train['saleprice']"
   ]
  },
  {
   "cell_type": "code",
   "execution_count": 6,
   "id": "006d4fd9",
   "metadata": {},
   "outputs": [],
   "source": [
    "X_p_train, X_p_test, y_p_train, y_p_test = train_test_split(X_p, y_p, test_size = 0.2, random_state = 42)"
   ]
  },
  {
   "cell_type": "code",
   "execution_count": 7,
   "id": "de923a0e",
   "metadata": {},
   "outputs": [
    {
     "name": "stdout",
     "output_type": "stream",
     "text": [
      "Train: (1638, 34) (1638,)\n"
     ]
    }
   ],
   "source": [
    "# summarize shape\n",
    "print('Train:', X_p_train.shape, y_p_train.shape)"
   ]
  },
  {
   "cell_type": "code",
   "execution_count": 8,
   "id": "c3a53360",
   "metadata": {},
   "outputs": [],
   "source": [
    "lr = LinearRegression()"
   ]
  },
  {
   "cell_type": "code",
   "execution_count": 9,
   "id": "f7f4eec5",
   "metadata": {},
   "outputs": [
    {
     "data": {
      "text/plain": [
       "LinearRegression()"
      ]
     },
     "execution_count": 9,
     "metadata": {},
     "output_type": "execute_result"
    }
   ],
   "source": [
    "lr.fit(X_p_train, y_p_train)"
   ]
  },
  {
   "cell_type": "code",
   "execution_count": 10,
   "id": "22bf8dc7",
   "metadata": {},
   "outputs": [],
   "source": [
    "lr_p_pred = lr.predict(X_p_test)"
   ]
  },
  {
   "cell_type": "code",
   "execution_count": 11,
   "id": "b7d09ad4",
   "metadata": {},
   "outputs": [
    {
     "name": "stdout",
     "output_type": "stream",
     "text": [
      "RMSE Score (original units): 21861.556889058316 \n",
      "\n",
      "Training Score (R^2): 0.8942374049795403 \n",
      "\n",
      "CrossVal Score: 0.8886551023482003 \n",
      "\n",
      "Testing Score (R^2): 0.8968588049550599 \n",
      "\n"
     ]
    }
   ],
   "source": [
    "metrics(lr, X_p_train, y_p_train, lr_p_pred, X_p_test, y_p_test)"
   ]
  },
  {
   "cell_type": "code",
   "execution_count": 12,
   "id": "f0076f64",
   "metadata": {},
   "outputs": [],
   "source": [
    "cols = X_p.columns.tolist()"
   ]
  },
  {
   "cell_type": "code",
   "execution_count": 13,
   "id": "3fba7b3b",
   "metadata": {},
   "outputs": [],
   "source": [
    "X_kaggle = test[cols]"
   ]
  },
  {
   "cell_type": "code",
   "execution_count": 14,
   "id": "ba2bc214",
   "metadata": {},
   "outputs": [],
   "source": [
    "y_kaggle = lr.predict(X_kaggle)"
   ]
  },
  {
   "cell_type": "code",
   "execution_count": 15,
   "id": "e58b79ad",
   "metadata": {},
   "outputs": [],
   "source": [
    "kaggle = pd.DataFrame()\n",
    "kaggle['ID'] = test['id']\n",
    "# Return predicted values to original units\n",
    "kaggle['SalePrice'] = np.exp(y_kaggle)"
   ]
  },
  {
   "cell_type": "code",
   "execution_count": 16,
   "id": "be2d6b62",
   "metadata": {},
   "outputs": [
    {
     "data": {
      "text/html": [
       "<div>\n",
       "<style scoped>\n",
       "    .dataframe tbody tr th:only-of-type {\n",
       "        vertical-align: middle;\n",
       "    }\n",
       "\n",
       "    .dataframe tbody tr th {\n",
       "        vertical-align: top;\n",
       "    }\n",
       "\n",
       "    .dataframe thead th {\n",
       "        text-align: right;\n",
       "    }\n",
       "</style>\n",
       "<table border=\"1\" class=\"dataframe\">\n",
       "  <thead>\n",
       "    <tr style=\"text-align: right;\">\n",
       "      <th></th>\n",
       "      <th>ID</th>\n",
       "      <th>SalePrice</th>\n",
       "    </tr>\n",
       "  </thead>\n",
       "  <tbody>\n",
       "    <tr>\n",
       "      <th>0</th>\n",
       "      <td>2658</td>\n",
       "      <td>123153.977756</td>\n",
       "    </tr>\n",
       "    <tr>\n",
       "      <th>1</th>\n",
       "      <td>2718</td>\n",
       "      <td>170081.408464</td>\n",
       "    </tr>\n",
       "    <tr>\n",
       "      <th>2</th>\n",
       "      <td>2414</td>\n",
       "      <td>222776.831202</td>\n",
       "    </tr>\n",
       "    <tr>\n",
       "      <th>3</th>\n",
       "      <td>1989</td>\n",
       "      <td>93431.642193</td>\n",
       "    </tr>\n",
       "    <tr>\n",
       "      <th>4</th>\n",
       "      <td>625</td>\n",
       "      <td>175758.002709</td>\n",
       "    </tr>\n",
       "    <tr>\n",
       "      <th>5</th>\n",
       "      <td>333</td>\n",
       "      <td>105750.421917</td>\n",
       "    </tr>\n",
       "    <tr>\n",
       "      <th>6</th>\n",
       "      <td>1327</td>\n",
       "      <td>101293.758702</td>\n",
       "    </tr>\n",
       "    <tr>\n",
       "      <th>7</th>\n",
       "      <td>858</td>\n",
       "      <td>158366.043753</td>\n",
       "    </tr>\n",
       "    <tr>\n",
       "      <th>8</th>\n",
       "      <td>95</td>\n",
       "      <td>177474.358998</td>\n",
       "    </tr>\n",
       "    <tr>\n",
       "      <th>9</th>\n",
       "      <td>1568</td>\n",
       "      <td>162970.537238</td>\n",
       "    </tr>\n",
       "  </tbody>\n",
       "</table>\n",
       "</div>"
      ],
      "text/plain": [
       "     ID      SalePrice\n",
       "0  2658  123153.977756\n",
       "1  2718  170081.408464\n",
       "2  2414  222776.831202\n",
       "3  1989   93431.642193\n",
       "4   625  175758.002709\n",
       "5   333  105750.421917\n",
       "6  1327  101293.758702\n",
       "7   858  158366.043753\n",
       "8    95  177474.358998\n",
       "9  1568  162970.537238"
      ]
     },
     "execution_count": 16,
     "metadata": {},
     "output_type": "execute_result"
    }
   ],
   "source": [
    "kaggle.head(10)"
   ]
  },
  {
   "cell_type": "code",
   "execution_count": 17,
   "id": "4b96d6dc",
   "metadata": {},
   "outputs": [],
   "source": [
    "kaggle.to_csv('../datasets/kaggle.csv', index = False)"
   ]
  }
 ],
 "metadata": {
  "kernelspec": {
   "display_name": "Python 3 (ipykernel)",
   "language": "python",
   "name": "python3"
  },
  "language_info": {
   "codemirror_mode": {
    "name": "ipython",
    "version": 3
   },
   "file_extension": ".py",
   "mimetype": "text/x-python",
   "name": "python",
   "nbconvert_exporter": "python",
   "pygments_lexer": "ipython3",
   "version": "3.9.7"
  }
 },
 "nbformat": 4,
 "nbformat_minor": 5
}
