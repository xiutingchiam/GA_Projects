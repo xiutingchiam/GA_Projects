{
 "cells": [
  {
   "cell_type": "markdown",
   "id": "55737cac",
   "metadata": {},
   "source": [
    "<img src=\"http://imgur.com/1ZcRyrc.png\" style=\"float: left; margin: 20px; height: 55px\">\n",
    "\n",
    "# Project 2: Ames Housing Data and Kaggle Challenge"
   ]
  },
  {
   "cell_type": "markdown",
   "id": "540ead8c",
   "metadata": {},
   "source": [
    "# Kaggle Submissions"
   ]
  },
  {
   "cell_type": "code",
   "execution_count": 1,
   "id": "0aa1cc19",
   "metadata": {},
   "outputs": [],
   "source": [
    "import pandas as pd\n",
    "import numpy as np\n",
    "import matplotlib.pyplot as plt\n",
    "import seaborn as sns\n",
    "import statistics\n",
    "import matplotlib.lines as mlines\n",
    "import matplotlib.transforms as mtransforms\n",
    "from scipy import stats\n",
    "\n",
    "from sklearn.feature_selection import SelectKBest, f_regression\n",
    "from sklearn.model_selection import train_test_split, cross_val_score, cross_val_predict\n",
    "from sklearn.linear_model import LinearRegression, LassoCV, RidgeCV\n",
    "from sklearn.metrics import mean_squared_error, r2_score"
   ]
  },
  {
   "cell_type": "code",
   "execution_count": 2,
   "id": "1fa600ad",
   "metadata": {},
   "outputs": [],
   "source": [
    "train = pd.read_csv('../datasets/train_preprocessed.csv')"
   ]
  },
  {
   "cell_type": "code",
   "execution_count": 3,
   "id": "4c5d2012",
   "metadata": {},
   "outputs": [],
   "source": [
    "test = pd.read_csv('../datasets/test_preprocessed.csv')"
   ]
  },
  {
   "cell_type": "code",
   "execution_count": 4,
   "id": "74b61543",
   "metadata": {},
   "outputs": [],
   "source": [
    "def metrics(model, X_train, y_train, pred, X_test, y_test):\n",
    "    y_actual = np.exp(y_test)\n",
    "    y_pred = np.exp(pred)\n",
    "    print(f'RMSE Score (original units): {mean_squared_error(y_actual, y_pred, squared = False)} \\n')\n",
    "    print(f'Training Score (R^2): {model.score(X_train, y_train)} \\n')\n",
    "    print(f'CrossVal Score: {cross_val_score(model, X_train,y_train,cv = 10).mean()} \\n')\n",
    "    print(f'Testing Score (R^2): {model.score(X_test, y_test)} \\n')"
   ]
  },
  {
   "cell_type": "code",
   "execution_count": 5,
   "id": "e1123978",
   "metadata": {},
   "outputs": [],
   "source": [
    "X = train.drop('saleprice', axis=1)\n",
    "y = train['saleprice']"
   ]
  },
  {
   "cell_type": "code",
   "execution_count": 6,
   "id": "9781e4ce",
   "metadata": {},
   "outputs": [],
   "source": [
    "X_train, X_test, y_train, y_test = train_test_split(X, y, test_size = 0.2, random_state = 42)"
   ]
  },
  {
   "cell_type": "code",
   "execution_count": 7,
   "id": "94a4896e",
   "metadata": {},
   "outputs": [],
   "source": [
    "lr = LinearRegression()"
   ]
  },
  {
   "cell_type": "code",
   "execution_count": 8,
   "id": "e09985a1",
   "metadata": {},
   "outputs": [
    {
     "data": {
      "text/plain": [
       "LinearRegression()"
      ]
     },
     "execution_count": 8,
     "metadata": {},
     "output_type": "execute_result"
    }
   ],
   "source": [
    "lr.fit(X_train, y_train)"
   ]
  },
  {
   "cell_type": "code",
   "execution_count": 9,
   "id": "dc1fb842",
   "metadata": {},
   "outputs": [],
   "source": [
    "y_pred = lr.predict(X_test)"
   ]
  },
  {
   "cell_type": "code",
   "execution_count": 10,
   "id": "22b20a41",
   "metadata": {},
   "outputs": [
    {
     "name": "stdout",
     "output_type": "stream",
     "text": [
      "RMSE Score (original units): 23401.619002442574 \n",
      "\n",
      "Training Score (R^2): 0.8820653220220345 \n",
      "\n",
      "CrossVal Score: 0.8753755840751525 \n",
      "\n",
      "Testing Score (R^2): 0.8753809447799286 \n",
      "\n"
     ]
    }
   ],
   "source": [
    "metrics(lr, X_train, y_train, y_pred, X_test, y_test)"
   ]
  },
  {
   "cell_type": "code",
   "execution_count": 11,
   "id": "5fd7955f",
   "metadata": {},
   "outputs": [],
   "source": [
    "cols = X.columns.tolist()"
   ]
  },
  {
   "cell_type": "code",
   "execution_count": 12,
   "id": "88ea1965",
   "metadata": {},
   "outputs": [],
   "source": [
    "X_kaggle = test[cols]"
   ]
  },
  {
   "cell_type": "code",
   "execution_count": 13,
   "id": "19a86d07",
   "metadata": {},
   "outputs": [],
   "source": [
    "y_kaggle = lr.predict(X_kaggle)"
   ]
  },
  {
   "cell_type": "code",
   "execution_count": 15,
   "id": "3a70e51e",
   "metadata": {},
   "outputs": [],
   "source": [
    "kaggle = pd.DataFrame()\n",
    "kaggle['ID'] = test['id']\n",
    "# Return predicted values to original units\n",
    "kaggle['SalePrice'] = np.exp(y_kaggle)"
   ]
  },
  {
   "cell_type": "code",
   "execution_count": 19,
   "id": "3546edd5",
   "metadata": {},
   "outputs": [
    {
     "data": {
      "text/html": [
       "<div>\n",
       "<style scoped>\n",
       "    .dataframe tbody tr th:only-of-type {\n",
       "        vertical-align: middle;\n",
       "    }\n",
       "\n",
       "    .dataframe tbody tr th {\n",
       "        vertical-align: top;\n",
       "    }\n",
       "\n",
       "    .dataframe thead th {\n",
       "        text-align: right;\n",
       "    }\n",
       "</style>\n",
       "<table border=\"1\" class=\"dataframe\">\n",
       "  <thead>\n",
       "    <tr style=\"text-align: right;\">\n",
       "      <th></th>\n",
       "      <th>ID</th>\n",
       "      <th>SalePrice</th>\n",
       "    </tr>\n",
       "  </thead>\n",
       "  <tbody>\n",
       "    <tr>\n",
       "      <th>0</th>\n",
       "      <td>2658</td>\n",
       "      <td>116610.936553</td>\n",
       "    </tr>\n",
       "    <tr>\n",
       "      <th>1</th>\n",
       "      <td>2718</td>\n",
       "      <td>194227.896444</td>\n",
       "    </tr>\n",
       "    <tr>\n",
       "      <th>2</th>\n",
       "      <td>2414</td>\n",
       "      <td>215127.467450</td>\n",
       "    </tr>\n",
       "    <tr>\n",
       "      <th>3</th>\n",
       "      <td>1989</td>\n",
       "      <td>99861.054808</td>\n",
       "    </tr>\n",
       "    <tr>\n",
       "      <th>4</th>\n",
       "      <td>625</td>\n",
       "      <td>171657.778013</td>\n",
       "    </tr>\n",
       "    <tr>\n",
       "      <th>5</th>\n",
       "      <td>333</td>\n",
       "      <td>104604.705523</td>\n",
       "    </tr>\n",
       "    <tr>\n",
       "      <th>6</th>\n",
       "      <td>1327</td>\n",
       "      <td>111958.811675</td>\n",
       "    </tr>\n",
       "    <tr>\n",
       "      <th>7</th>\n",
       "      <td>858</td>\n",
       "      <td>144447.194764</td>\n",
       "    </tr>\n",
       "    <tr>\n",
       "      <th>8</th>\n",
       "      <td>95</td>\n",
       "      <td>186589.395499</td>\n",
       "    </tr>\n",
       "    <tr>\n",
       "      <th>9</th>\n",
       "      <td>1568</td>\n",
       "      <td>156880.695060</td>\n",
       "    </tr>\n",
       "  </tbody>\n",
       "</table>\n",
       "</div>"
      ],
      "text/plain": [
       "     ID      SalePrice\n",
       "0  2658  116610.936553\n",
       "1  2718  194227.896444\n",
       "2  2414  215127.467450\n",
       "3  1989   99861.054808\n",
       "4   625  171657.778013\n",
       "5   333  104604.705523\n",
       "6  1327  111958.811675\n",
       "7   858  144447.194764\n",
       "8    95  186589.395499\n",
       "9  1568  156880.695060"
      ]
     },
     "execution_count": 19,
     "metadata": {},
     "output_type": "execute_result"
    }
   ],
   "source": [
    "kaggle.head(10)"
   ]
  },
  {
   "cell_type": "code",
   "execution_count": 17,
   "id": "767839c7",
   "metadata": {},
   "outputs": [],
   "source": [
    "kaggle.to_csv('../datasets/kaggle.csv', index = False)"
   ]
  },
  {
   "cell_type": "code",
   "execution_count": null,
   "id": "b7e2417f",
   "metadata": {},
   "outputs": [],
   "source": []
  }
 ],
 "metadata": {
  "kernelspec": {
   "display_name": "Python 3 (ipykernel)",
   "language": "python",
   "name": "python3"
  },
  "language_info": {
   "codemirror_mode": {
    "name": "ipython",
    "version": 3
   },
   "file_extension": ".py",
   "mimetype": "text/x-python",
   "name": "python",
   "nbconvert_exporter": "python",
   "pygments_lexer": "ipython3",
   "version": "3.9.7"
  }
 },
 "nbformat": 4,
 "nbformat_minor": 5
}
