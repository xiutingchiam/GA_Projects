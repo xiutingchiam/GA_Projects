{
 "cells": [
  {
   "cell_type": "markdown",
   "id": "28305b0f",
   "metadata": {},
   "source": [
    "<img src=\"http://imgur.com/1ZcRyrc.png\" style=\"float: left; margin: 20px; height: 55px\">\n",
    "\n",
    "# Project 2: Ames Housing Data and Kaggle Challenge"
   ]
  },
  {
   "cell_type": "markdown",
   "id": "46f4afd1",
   "metadata": {},
   "source": [
    "# Problem Statement\n",
    "\n",
    "Real estate was once considered a relatively safe harbor, an asset class marked by steady value creation and predictable trends. Those days are over. New technologies and urgent sustainability concerns are now disrupting the industry in ways that raise the stakes for every home buyer and seller.\n",
    "\n",
    "A realty company that does property sale listings for home sellers, is looking into using Machine Learning to help their clients to predict the sale prices of their homes. With the help of a good prediction model, the company will be able to help clients set a more accurate and realistic price for their home sales. As part of the realty's data science team, we have been tasked with using Machine Learning to build a house sale price prediction model based on the Ames Housing Dataset collected from 2006 to 2010. This dataset contains a total of 2051 rows and 81 columns of data."
   ]
  },
  {
   "cell_type": "markdown",
   "id": "95dd54f1",
   "metadata": {},
   "source": [
    "# Part 3: Modeling "
   ]
  },
  {
   "cell_type": "markdown",
   "id": "ae005093",
   "metadata": {},
   "source": [
    "## Table of Contents:\n",
    "- [Datasets Used](#Datasets-Used)\n",
    "- [Import Libraries](#Import-Libraries)\n",
    "- [Functions](#Functions)\n",
    "- [Data Import](#Data-Import)\n",
    "- [Models to be Used](#Models-to-be-Used)\n",
    "- [Baseline Model](#Baseline-Model)\n",
    "- [Modelling with Different Groups of Features](#Modeling-with-Different-Groups-of-Features)\n",
    "- [Model Evaluation](#Model-Evaluation)\n",
    "- [Conclusion](#Conclusion)"
   ]
  },
  {
   "cell_type": "markdown",
   "id": "e6969dcc",
   "metadata": {},
   "source": [
    "## Datasets Used"
   ]
  },
  {
   "cell_type": "markdown",
   "id": "063920a2",
   "metadata": {},
   "source": [
    "The following preprocessed datasets in [`datasets`](../datasets/) folder will be used for in this notebook\n",
    "\n",
    "* [`train_preprocessed.csv`](../datasets/train.csv): (2016 - 2010) Pre-processed Ames Housing dataset"
   ]
  },
  {
   "cell_type": "markdown",
   "id": "963d48d8",
   "metadata": {},
   "source": [
    "## Import Libraries"
   ]
  },
  {
   "cell_type": "code",
   "execution_count": 1,
   "id": "27ed57e0",
   "metadata": {},
   "outputs": [],
   "source": [
    "import pandas as pd\n",
    "import numpy as np\n",
    "import matplotlib.pyplot as plt\n",
    "import seaborn as sns\n",
    "\n",
    "from sklearn.preprocessing import StandardScaler\n",
    "from sklearn.model_selection import train_test_split, cross_val_score, cross_val_predict\n",
    "from sklearn.linear_model import LinearRegression, LassoCV, RidgeCV, Ridge, Lasso, ElasticNetCV, ElasticNet\n",
    "from sklearn.dummy import DummyRegressor\n",
    "from sklearn.metrics import mean_squared_error, r2_score"
   ]
  },
  {
   "cell_type": "markdown",
   "id": "9db5d4ad",
   "metadata": {},
   "source": [
    "## Functions"
   ]
  },
  {
   "cell_type": "markdown",
   "id": "c18feba1",
   "metadata": {},
   "source": [
    "#### metrics(model, X_train, y_train, pred, X_test, y_test):\n",
    "Calculates the RSME, Cross Validation, training and testing scores."
   ]
  },
  {
   "cell_type": "code",
   "execution_count": 2,
   "id": "7ab4d29d",
   "metadata": {},
   "outputs": [],
   "source": [
    "def metrics(model, X_train, y_train, pred, X_test, y_test):\n",
    "    y_actual = np.exp(y_test)\n",
    "    y_pred = np.exp(pred)\n",
    "    print(f'RMSE Score (original units): {mean_squared_error(y_actual, y_pred, squared = False)} \\n')\n",
    "    print(f'Training Score (R^2): {model.score(X_train, y_train)} \\n')\n",
    "    print(f'Cross Validation Score: {abs(cross_val_score(model, X_train, np.exp(y_train), cv = 10, scoring = \"neg_root_mean_squared_error\").mean())} \\n')\n",
    "    print(f'Testing Score (R^2): {model.score(X_test, y_test)} \\n')"
   ]
  },
  {
   "cell_type": "markdown",
   "id": "0fce4ed1",
   "metadata": {},
   "source": [
    "## Data Import"
   ]
  },
  {
   "cell_type": "code",
   "execution_count": 3,
   "id": "49621ccf",
   "metadata": {},
   "outputs": [],
   "source": [
    "train = pd.read_csv('../datasets/train_preprocessed.csv')"
   ]
  },
  {
   "cell_type": "markdown",
   "id": "a89b4e5f",
   "metadata": {},
   "source": [
    "## Models to be Used\n",
    "We will use a total of four different models for the machine learning and prediction based on the different groups of features that were selected in the `Preprocessing and Feature Engineering` notebook, and subsequently choose the best perfoming model for the prediction of `saleprice`.\n",
    "\n",
    "<b>1. Linear Regression</b><br>\n",
    "Linear regression is the supervised Machine Learning model in which the model finds the best fit linear line between the independent and dependent variable i.e it finds the linear relationship between the dependent and independent variable, and makes predictions for continuous discrete vairables.\n",
    "\n",
    "<b>2. Ridge Regression (Regularization method)</b><br>\n",
    "Ridge regression is a small extension of the OLS cost function where it adds a penalty to the model as the complexity of the model increases. The more predictors(mⱼ) you have in your data set the higher the R² value, and the higher the chance your model will overfit to your data, and the worse the model will perform. \n",
    "\n",
    "The most common use of Ridge regression is to be preemptive in addressing overfitting concerns. Ridge regression is a good tool for handling multicollinearity when you must keep all your predictors. It addresses the collinearity by shrinking the magnitude of the predictors — but never eliminates them.\n",
    "([source](https://towardsdatascience.com/what-is-regularization-and-how-do-i-use-it-f7008b5a68c6))\n",
    "\n",
    "<b>3. Lasso Regression (Regularization method)</b><br>\n",
    "Lasso is an acronym that stands for “Least Absolute Shrinkage and Selection Operator.” Due to the penalty term not being squared, some values can reach 0. When a predictor coefficient (mⱼ) reaches 0 that predictor does not affect the model.\n",
    "Lasso is great for multi-collinearity due to its feature selection properties. One of the most effective ways to address the collinearity of two predictor variables is to cut one. Yet, the removal does come at a cost. There may be instances where a collection of variables are collinear, and still provide value to making estimations. Lasso will arbitrarily choose one predictor to carry on and it will drop the other.\n",
    "Lasso tends to do well if there are few significant predictors and the magnitudes of the others are close to zero. Another way of saying, a few variables are much better predictors of the target value than the other predictors. ([source](https://towardsdatascience.com/what-is-regularization-and-how-do-i-use-it-f7008b5a68c6))\n",
    "\n",
    "<b>4. Elastic Net Regression (Regularization method)</b><br>\n",
    "Elastic net linear regression uses the penalties from both the lasso and ridge techniques to regularize regression models. The technique combines both the lasso and ridge regression methods by learning from their shortcomings to improve the regularization of statistical models.\n",
    "\n",
    "The elastic net method improves lasso’s limitations, i.e., where lasso takes a few samples for high dimensional data. The elastic net procedure provides the inclusion of “n” number of variables until saturation. If the variables are highly correlated groups, lasso tends to choose one variable from such groups and ignore the rest entirely.\n",
    "\n",
    "To eliminate the limitations found in lasso, the elastic net includes a quadratic expression (||β||2) in the penalty, which, when used in isolation, becomes ridge regression. The quadratic expression in the penalty elevates the loss function toward being convex. The elastic net draws on the best of both worlds – i.e., lasso and ridge regression.\n",
    "\n",
    "In the procedure for finding the elastic net method’s estimator, two stages involve both the lasso and regression techniques. It first finds the ridge regression coefficients and then conducts the second step by using a lasso sort of shrinkage of the coefficients.\n",
    "\n",
    "This method, therefore, subjects the coefficients to two types of shrinkages. The double shrinkage from the naïve version of the elastic net causes low efficiency in predictability and high bias. To correct for such effects, the coefficients are rescaled by multiplying them by (1+λ2).\n",
    "\n",
    "([source](https://corporatefinanceinstitute.com/resources/knowledge/other/elastic-net/))"
   ]
  },
  {
   "cell_type": "markdown",
   "id": "9fa65927",
   "metadata": {},
   "source": [
    "### Baseline Model\n",
    "A baseline model is created as a basis for comparison of results with other subsequent models. \n",
    "\n",
    "DummyRegressor is used as the basline model because it uses simple metrics (in this case the mean) for prediction. Because of its simplicity, it's perfect for establishing a baseline. Based on the RMSE score, this prediction model has a prediction error of $78,278.84. \n"
   ]
  },
  {
   "cell_type": "code",
   "execution_count": 4,
   "id": "2b4e8f20",
   "metadata": {},
   "outputs": [
    {
     "name": "stdout",
     "output_type": "stream",
     "text": [
      "(2048, 142)\n",
      "(2048,)\n"
     ]
    }
   ],
   "source": [
    "X = train\n",
    "y = train['saleprice']\n",
    "print(X.shape)\n",
    "print(y.shape)"
   ]
  },
  {
   "cell_type": "code",
   "execution_count": 5,
   "id": "4f655a1c",
   "metadata": {},
   "outputs": [],
   "source": [
    "X_train, X_test, y_train, y_test = train_test_split(X, y, test_size = 0.2, random_state = 42)"
   ]
  },
  {
   "cell_type": "code",
   "execution_count": 6,
   "id": "4e868d84",
   "metadata": {},
   "outputs": [
    {
     "name": "stdout",
     "output_type": "stream",
     "text": [
      "RMSE Score (original units): 78278.84170187355 \n",
      "\n",
      "Training Score (R^2): 0.0 \n",
      "\n",
      "Cross Validation Score: 79625.55077030548 \n",
      "\n",
      "Testing Score (R^2): -0.0018513201208738561 \n",
      "\n"
     ]
    }
   ],
   "source": [
    "dr = DummyRegressor(strategy = 'mean')\n",
    "dr.fit(X_train, y_train)\n",
    "y_pred = dr.predict(X_test)\n",
    "metrics(dr, X_train, y_train, y_pred, X_test, y_test)"
   ]
  },
  {
   "cell_type": "markdown",
   "id": "f31478df",
   "metadata": {},
   "source": [
    "## Modeling with Different Groups of Features"
   ]
  },
  {
   "cell_type": "markdown",
   "id": "32e29533",
   "metadata": {},
   "source": [
    "### Modeling: With All Features (141 Features)"
   ]
  },
  {
   "cell_type": "markdown",
   "id": "1e1f9815",
   "metadata": {},
   "source": [
    "Now, we will try to use all the features (141 features in total), and see how the the different models perform in the prediction of the saleprice. We are using a total of 141 features.\n",
    "\n",
    "*Note*: some features such as features with collinearity, and features with few observations have been dropped during preprocessing and features engineering"
   ]
  },
  {
   "cell_type": "code",
   "execution_count": 7,
   "id": "63146ce9",
   "metadata": {},
   "outputs": [
    {
     "name": "stdout",
     "output_type": "stream",
     "text": [
      "(2048, 141)\n",
      "(2048,)\n"
     ]
    }
   ],
   "source": [
    "X_all = train.drop('saleprice', axis=1)\n",
    "y_all = train['saleprice']\n",
    "print(X_all.shape)\n",
    "print(y_all.shape)"
   ]
  },
  {
   "cell_type": "code",
   "execution_count": 8,
   "id": "bdecdb34",
   "metadata": {},
   "outputs": [],
   "source": [
    "X_all_train, X_all_test, y_all_train, y_all_test = train_test_split(X_all, y_all, test_size = 0.2, random_state = 42)"
   ]
  },
  {
   "cell_type": "markdown",
   "id": "cc82562e",
   "metadata": {},
   "source": [
    "#### Linear Regression Model: Regularization"
   ]
  },
  {
   "cell_type": "code",
   "execution_count": 9,
   "id": "b8954670",
   "metadata": {},
   "outputs": [],
   "source": [
    "lr = LinearRegression()"
   ]
  },
  {
   "cell_type": "code",
   "execution_count": 10,
   "id": "dc873f33",
   "metadata": {},
   "outputs": [
    {
     "data": {
      "text/plain": [
       "LinearRegression()"
      ]
     },
     "execution_count": 10,
     "metadata": {},
     "output_type": "execute_result"
    }
   ],
   "source": [
    "lr.fit(X_all_train, y_all_train)"
   ]
  },
  {
   "cell_type": "code",
   "execution_count": 11,
   "id": "7920ab46",
   "metadata": {},
   "outputs": [],
   "source": [
    "lr_all_pred = lr.predict(X_all_test)"
   ]
  },
  {
   "cell_type": "code",
   "execution_count": 12,
   "id": "1b734892",
   "metadata": {
    "scrolled": true
   },
   "outputs": [
    {
     "data": {
      "text/plain": [
       "1671    12.162643\n",
       "952     12.660328\n",
       "1677    11.973510\n",
       "1251    11.349229\n",
       "482     12.141534\n",
       "          ...    \n",
       "1130    11.927681\n",
       "1294    11.350407\n",
       "860     12.367341\n",
       "1459    11.842229\n",
       "1126    12.066811\n",
       "Name: saleprice, Length: 1638, dtype: float64"
      ]
     },
     "execution_count": 12,
     "metadata": {},
     "output_type": "execute_result"
    }
   ],
   "source": [
    "y_all_train"
   ]
  },
  {
   "cell_type": "code",
   "execution_count": 13,
   "id": "8747f2fc",
   "metadata": {
    "scrolled": false
   },
   "outputs": [
    {
     "name": "stdout",
     "output_type": "stream",
     "text": [
      "RMSE Score (original units): 26341.76569654113 \n",
      "\n",
      "Training Score (R^2): 0.9304618463900731 \n",
      "\n",
      "Cross Validation Score: 25772.04854998019 \n",
      "\n",
      "Testing Score (R^2): 0.8897475436936176 \n",
      "\n"
     ]
    }
   ],
   "source": [
    "metrics(lr, X_all_train, y_all_train, lr_all_pred, X_all_test, y_all_test)"
   ]
  },
  {
   "cell_type": "markdown",
   "id": "4aa9af37",
   "metadata": {},
   "source": [
    "##### StandardScaler()\n",
    "Unlike linear regression model, scaling of data is required for Regularization methods"
   ]
  },
  {
   "cell_type": "code",
   "execution_count": 14,
   "id": "8139ffa1",
   "metadata": {},
   "outputs": [],
   "source": [
    "# Scale train/test sets\n",
    "ss = StandardScaler()\n",
    "X_all_train = ss.fit_transform(X_all_train)\n",
    "X_all_test = ss.transform(X_all_test)"
   ]
  },
  {
   "cell_type": "markdown",
   "id": "63bc2e06",
   "metadata": {},
   "source": [
    "#### Ridge Regression Model: Regularization"
   ]
  },
  {
   "cell_type": "markdown",
   "id": "7c9bbfe4",
   "metadata": {},
   "source": [
    "Fit the RidgeCV to find the best `alpha_` parameter it found through cross-validation"
   ]
  },
  {
   "cell_type": "code",
   "execution_count": 15,
   "id": "b6ed6e2b",
   "metadata": {},
   "outputs": [
    {
     "data": {
      "text/plain": [
       "73.46938775510205"
      ]
     },
     "execution_count": 15,
     "metadata": {},
     "output_type": "execute_result"
    }
   ],
   "source": [
    "ridgecv = RidgeCV(alphas = np.linspace(0, 100, 50), cv = 10)\n",
    "ridgecv.fit(X_all_train, y_all_train)\n",
    "ridgecv.alpha_"
   ]
  },
  {
   "cell_type": "code",
   "execution_count": 16,
   "id": "a12ddc0d",
   "metadata": {},
   "outputs": [
    {
     "name": "stdout",
     "output_type": "stream",
     "text": [
      "RMSE Score (original units): 25821.364831451137 \n",
      "\n",
      "Training Score (R^2): 0.9274871903066648 \n",
      "\n",
      "Cross Validation Score: 25728.94518802654 \n",
      "\n",
      "Testing Score (R^2): 0.8992190064806039 \n",
      "\n"
     ]
    }
   ],
   "source": [
    "ridge = Ridge(alpha = ridgecv.alpha_)\n",
    "ridge.fit(X_all_train, y_all_train)\n",
    "ridge_all_pred = ridge.predict(X_all_test)\n",
    "metrics(ridge, X_all_train, y_all_train, ridge_all_pred, X_all_test, y_all_test)"
   ]
  },
  {
   "cell_type": "markdown",
   "id": "5c933c09",
   "metadata": {},
   "source": [
    "#### Lasso Regression Model: Regularization\n",
    "\n"
   ]
  },
  {
   "cell_type": "code",
   "execution_count": 17,
   "id": "7a6d7687",
   "metadata": {},
   "outputs": [
    {
     "data": {
      "text/plain": [
       "0.0035111917342151347"
      ]
     },
     "execution_count": 17,
     "metadata": {},
     "output_type": "execute_result"
    }
   ],
   "source": [
    "lassocv = LassoCV(alphas = np.logspace(-5, -1, 100), cv = 10, max_iter =3000)\n",
    "lassocv.fit(X_all_train, y_all_train)\n",
    "lassocv.alpha_"
   ]
  },
  {
   "cell_type": "code",
   "execution_count": 18,
   "id": "677c6dea",
   "metadata": {},
   "outputs": [
    {
     "name": "stdout",
     "output_type": "stream",
     "text": [
      "RMSE Score (original units): 25341.010392921307 \n",
      "\n",
      "Training Score (R^2): 0.9210140599021995 \n",
      "\n",
      "Cross Validation Score: 25772.024064282006 \n",
      "\n",
      "Testing Score (R^2): 0.9009265318028469 \n",
      "\n"
     ]
    }
   ],
   "source": [
    "lasso = Lasso(alpha = lassocv.alpha_, max_iter = 50000)\n",
    "lasso.fit(X_all_train, y_all_train)\n",
    "lasso_all_pred = lasso.predict(X_all_test)\n",
    "metrics(lasso, X_all_train, y_all_train, lasso_all_pred, X_all_test, y_all_test)"
   ]
  },
  {
   "cell_type": "markdown",
   "id": "41fd195d",
   "metadata": {},
   "source": [
    "#### ElasticNet Regression Model: Regularization"
   ]
  },
  {
   "cell_type": "code",
   "execution_count": 19,
   "id": "477185da",
   "metadata": {},
   "outputs": [
    {
     "name": "stdout",
     "output_type": "stream",
     "text": [
      "0.014352956374664338\n",
      "0.2575\n"
     ]
    }
   ],
   "source": [
    "l1_ratios = np.linspace(0.01, 1.0, 25)\n",
    "\n",
    "optimal_enet = ElasticNetCV(l1_ratio = l1_ratios, n_alphas = 100, cv = 10, verbose = False)\n",
    "optimal_enet.fit(X_all_train, y_all_train)\n",
    "\n",
    "print (optimal_enet.alpha_)\n",
    "print (optimal_enet.l1_ratio_)"
   ]
  },
  {
   "cell_type": "code",
   "execution_count": 20,
   "id": "7128456f",
   "metadata": {},
   "outputs": [
    {
     "name": "stdout",
     "output_type": "stream",
     "text": [
      "RMSE Score (original units): 25077.792934095996 \n",
      "\n",
      "Training Score (R^2): 0.9205273212091876 \n",
      "\n",
      "Cross Validation Score: 25667.253566152867 \n",
      "\n",
      "Testing Score (R^2): 0.9017834970275037 \n",
      "\n"
     ]
    }
   ],
   "source": [
    "enet = ElasticNet(alpha = optimal_enet.alpha_, l1_ratio = optimal_enet.l1_ratio_, max_iter = 50000)\n",
    "enet.fit(X_all_train, y_all_train)\n",
    "enet_all_pred = enet.predict(X_all_test)\n",
    "metrics(enet, X_all_train, y_all_train, enet_all_pred, X_all_test, y_all_test)"
   ]
  },
  {
   "cell_type": "markdown",
   "id": "077592f3",
   "metadata": {},
   "source": [
    "### Modeling: Feature Selection by Pearson Correlation Coefficent"
   ]
  },
  {
   "cell_type": "code",
   "execution_count": 21,
   "id": "ded38a29",
   "metadata": {},
   "outputs": [],
   "source": [
    "X_p = train[['lot_frontage', 'lot_shape', 'overall_qual', 'year_remod/add', 'mas_vnr_area', 'bsmt_qual', 'electrical', 'wood_deck_sf', \n",
    "             'open_porch_sf', 'bsmt_exposure', 'bsmtfin_type_1', 'heating_qc', 'kitchen_qual', 'totrms_abvgrd', 'fireplace_qu', \n",
    "             'garage_yr_blt', 'garage_finish', 'garage_area', 'garage_qual', 'paved_drive', 'house_age', 'house_area', \n",
    "             'location', 'total_bath', 'ms_subclass_30', 'ms_subclass_60', 'ms_zoning_RM', 'mas_vnr_type_None', \n",
    "             'foundation_PConc', 'foundation_CBlock', 'central_air_Y', 'garage_type_Attchd', 'garage_type_Detchd', \n",
    "             'sale_type_New']]\n",
    "\n",
    "y_p = train['saleprice']"
   ]
  },
  {
   "cell_type": "code",
   "execution_count": 22,
   "id": "ed6fae83",
   "metadata": {},
   "outputs": [],
   "source": [
    "X_p_train, X_p_test, y_p_train, y_p_test = train_test_split(X_p, y_p, test_size = 0.2, random_state = 42)"
   ]
  },
  {
   "cell_type": "code",
   "execution_count": 23,
   "id": "5b749c70",
   "metadata": {},
   "outputs": [
    {
     "name": "stdout",
     "output_type": "stream",
     "text": [
      "Train: (1638, 34) (1638,)\n"
     ]
    }
   ],
   "source": [
    "# summarize shape\n",
    "print('Train:', X_p_train.shape, y_p_train.shape)"
   ]
  },
  {
   "cell_type": "markdown",
   "id": "060b86a2",
   "metadata": {},
   "source": [
    "#### Linear Regression Model"
   ]
  },
  {
   "cell_type": "code",
   "execution_count": 24,
   "id": "005cb5a1",
   "metadata": {},
   "outputs": [],
   "source": [
    "lr = LinearRegression()"
   ]
  },
  {
   "cell_type": "code",
   "execution_count": 25,
   "id": "9b3d65c2",
   "metadata": {},
   "outputs": [
    {
     "data": {
      "text/plain": [
       "LinearRegression()"
      ]
     },
     "execution_count": 25,
     "metadata": {},
     "output_type": "execute_result"
    }
   ],
   "source": [
    "lr.fit(X_p_train, y_p_train)"
   ]
  },
  {
   "cell_type": "code",
   "execution_count": 26,
   "id": "c4fd2e9f",
   "metadata": {},
   "outputs": [],
   "source": [
    "lr_p_pred = lr.predict(X_p_test)"
   ]
  },
  {
   "cell_type": "code",
   "execution_count": 27,
   "id": "1dca7e59",
   "metadata": {
    "scrolled": true
   },
   "outputs": [
    {
     "name": "stdout",
     "output_type": "stream",
     "text": [
      "RMSE Score (original units): 21861.55688905863 \n",
      "\n",
      "Training Score (R^2): 0.8942374049795403 \n",
      "\n",
      "Cross Validation Score: 28669.56642600141 \n",
      "\n",
      "Testing Score (R^2): 0.8968588049550573 \n",
      "\n"
     ]
    }
   ],
   "source": [
    "metrics(lr, X_p_train, y_p_train, lr_p_pred, X_p_test, y_p_test)"
   ]
  },
  {
   "cell_type": "code",
   "execution_count": 28,
   "id": "e1b76158",
   "metadata": {},
   "outputs": [],
   "source": [
    "# Scale train/test sets\n",
    "ss = StandardScaler()\n",
    "X_p_train = ss.fit_transform(X_p_train)\n",
    "X_p_test = ss.transform(X_p_test)"
   ]
  },
  {
   "cell_type": "markdown",
   "id": "3b1d2646",
   "metadata": {},
   "source": [
    "#### Ridge Regression Model: Regularization"
   ]
  },
  {
   "cell_type": "code",
   "execution_count": 29,
   "id": "93190943",
   "metadata": {},
   "outputs": [
    {
     "data": {
      "text/plain": [
       "51.02040816326531"
      ]
     },
     "execution_count": 29,
     "metadata": {},
     "output_type": "execute_result"
    }
   ],
   "source": [
    "ridgecv = RidgeCV(alphas = np.linspace(0, 100, 50), cv = 10)\n",
    "ridgecv.fit(X_p_train, y_p_train)\n",
    "ridgecv.alpha_"
   ]
  },
  {
   "cell_type": "markdown",
   "id": "f93863b5",
   "metadata": {},
   "source": [
    "Fit the RidgeCV to find the best `alpha_` parameter it found through cross-validation"
   ]
  },
  {
   "cell_type": "code",
   "execution_count": 30,
   "id": "e3acfe4c",
   "metadata": {},
   "outputs": [
    {
     "name": "stdout",
     "output_type": "stream",
     "text": [
      "RMSE Score (original units): 22006.911962839622 \n",
      "\n",
      "Training Score (R^2): 0.8939493252133603 \n",
      "\n",
      "Cross Validation Score: 28655.771019081498 \n",
      "\n",
      "Testing Score (R^2): 0.8972983547048801 \n",
      "\n"
     ]
    }
   ],
   "source": [
    "ridge = Ridge(alpha = ridgecv.alpha_)\n",
    "ridge.fit(X_p_train, y_p_train)\n",
    "ridge_p_pred = ridge.predict(X_p_test)\n",
    "metrics(ridge, X_p_train, y_p_train, ridge_p_pred, X_p_test, y_p_test)"
   ]
  },
  {
   "cell_type": "markdown",
   "id": "35d7af3b",
   "metadata": {},
   "source": [
    "#### Lasso Regression Model: Regularization\n",
    "Lasso differs from Ridge regression by summing the absolute value of the predictors (mⱼ) instead of summing the squared values."
   ]
  },
  {
   "cell_type": "code",
   "execution_count": 31,
   "id": "7cb79f49",
   "metadata": {},
   "outputs": [
    {
     "data": {
      "text/plain": [
       "0.0012618568830660211"
      ]
     },
     "execution_count": 31,
     "metadata": {},
     "output_type": "execute_result"
    }
   ],
   "source": [
    "lassocv = LassoCV(alphas = np.logspace(-5, -1, 100), cv = 10)\n",
    "lassocv.fit(X_p_train, y_p_train)\n",
    "lassocv.alpha_"
   ]
  },
  {
   "cell_type": "code",
   "execution_count": 32,
   "id": "58c3cec0",
   "metadata": {
    "scrolled": false
   },
   "outputs": [
    {
     "name": "stdout",
     "output_type": "stream",
     "text": [
      "RMSE Score (original units): 22014.297981143012 \n",
      "\n",
      "Training Score (R^2): 0.8938633640111752 \n",
      "\n",
      "Cross Validation Score: 28669.566187333414 \n",
      "\n",
      "Testing Score (R^2): 0.8965022325512426 \n",
      "\n"
     ]
    }
   ],
   "source": [
    "lasso = Lasso(alpha = lassocv.alpha_)\n",
    "lasso.fit(X_p_train, y_p_train)\n",
    "lasso_p_pred = lasso.predict(X_p_test)\n",
    "metrics(lasso, X_p_train, y_p_train, lasso_p_pred, X_p_test, y_p_test)"
   ]
  },
  {
   "cell_type": "markdown",
   "id": "9e66d279",
   "metadata": {},
   "source": [
    "#### ElasticNet Regression Model: Regularization"
   ]
  },
  {
   "cell_type": "code",
   "execution_count": 33,
   "id": "02aff8f9",
   "metadata": {},
   "outputs": [
    {
     "name": "stdout",
     "output_type": "stream",
     "text": [
      "0.011379477462252015\n",
      "0.0925\n"
     ]
    }
   ],
   "source": [
    "l1_ratios = np.linspace(0.01, 1.0, 25)\n",
    "\n",
    "optimal_enet = ElasticNetCV(l1_ratio = l1_ratios, n_alphas = 100, cv = 10, verbose = False)\n",
    "optimal_enet.fit(X_p_train, y_p_train)\n",
    "\n",
    "print (optimal_enet.alpha_)\n",
    "print (optimal_enet.l1_ratio_)"
   ]
  },
  {
   "cell_type": "code",
   "execution_count": 34,
   "id": "c31c75e1",
   "metadata": {
    "scrolled": true
   },
   "outputs": [
    {
     "name": "stdout",
     "output_type": "stream",
     "text": [
      "RMSE Score (original units): 22013.102604811687 \n",
      "\n",
      "Training Score (R^2): 0.893907532692812 \n",
      "\n",
      "Cross Validation Score: 28653.468573942762 \n",
      "\n",
      "Testing Score (R^2): 0.896861509623396 \n",
      "\n"
     ]
    }
   ],
   "source": [
    "enet = ElasticNet(alpha = optimal_enet.alpha_, l1_ratio = optimal_enet.l1_ratio_)\n",
    "enet.fit(X_p_train, y_p_train)\n",
    "enet_p_pred = enet.predict(X_p_test)\n",
    "metrics(enet, X_p_train, y_p_train, enet_p_pred, X_p_test, y_p_test)"
   ]
  },
  {
   "cell_type": "markdown",
   "id": "274a8301",
   "metadata": {},
   "source": [
    "### Modeling: Feature Selection by SelectKBest (K = 32)"
   ]
  },
  {
   "cell_type": "code",
   "execution_count": 35,
   "id": "a0b68976",
   "metadata": {},
   "outputs": [
    {
     "name": "stdout",
     "output_type": "stream",
     "text": [
      "(2048, 32)\n",
      "(2048,)\n"
     ]
    }
   ],
   "source": [
    "X_k32 = train[['lot_frontage', 'overall_qual', 'year_remod/add', 'mas_vnr_area',\n",
    "       'bsmt_qual', 'bsmt_exposure', 'bsmtfin_type_1', 'heating_qc',\n",
    "       'kitchen_qual', 'totrms_abvgrd', 'fireplace_qu', 'garage_yr_blt',\n",
    "       'garage_finish', 'garage_area', 'garage_qual', 'paved_drive',\n",
    "       'wood_deck_sf', 'open_porch_sf', 'house_age', 'house_area',\n",
    "       'location', 'total_bath', 'ms_subclass_30', 'ms_subclass_60',\n",
    "       'ms_zoning_RM', 'mas_vnr_type_None', 'foundation_CBlock',\n",
    "       'foundation_PConc', 'central_air_Y', 'garage_type_Attchd',\n",
    "       'garage_type_Detchd', 'sale_type_New']]\n",
    "\n",
    "y_k32 = train['saleprice']\n",
    "print(X_k32.shape)\n",
    "print(y_k32.shape)"
   ]
  },
  {
   "cell_type": "code",
   "execution_count": 36,
   "id": "e436c9c2",
   "metadata": {},
   "outputs": [],
   "source": [
    "X_k32_train, X_k32_test, y_k32_train, y_k32_test = train_test_split(X_k32, y_k32, test_size = 0.2, random_state = 42)"
   ]
  },
  {
   "cell_type": "code",
   "execution_count": 37,
   "id": "dd34b838",
   "metadata": {},
   "outputs": [
    {
     "name": "stdout",
     "output_type": "stream",
     "text": [
      "Train: (1638, 32) (1638,)\n"
     ]
    }
   ],
   "source": [
    "# summarize shape\n",
    "print('Train:', X_k32_train.shape, y_k32_train.shape)"
   ]
  },
  {
   "cell_type": "markdown",
   "id": "955b388b",
   "metadata": {},
   "source": [
    "#### Linear Regression Model"
   ]
  },
  {
   "cell_type": "code",
   "execution_count": 38,
   "id": "ec30f263",
   "metadata": {},
   "outputs": [],
   "source": [
    "lr = LinearRegression()"
   ]
  },
  {
   "cell_type": "code",
   "execution_count": 39,
   "id": "34b4dcef",
   "metadata": {},
   "outputs": [
    {
     "data": {
      "text/plain": [
       "LinearRegression()"
      ]
     },
     "execution_count": 39,
     "metadata": {},
     "output_type": "execute_result"
    }
   ],
   "source": [
    "lr.fit(X_k32_train, y_k32_train)"
   ]
  },
  {
   "cell_type": "code",
   "execution_count": 40,
   "id": "227a647d",
   "metadata": {},
   "outputs": [],
   "source": [
    "lr_k32_pred = lr.predict(X_k32_test)"
   ]
  },
  {
   "cell_type": "code",
   "execution_count": 41,
   "id": "ca1a6969",
   "metadata": {
    "scrolled": true
   },
   "outputs": [
    {
     "name": "stdout",
     "output_type": "stream",
     "text": [
      "RMSE Score (original units): 22262.45114235047 \n",
      "\n",
      "Training Score (R^2): 0.8936580590232066 \n",
      "\n",
      "Cross Validation Score: 28666.70869209501 \n",
      "\n",
      "Testing Score (R^2): 0.8950296843395166 \n",
      "\n"
     ]
    }
   ],
   "source": [
    "metrics(lr, X_k32_train, y_k32_train, lr_k32_pred, X_k32_test, y_k32_test)"
   ]
  },
  {
   "cell_type": "code",
   "execution_count": 42,
   "id": "8b8461c2",
   "metadata": {},
   "outputs": [],
   "source": [
    "# Scale train/test sets\n",
    "ss = StandardScaler()\n",
    "X_k32_train = ss.fit_transform(X_k32_train)\n",
    "X_k32_test = ss.transform(X_k32_test)"
   ]
  },
  {
   "cell_type": "markdown",
   "id": "c20f39d5",
   "metadata": {},
   "source": [
    "#### Ridge Regression: Regularization"
   ]
  },
  {
   "cell_type": "markdown",
   "id": "4e9a5c3a",
   "metadata": {},
   "source": [
    "Fit the RidgeCV to find the best `alpha_` parameter it found through cross-validation"
   ]
  },
  {
   "cell_type": "code",
   "execution_count": 43,
   "id": "22dab69c",
   "metadata": {},
   "outputs": [
    {
     "data": {
      "text/plain": [
       "44.89795918367347"
      ]
     },
     "execution_count": 43,
     "metadata": {},
     "output_type": "execute_result"
    }
   ],
   "source": [
    "ridgecv = RidgeCV(alphas = np.linspace(0, 100, 50), cv = 10)\n",
    "ridgecv.fit(X_k32_train, y_k32_train)\n",
    "ridgecv.alpha_"
   ]
  },
  {
   "cell_type": "code",
   "execution_count": 44,
   "id": "990a8319",
   "metadata": {},
   "outputs": [
    {
     "name": "stdout",
     "output_type": "stream",
     "text": [
      "RMSE Score (original units): 22387.574319146977 \n",
      "\n",
      "Training Score (R^2): 0.8934213352223168 \n",
      "\n",
      "Cross Validation Score: 28652.73011079641 \n",
      "\n",
      "Testing Score (R^2): 0.8953674447835493 \n",
      "\n"
     ]
    }
   ],
   "source": [
    "ridge = Ridge(alpha = ridgecv.alpha_)\n",
    "ridge.fit(X_k32_train, y_k32_train)\n",
    "ridge_k32_pred = ridge.predict(X_k32_test)\n",
    "metrics(ridge, X_k32_train, y_k32_train, ridge_k32_pred, X_k32_test, y_k32_test)"
   ]
  },
  {
   "cell_type": "markdown",
   "id": "b243e3fe",
   "metadata": {},
   "source": [
    "#### Lasso Regression: Regularization"
   ]
  },
  {
   "cell_type": "code",
   "execution_count": 45,
   "id": "752d9347",
   "metadata": {},
   "outputs": [
    {
     "data": {
      "text/plain": [
       "0.0011497569953977367"
      ]
     },
     "execution_count": 45,
     "metadata": {},
     "output_type": "execute_result"
    }
   ],
   "source": [
    "lassocv = LassoCV(alphas = np.logspace(-5, -1, 100), cv = 10)\n",
    "lassocv.fit(X_k32_train, y_k32_train)\n",
    "lassocv.alpha_"
   ]
  },
  {
   "cell_type": "code",
   "execution_count": 46,
   "id": "19b6f7f7",
   "metadata": {
    "scrolled": true
   },
   "outputs": [
    {
     "name": "stdout",
     "output_type": "stream",
     "text": [
      "RMSE Score (original units): 22383.268892849097 \n",
      "\n",
      "Training Score (R^2): 0.8933392618761964 \n",
      "\n",
      "Cross Validation Score: 28666.70848405402 \n",
      "\n",
      "Testing Score (R^2): 0.8946650159669948 \n",
      "\n"
     ]
    }
   ],
   "source": [
    "lasso = Lasso(alpha = lassocv.alpha_)\n",
    "lasso.fit(X_k32_train, y_k32_train)\n",
    "lasso_k32_pred = lasso.predict(X_k32_test)\n",
    "metrics(lasso, X_k32_train, y_k32_train, lasso_k32_pred, X_k32_test, y_k32_test)"
   ]
  },
  {
   "cell_type": "markdown",
   "id": "9493e62f",
   "metadata": {},
   "source": [
    "#### ElasticNet Regression: Regularization"
   ]
  },
  {
   "cell_type": "code",
   "execution_count": 47,
   "id": "cda23882",
   "metadata": {},
   "outputs": [
    {
     "name": "stdout",
     "output_type": "stream",
     "text": [
      "0.015536674308114073\n",
      "0.051250000000000004\n"
     ]
    }
   ],
   "source": [
    "l1_ratios = np.linspace(0.01, 1.0, 25)\n",
    "\n",
    "optimal_enet = ElasticNetCV(l1_ratio = l1_ratios, n_alphas = 100, cv = 10, verbose = False)\n",
    "optimal_enet.fit(X_k32_train, y_k32_train)\n",
    "\n",
    "print (optimal_enet.alpha_)\n",
    "print (optimal_enet.l1_ratio_)"
   ]
  },
  {
   "cell_type": "code",
   "execution_count": 48,
   "id": "4e2e9292",
   "metadata": {
    "scrolled": true
   },
   "outputs": [
    {
     "name": "stdout",
     "output_type": "stream",
     "text": [
      "RMSE Score (original units): 22390.177469457733 \n",
      "\n",
      "Training Score (R^2): 0.8933943050757822 \n",
      "\n",
      "Cross Validation Score: 28648.84054471564 \n",
      "\n",
      "Testing Score (R^2): 0.8951635305200718 \n",
      "\n"
     ]
    }
   ],
   "source": [
    "enet = ElasticNet(alpha = optimal_enet.alpha_, l1_ratio = optimal_enet.l1_ratio_)\n",
    "enet.fit(X_k32_train, y_k32_train)\n",
    "enet_k32_pred = enet.predict(X_k32_test)\n",
    "metrics(enet, X_k32_train, y_k32_train, enet_k32_pred, X_k32_test, y_k32_test)"
   ]
  },
  {
   "cell_type": "markdown",
   "id": "4f0098a4",
   "metadata": {},
   "source": [
    "### Modeling: Feature Selection by SelectKBest (K = 40)"
   ]
  },
  {
   "cell_type": "code",
   "execution_count": 49,
   "id": "d54484c8",
   "metadata": {},
   "outputs": [],
   "source": [
    "X_k40 = train[['lot_frontage', 'lot_area', 'lot_shape', 'overall_qual',\n",
    "       'year_remod/add', 'mas_vnr_area', 'bsmt_qual', 'bsmt_cond',\n",
    "       'bsmt_exposure', 'bsmtfin_type_1', 'heating_qc', 'electrical',\n",
    "       'kitchen_qual', 'totrms_abvgrd', 'fireplace_qu', 'garage_yr_blt',\n",
    "       'garage_finish', 'garage_area', 'garage_qual', 'paved_drive',\n",
    "       'wood_deck_sf', 'open_porch_sf', 'house_age', 'house_area',\n",
    "       'location', 'total_bath', 'ms_subclass_30', 'ms_subclass_60',\n",
    "       'ms_zoning_RL', 'ms_zoning_RM', 'mas_vnr_type_BrkFace',\n",
    "       'mas_vnr_type_None', 'mas_vnr_type_Stone', 'foundation_CBlock',\n",
    "       'foundation_PConc', 'central_air_Y', 'garage_type_Attchd',\n",
    "       'garage_type_Detchd', 'garage_type_None', 'sale_type_New']]\n",
    "\n",
    "y_k40 = train['saleprice']"
   ]
  },
  {
   "cell_type": "code",
   "execution_count": 50,
   "id": "621bfe64",
   "metadata": {},
   "outputs": [],
   "source": [
    "X_k40_train, X_k40_test, y_k40_train, y_k40_test = train_test_split(X_k40, y_k40, test_size = 0.2, random_state = 42)"
   ]
  },
  {
   "cell_type": "code",
   "execution_count": 51,
   "id": "4efb6305",
   "metadata": {},
   "outputs": [
    {
     "name": "stdout",
     "output_type": "stream",
     "text": [
      "Train: (1638, 40) (1638,)\n"
     ]
    }
   ],
   "source": [
    "# summarize shape\n",
    "print('Train:', X_k40_train.shape, y_k40_train.shape)"
   ]
  },
  {
   "cell_type": "markdown",
   "id": "69b2a8dc",
   "metadata": {},
   "source": [
    "#### Linear Regression Model"
   ]
  },
  {
   "cell_type": "code",
   "execution_count": 52,
   "id": "d8d603a4",
   "metadata": {},
   "outputs": [],
   "source": [
    "lr = LinearRegression()"
   ]
  },
  {
   "cell_type": "code",
   "execution_count": 53,
   "id": "2ead3bbe",
   "metadata": {},
   "outputs": [
    {
     "data": {
      "text/plain": [
       "LinearRegression()"
      ]
     },
     "execution_count": 53,
     "metadata": {},
     "output_type": "execute_result"
    }
   ],
   "source": [
    "lr.fit(X_k40_train, y_k40_train)"
   ]
  },
  {
   "cell_type": "code",
   "execution_count": 54,
   "id": "1c3dc91d",
   "metadata": {},
   "outputs": [],
   "source": [
    "lr_k40_pred = lr.predict(X_k40_test)"
   ]
  },
  {
   "cell_type": "code",
   "execution_count": 55,
   "id": "56518972",
   "metadata": {
    "scrolled": true
   },
   "outputs": [
    {
     "name": "stdout",
     "output_type": "stream",
     "text": [
      "RMSE Score (original units): 25143.31035663443 \n",
      "\n",
      "Training Score (R^2): 0.899223251952597 \n",
      "\n",
      "Cross Validation Score: 27530.767646237764 \n",
      "\n",
      "Testing Score (R^2): 0.8895666155099915 \n",
      "\n"
     ]
    }
   ],
   "source": [
    "metrics(lr, X_k40_train, y_k40_train, lr_k40_pred, X_k40_test, y_k40_test)"
   ]
  },
  {
   "cell_type": "code",
   "execution_count": 56,
   "id": "912baf45",
   "metadata": {},
   "outputs": [],
   "source": [
    "# Scale train/test sets\n",
    "ss = StandardScaler()\n",
    "X_k40_train = ss.fit_transform(X_k40_train)\n",
    "X_k40_test = ss.transform(X_k40_test)"
   ]
  },
  {
   "cell_type": "markdown",
   "id": "232c679c",
   "metadata": {},
   "source": [
    "#### Ridge Regression Model: Regularization"
   ]
  },
  {
   "cell_type": "code",
   "execution_count": 57,
   "id": "9a0318d6",
   "metadata": {},
   "outputs": [
    {
     "data": {
      "text/plain": [
       "44.89795918367347"
      ]
     },
     "execution_count": 57,
     "metadata": {},
     "output_type": "execute_result"
    }
   ],
   "source": [
    "ridgecv = RidgeCV(alphas = np.linspace(0, 100, 50), cv = 10)\n",
    "ridgecv.fit(X_k40_train, y_k40_train)\n",
    "ridgecv.alpha_"
   ]
  },
  {
   "cell_type": "markdown",
   "id": "b9c4f063",
   "metadata": {},
   "source": [
    "Fit the RidgeCV to find the best `alpha_` parameter it found through cross-validation"
   ]
  },
  {
   "cell_type": "code",
   "execution_count": 58,
   "id": "87e0fe82",
   "metadata": {},
   "outputs": [
    {
     "name": "stdout",
     "output_type": "stream",
     "text": [
      "RMSE Score (original units): 25618.120133864915 \n",
      "\n",
      "Training Score (R^2): 0.8987348122139779 \n",
      "\n",
      "Cross Validation Score: 27504.44695410791 \n",
      "\n",
      "Testing Score (R^2): 0.8904923672495133 \n",
      "\n"
     ]
    }
   ],
   "source": [
    "ridge = Ridge(alpha = ridgecv.alpha_)\n",
    "ridge.fit(X_k40_train, y_k40_train)\n",
    "ridge_k40_pred = ridge.predict(X_k40_test)\n",
    "metrics(ridge, X_k40_train, y_k40_train, ridge_k40_pred, X_k40_test, y_k40_test)"
   ]
  },
  {
   "cell_type": "markdown",
   "id": "e397f0c7",
   "metadata": {},
   "source": [
    "#### Lasso Regression Model: Regularization"
   ]
  },
  {
   "cell_type": "code",
   "execution_count": 59,
   "id": "fd4aee35",
   "metadata": {},
   "outputs": [
    {
     "data": {
      "text/plain": [
       "0.0012618568830660211"
      ]
     },
     "execution_count": 59,
     "metadata": {},
     "output_type": "execute_result"
    }
   ],
   "source": [
    "lassocv = LassoCV(alphas = np.logspace(-5, -1, 100), cv = 10, max_iter =3000)\n",
    "lassocv.fit(X_k40_train, y_k40_train)\n",
    "lassocv.alpha_"
   ]
  },
  {
   "cell_type": "code",
   "execution_count": 60,
   "id": "18b346d4",
   "metadata": {
    "scrolled": true
   },
   "outputs": [
    {
     "name": "stdout",
     "output_type": "stream",
     "text": [
      "RMSE Score (original units): 26073.230792206912 \n",
      "\n",
      "Training Score (R^2): 0.8981395520764733 \n",
      "\n",
      "Cross Validation Score: 27530.766990668508 \n",
      "\n",
      "Testing Score (R^2): 0.8898698810959438 \n",
      "\n"
     ]
    }
   ],
   "source": [
    "lasso = Lasso(alpha = lassocv.alpha_, max_iter =10000)\n",
    "lasso.fit(X_k40_train, y_k40_train)\n",
    "lasso_k40_pred = lasso.predict(X_k40_test)\n",
    "metrics(lasso, X_k40_train, y_k40_train, lasso_k40_pred, X_k40_test, y_k40_test)"
   ]
  },
  {
   "cell_type": "markdown",
   "id": "b33d8cf8",
   "metadata": {},
   "source": [
    "#### ElasticNet Regression Model: Regularization"
   ]
  },
  {
   "cell_type": "code",
   "execution_count": 61,
   "id": "578549f0",
   "metadata": {},
   "outputs": [
    {
     "name": "stdout",
     "output_type": "stream",
     "text": [
      "0.013083633816195128\n",
      "0.0925\n"
     ]
    }
   ],
   "source": [
    "l1_ratios = np.linspace(0.01, 1.0, 25)\n",
    "\n",
    "optimal_enet = ElasticNetCV(l1_ratio = l1_ratios, n_alphas = 100, cv = 10, verbose = False)\n",
    "optimal_enet.fit(X_k40_train, y_k40_train)\n",
    "\n",
    "print (optimal_enet.alpha_)\n",
    "print (optimal_enet.l1_ratio_)"
   ]
  },
  {
   "cell_type": "code",
   "execution_count": 62,
   "id": "e6e3aba7",
   "metadata": {
    "scrolled": false
   },
   "outputs": [
    {
     "name": "stdout",
     "output_type": "stream",
     "text": [
      "RMSE Score (original units): 25935.418328343618 \n",
      "\n",
      "Training Score (R^2): 0.898030450676558 \n",
      "\n",
      "Cross Validation Score: 27496.175264682744 \n",
      "\n",
      "Testing Score (R^2): 0.8906518361556635 \n",
      "\n"
     ]
    }
   ],
   "source": [
    "enet = ElasticNet(alpha = optimal_enet.alpha_, l1_ratio = optimal_enet.l1_ratio_)\n",
    "enet.fit(X_k40_train, y_k40_train)\n",
    "enet_k40_pred = enet.predict(X_k40_test)\n",
    "metrics(enet, X_k40_train, y_k40_train, enet_k40_pred, X_k40_test, y_k40_test)"
   ]
  },
  {
   "cell_type": "markdown",
   "id": "b7030e03",
   "metadata": {},
   "source": [
    "---"
   ]
  },
  {
   "cell_type": "markdown",
   "id": "a610b209",
   "metadata": {},
   "source": [
    "## Model Evaluation"
   ]
  },
  {
   "cell_type": "markdown",
   "id": "b9e0b03c",
   "metadata": {},
   "source": [
    "We have created a table as shown below with the RMSE scores and Cross Validation Scores of the different Models used on different sets of features:\n",
    "\n",
    "All = 141: A total of 141 features, with no proper feature selection done, are used as predictors (including all dummified features) in the modeling.\n",
    "\n",
    "k = 32: 32 features are selected by using the automated feature selection method SelectKBest. After doing trial and error, k=32 seems to yield a better RMSE score on the train test data.\n",
    "\n",
    "k = 40: 40 features are selected by using the automated feature selection method SelectKBest. k=40 was added in deliberately for comparison purposes for k=32.\n",
    "\n",
    "Pearson: 34 features were selected based on Pearson correlation coefficient method where features (including dummified categorical features) were picked based on their correlation coefficiency with the target variable: saleprice. A threshold of coeff 0.30 was used in the feature selection process."
   ]
  },
  {
   "attachments": {
    "score_table.jpg": {
     "image/jpeg": "[encoded data removed]"
    }
   },
   "cell_type": "markdown",
   "id": "04e9693d",
   "metadata": {},
   "source": [
    "![score_table.jpg](attachment:score_table.jpg)"
   ]
  },
  {
   "cell_type": "markdown",
   "id": "2abdb2e4",
   "metadata": {},
   "source": [
    "Cross Validation Score is a score estimating how well the model performs using the training set, while RMSE score (in original units) is the standard deviation of the residuals (prediction errors). RMSE is more important and will be used here for comparison between models as it tells us how accurate our prediction would be. A lower score means that a model does a better job in predicting the saleprice."
   ]
  },
  {
   "cell_type": "markdown",
   "id": "1d25f92c",
   "metadata": {},
   "source": [
    "Refering to the score table, when 141 features are used as predictors for the modeling, the linear regression model (higher RMSE score) does not perform as well as compared to other regression models. This is because the linear regression model does not perform well when too many features are used as predictors. This can cause the overfitting of the linear regression model, and hence reducing its generalizability outside the original dataset. In this example, Elastic Net regression model (which combines the characteristics of both lasso and ridge) performs better as compared to Ridge and Lasso, probably because it reduces the impact of the different features while not eliminating all of the features which may be important. Multicollinearity will probably exist when too many features are used as predictors. As such, lasso will not perform as well as Elastic Net because Lasso might randomly choose one of the multicollinear variables without understanding the context, and hence eliminating relevant independent features. Also, with a high number of features (with no proper feature selection), there are probably many features that are irrelevant. Ridge regression model does not eliminate the coefficients in the model even if the features are irrelevant.\n",
    "\n",
    "From the RMSE scores shown, all the models seem to perform better where the number of features used as predictors are between 32 and 34. In these cases (k = 32 and Pearson), there is little difference between the different models' RMSE scores. However, the linear regression model seems to perform marginally better. This is probably because multicollinear features were removed before the feature selection process, and both SelectKBest and Pearson methods select features that have the highest correlation with the target variable. With little multicollinearity among these features, and substantial correlation between selected features and the target variable, linear regressions will usually perform well.\n",
    "\n",
    "The reason why the RMSE scores are similar, can also be explained by the lack of multicollinear features and substantial correlation coefficiency between the independent features."
   ]
  },
  {
   "cell_type": "code",
   "execution_count": 63,
   "id": "0561bdb3",
   "metadata": {},
   "outputs": [],
   "source": [
    "final_model = train[['saleprice', 'lot_frontage', 'lot_shape', 'overall_qual', 'year_remod/add', 'mas_vnr_area', 'bsmt_qual', 'electrical', 'wood_deck_sf', \n",
    "             'open_porch_sf', 'bsmt_exposure', 'bsmtfin_type_1', 'heating_qc', 'kitchen_qual', 'totrms_abvgrd', 'fireplace_qu', \n",
    "             'garage_yr_blt', 'garage_finish', 'garage_area', 'garage_qual', 'paved_drive', 'house_age', 'house_area', \n",
    "             'location', 'total_bath', 'ms_subclass_30', 'ms_subclass_60', 'ms_zoning_RM', 'mas_vnr_type_None', \n",
    "             'foundation_PConc', 'foundation_CBlock', 'central_air_Y', 'garage_type_Attchd', 'garage_type_Detchd', \n",
    "             'sale_type_New']]\n",
    "\n",
    "X = final_model.drop('saleprice', axis = 1)\n",
    "y = train['saleprice']"
   ]
  },
  {
   "cell_type": "code",
   "execution_count": 64,
   "id": "68595e22",
   "metadata": {},
   "outputs": [
    {
     "name": "stdout",
     "output_type": "stream",
     "text": [
      "RMSE Score (original units): 21861.55688905863 \n",
      "\n",
      "Training Score (R^2): 0.8942374049795403 \n",
      "\n",
      "Cross Validation Score: 28669.56642600141 \n",
      "\n",
      "Testing Score (R^2): 0.8968588049550573 \n",
      "\n"
     ]
    }
   ],
   "source": [
    "X_train, X_test, y_train, y_test = train_test_split(X, y, test_size = 0.2, random_state = 42)\n",
    "\n",
    "lr = LinearRegression()\n",
    "lr.fit(X_train, y_train)\n",
    "y_pred = lr.predict(X_test)\n",
    "metrics(lr, X_train, y_train, y_pred, X_test, y_test)"
   ]
  },
  {
   "cell_type": "code",
   "execution_count": 65,
   "id": "c65b630d",
   "metadata": {},
   "outputs": [
    {
     "data": {
      "image/png": "[encoded data removed]",
      "text/plain": [
       "<Figure size 1440x1080 with 2 Axes>"
      ]
     },
     "metadata": {
      "needs_background": "light"
     },
     "output_type": "display_data"
    }
   ],
   "source": [
    "# take a look at the correlation between all features of the final model against and saleprice\n",
    "plt.figure(figsize = (20, 15))\n",
    "sns.heatmap(final_model.corr()[['saleprice']].sort_values('saleprice', ascending = False), \n",
    "            annot=True, cmap ='coolwarm', vmin=-1, vmax=1);"
   ]
  },
  {
   "cell_type": "code",
   "execution_count": 66,
   "id": "f868cb48",
   "metadata": {},
   "outputs": [
    {
     "data": {
      "image/png": "[encoded data removed]",
      "text/plain": [
       "<Figure size 648x432 with 1 Axes>"
      ]
     },
     "metadata": {
      "needs_background": "light"
     },
     "output_type": "display_data"
    }
   ],
   "source": [
    "plt.figure(figsize=(9,6))\n",
    "\n",
    "# Generate a scatterplot of predicted values versus actual values.\n",
    "plt.scatter(np.exp(y_pred), np.exp(y_test), s = 5)\n",
    "\n",
    "# Plot a line.\n",
    "plt.plot([0, np.max(np.exp(y_test))],\n",
    "         [0, np.max(np.exp(y_test))],\n",
    "         color = 'red')\n",
    "\n",
    "plt.xlabel(\"Predicted Values: $\\hat{y}$\", fontsize = 12)\n",
    "plt.ylabel(\"Actual Values: $y$\", fontsize = 12)\n",
    "plt.title('Linear Regression Model: 34 Features', fontsize = 16)\n",
    "\n",
    "plt.savefig('../charts/scatter_final_model.jpg')\n",
    "plt.show();"
   ]
  },
  {
   "cell_type": "markdown",
   "id": "139f2f3f",
   "metadata": {},
   "source": [
    "## Conclusion\n",
    "### Final Model: Linear Regression with 34 Features\n",
    "With a RMSE score of 21861.556, the linear regression model using 34 features selected using Pearson Correlation Coeeficient method outperforms the other models. This is a strong improvement over our baseline model's RMSE score of 78,278.841. This linear regression model also received a private RMSE score of 22441.732 on Kaggle. Hence, this model will be selected as the recommended model.\n",
    "\n",
    "With the use of this prediction model, we can help clients to price their home sale price more accurately to attract potential buyers. In addition to this, the model is also able to provide our clients with useful insights on what factors would affect the pricing of their houses. They are:\n",
    "\n",
    "- overall quality of the house\n",
    "- size of the house\n",
    "- location of the house\n",
    "- kitchen quality\n",
    "- total number of bathrooms\n",
    "- garage area\n",
    "- age of the house\n"
   ]
  },
  {
   "cell_type": "markdown",
   "id": "c4fa770d",
   "metadata": {},
   "source": [
    "## Recommendation\n",
    "While working on the dataset, the team noticed that the original dataset from Ames, Iowa Assessor’s Office includes data on the condition of sale that provides us with information on whether a sale is a normal sale, an abnormal sale, partial sale where home was not completed when last assessed, sale between family members and etc. This is important because partial sales and sales between family members most likely do not represent actual market values. These kind of observations should be removed from the dataset as this can affect the accuracy of the model. Therefore, it is recommended that we should collect this data and do further analysis on whether it will improve the RMSE score of our model."
   ]
  },
  {
   "cell_type": "code",
   "execution_count": 67,
   "id": "c4d979d9",
   "metadata": {},
   "outputs": [],
   "source": [
    "final_model.to_csv('../datasets/final_model.csv', index = False)"
   ]
  }
 ],
 "metadata": {
  "kernelspec": {
   "display_name": "Python 3 (ipykernel)",
   "language": "python",
   "name": "python3"
  },
  "language_info": {
   "codemirror_mode": {
    "name": "ipython",
    "version": 3
   },
   "file_extension": ".py",
   "mimetype": "text/x-python",
   "name": "python",
   "nbconvert_exporter": "python",
   "pygments_lexer": "ipython3",
   "version": "3.9.7"
  }
 },
 "nbformat": 4,
 "nbformat_minor": 5
}
