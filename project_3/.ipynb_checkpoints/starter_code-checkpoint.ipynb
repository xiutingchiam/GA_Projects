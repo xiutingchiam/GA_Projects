{
 "cells": [
  {
   "cell_type": "markdown",
   "id": "a1f9a104",
   "metadata": {},
   "source": [
    "<img src=\"http://imgur.com/1ZcRyrc.png\" style=\"float: left; margin: 20px; height: 55px\">\n",
    "\n",
    "# Project 3: Web APIs & NLP"
   ]
  },
  {
   "cell_type": "markdown",
   "id": "72c5b41e",
   "metadata": {},
   "source": [
    "# Problem Statement\n",
    "\n"
   ]
  },
  {
   "cell_type": "code",
   "execution_count": null,
   "id": "46a8f795",
   "metadata": {},
   "outputs": [],
   "source": []
  },
  {
   "cell_type": "markdown",
   "id": "d28e0ca5",
   "metadata": {},
   "source": [
    "---"
   ]
  },
  {
   "cell_type": "markdown",
   "id": "c25012a1",
   "metadata": {},
   "source": [
    "# Table of Contents:\n",
    "- [Background](#Background)\n",
    "- [Datasets Used for Analysis](#Datasets-Used-for-Analysis)\n",
    "- [Import Libraries](#Import-Libraries)\n",
    "- [Data Collection](#Data-Collection)\n",
    "- [Understanding the Ames Train Dataset](#Understanding-the-Ames-Train-Dataset)\n",
    "- [NaN Values](#NaN-Values)\n",
    "- [Column Categories](#Column-Categories)\n",
    "- [Data Cleaning and EDA](#Data-Cleaning-and-EDA)\n"
   ]
  },
  {
   "cell_type": "markdown",
   "id": "ee512fc8",
   "metadata": {},
   "source": [
    "---"
   ]
  },
  {
   "cell_type": "markdown",
   "id": "e961e3af",
   "metadata": {},
   "source": [
    "# Import Libraries"
   ]
  },
  {
   "cell_type": "code",
   "execution_count": 6,
   "id": "9e74e023",
   "metadata": {},
   "outputs": [],
   "source": [
    "import requests\n",
    "import pandas as pd\n",
    "import numpy as np"
   ]
  },
  {
   "cell_type": "markdown",
   "id": "4971fab1",
   "metadata": {},
   "source": [
    "---"
   ]
  },
  {
   "cell_type": "markdown",
   "id": "902b4d79",
   "metadata": {},
   "source": [
    "---"
   ]
  },
  {
   "cell_type": "markdown",
   "id": "1132278d",
   "metadata": {},
   "source": [
    "# Data Collection"
   ]
  },
  {
   "cell_type": "markdown",
   "id": "7d7a0ccb",
   "metadata": {},
   "source": [
    "## Subreddit: Cycling"
   ]
  },
  {
   "cell_type": "code",
   "execution_count": 8,
   "id": "23301296",
   "metadata": {},
   "outputs": [],
   "source": [
    "# https://www.reddit.com/r/pushshift/comments/bfc2m1/capping_at_1000_posts/\n",
    "# Get data from r/cycling\n",
    "rows = 0\n",
    "last = ''\n",
    "posts = []\n",
    "url = 'https://api.pushshift.io/reddit/search/submission/?subreddit=cycling'\n",
    "\n",
    "while rows < 500:\n",
    "    res = requests.get('{}&before={}'.format(url, last))\n",
    "    json = res.json()\n",
    "    for i in json['data']:\n",
    "        posts.append(i)\n",
    "        rows += 1\n",
    "    last = int(i['created_utc'])"
   ]
  },
  {
   "cell_type": "code",
   "execution_count": 9,
   "id": "646fae72",
   "metadata": {},
   "outputs": [
    {
     "data": {
      "text/plain": [
       "200"
      ]
     },
     "execution_count": 9,
     "metadata": {},
     "output_type": "execute_result"
    }
   ],
   "source": [
    "res.status_code"
   ]
  },
  {
   "cell_type": "code",
   "execution_count": 10,
   "id": "346e48b3",
   "metadata": {},
   "outputs": [],
   "source": [
    "cycling_df = pd.DataFrame(posts)"
   ]
  },
  {
   "cell_type": "code",
   "execution_count": 11,
   "id": "b3e325a9",
   "metadata": {},
   "outputs": [],
   "source": [
    "cycling_df = cycling_df[['title','subreddit','selftext']]"
   ]
  },
  {
   "cell_type": "code",
   "execution_count": 12,
   "id": "7066bb55",
   "metadata": {},
   "outputs": [
    {
     "name": "stdout",
     "output_type": "stream",
     "text": [
      "<class 'pandas.core.frame.DataFrame'>\n",
      "RangeIndex: 500 entries, 0 to 499\n",
      "Data columns (total 3 columns):\n",
      " #   Column     Non-Null Count  Dtype \n",
      "---  ------     --------------  ----- \n",
      " 0   title      500 non-null    object\n",
      " 1   subreddit  500 non-null    object\n",
      " 2   selftext   500 non-null    object\n",
      "dtypes: object(3)\n",
      "memory usage: 11.8+ KB\n"
     ]
    }
   ],
   "source": [
    "cycling_df.info()"
   ]
  },
  {
   "cell_type": "markdown",
   "id": "d9859457",
   "metadata": {},
   "source": [
    "## Subreddit: Diving"
   ]
  },
  {
   "cell_type": "code",
   "execution_count": 13,
   "id": "716e5199",
   "metadata": {},
   "outputs": [],
   "source": [
    "# https://www.reddit.com/r/pushshift/comments/bfc2m1/capping_at_1000_posts/\n",
    "# Get data from r/diving\n",
    "rows = 0\n",
    "last = ''\n",
    "posts = []\n",
    "url = 'https://api.pushshift.io/reddit/search/submission/?subreddit=diving'\n",
    "\n",
    "while rows < 500:\n",
    "    res = requests.get('{}&before={}'.format(url, last))\n",
    "    json = res.json()\n",
    "    for i in json['data']:\n",
    "        posts.append(i)\n",
    "        rows += 1\n",
    "    last = int(i['created_utc'])"
   ]
  },
  {
   "cell_type": "code",
   "execution_count": 14,
   "id": "a9021a5b",
   "metadata": {},
   "outputs": [
    {
     "data": {
      "text/plain": [
       "200"
      ]
     },
     "execution_count": 14,
     "metadata": {},
     "output_type": "execute_result"
    }
   ],
   "source": [
    "res.status_code"
   ]
  },
  {
   "cell_type": "code",
   "execution_count": 15,
   "id": "9f058533",
   "metadata": {},
   "outputs": [],
   "source": [
    "diving_df = pd.DataFrame(posts)"
   ]
  },
  {
   "cell_type": "code",
   "execution_count": 16,
   "id": "d0a018cb",
   "metadata": {},
   "outputs": [],
   "source": [
    "diving_df = diving_df[['title','subreddit','selftext']]"
   ]
  },
  {
   "cell_type": "code",
   "execution_count": 17,
   "id": "43c19d78",
   "metadata": {},
   "outputs": [
    {
     "data": {
      "text/html": [
       "<div>\n",
       "<style scoped>\n",
       "    .dataframe tbody tr th:only-of-type {\n",
       "        vertical-align: middle;\n",
       "    }\n",
       "\n",
       "    .dataframe tbody tr th {\n",
       "        vertical-align: top;\n",
       "    }\n",
       "\n",
       "    .dataframe thead th {\n",
       "        text-align: right;\n",
       "    }\n",
       "</style>\n",
       "<table border=\"1\" class=\"dataframe\">\n",
       "  <thead>\n",
       "    <tr style=\"text-align: right;\">\n",
       "      <th></th>\n",
       "      <th>title</th>\n",
       "      <th>subreddit</th>\n",
       "      <th>selftext</th>\n",
       "    </tr>\n",
       "  </thead>\n",
       "  <tbody>\n",
       "    <tr>\n",
       "      <th>0</th>\n",
       "      <td>Lobster Catch and Cook</td>\n",
       "      <td>diving</td>\n",
       "      <td></td>\n",
       "    </tr>\n",
       "    <tr>\n",
       "      <th>1</th>\n",
       "      <td>4 teenage divers killed by sea snake (hydrophi...</td>\n",
       "      <td>diving</td>\n",
       "      <td>NaN</td>\n",
       "    </tr>\n",
       "    <tr>\n",
       "      <th>2</th>\n",
       "      <td>Until the tide takes us… [OC]</td>\n",
       "      <td>diving</td>\n",
       "      <td></td>\n",
       "    </tr>\n",
       "    <tr>\n",
       "      <th>3</th>\n",
       "      <td>True!</td>\n",
       "      <td>diving</td>\n",
       "      <td></td>\n",
       "    </tr>\n",
       "    <tr>\n",
       "      <th>4</th>\n",
       "      <td>to be a good swimmer, does it mean that you ar...</td>\n",
       "      <td>diving</td>\n",
       "      <td></td>\n",
       "    </tr>\n",
       "    <tr>\n",
       "      <th>...</th>\n",
       "      <td>...</td>\n",
       "      <td>...</td>\n",
       "      <td>...</td>\n",
       "    </tr>\n",
       "    <tr>\n",
       "      <th>495</th>\n",
       "      <td>Trying not to panic. Is this mask squeeze? Wen...</td>\n",
       "      <td>diving</td>\n",
       "      <td></td>\n",
       "    </tr>\n",
       "    <tr>\n",
       "      <th>496</th>\n",
       "      <td>Join our Scuba and Freediving community. Find ...</td>\n",
       "      <td>diving</td>\n",
       "      <td>If you are new to Scuba, join our Discord and ...</td>\n",
       "    </tr>\n",
       "    <tr>\n",
       "      <th>497</th>\n",
       "      <td>Mask squeeze (along the brow bone)? Came up a ...</td>\n",
       "      <td>diving</td>\n",
       "      <td></td>\n",
       "    </tr>\n",
       "    <tr>\n",
       "      <th>498</th>\n",
       "      <td>Staying near marathon/long key</td>\n",
       "      <td>diving</td>\n",
       "      <td>Before going down for lobster in key west, we ...</td>\n",
       "    </tr>\n",
       "    <tr>\n",
       "      <th>499</th>\n",
       "      <td>What BCD would you recommend for someone who h...</td>\n",
       "      <td>diving</td>\n",
       "      <td>What are some good BCDs for experienced divers...</td>\n",
       "    </tr>\n",
       "  </tbody>\n",
       "</table>\n",
       "<p>500 rows × 3 columns</p>\n",
       "</div>"
      ],
      "text/plain": [
       "                                                 title subreddit  \\\n",
       "0                               Lobster Catch and Cook    diving   \n",
       "1    4 teenage divers killed by sea snake (hydrophi...    diving   \n",
       "2                        Until the tide takes us… [OC]    diving   \n",
       "3                                                True!    diving   \n",
       "4    to be a good swimmer, does it mean that you ar...    diving   \n",
       "..                                                 ...       ...   \n",
       "495  Trying not to panic. Is this mask squeeze? Wen...    diving   \n",
       "496  Join our Scuba and Freediving community. Find ...    diving   \n",
       "497  Mask squeeze (along the brow bone)? Came up a ...    diving   \n",
       "498                     Staying near marathon/long key    diving   \n",
       "499  What BCD would you recommend for someone who h...    diving   \n",
       "\n",
       "                                              selftext  \n",
       "0                                                       \n",
       "1                                                  NaN  \n",
       "2                                                       \n",
       "3                                                       \n",
       "4                                                       \n",
       "..                                                 ...  \n",
       "495                                                     \n",
       "496  If you are new to Scuba, join our Discord and ...  \n",
       "497                                                     \n",
       "498  Before going down for lobster in key west, we ...  \n",
       "499  What are some good BCDs for experienced divers...  \n",
       "\n",
       "[500 rows x 3 columns]"
      ]
     },
     "execution_count": 17,
     "metadata": {},
     "output_type": "execute_result"
    }
   ],
   "source": [
    "diving_df"
   ]
  },
  {
   "cell_type": "markdown",
   "id": "7ece2ebb",
   "metadata": {},
   "source": [
    "---"
   ]
  },
  {
   "cell_type": "code",
   "execution_count": null,
   "id": "24f9ca59",
   "metadata": {},
   "outputs": [],
   "source": []
  },
  {
   "cell_type": "code",
   "execution_count": null,
   "id": "b14393d0",
   "metadata": {},
   "outputs": [],
   "source": []
  }
 ],
 "metadata": {
  "kernelspec": {
   "display_name": "Python 3 (ipykernel)",
   "language": "python",
   "name": "python3"
  },
  "language_info": {
   "codemirror_mode": {
    "name": "ipython",
    "version": 3
   },
   "file_extension": ".py",
   "mimetype": "text/x-python",
   "name": "python",
   "nbconvert_exporter": "python",
   "pygments_lexer": "ipython3",
   "version": "3.9.7"
  }
 },
 "nbformat": 4,
 "nbformat_minor": 5
}
