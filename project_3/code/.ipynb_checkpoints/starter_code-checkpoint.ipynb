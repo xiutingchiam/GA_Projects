{
 "cells": [
  {
   "cell_type": "markdown",
   "id": "a1f9a104",
   "metadata": {},
   "source": [
    "<img src=\"http://imgur.com/1ZcRyrc.png\" style=\"float: left; margin: 20px; height: 55px\">\n",
    "\n",
    "# Project 3: Web APIs & NLP"
   ]
  },
  {
   "cell_type": "markdown",
   "id": "72c5b41e",
   "metadata": {},
   "source": [
    "# Problem Statement\n",
    "\n"
   ]
  },
  {
   "cell_type": "markdown",
   "id": "928b14b9",
   "metadata": {},
   "source": [
    "Working for a sports wear company that wants to classify reddit posts "
   ]
  },
  {
   "cell_type": "markdown",
   "id": "d28e0ca5",
   "metadata": {},
   "source": [
    "---"
   ]
  },
  {
   "cell_type": "markdown",
   "id": "c25012a1",
   "metadata": {},
   "source": [
    "# Table of Contents:\n",
    "- [Background](#Background)\n",
    "- [Datasets Used for Analysis](#Datasets-Used-for-Analysis)\n",
    "- [Import Libraries](#Import-Libraries)\n",
    "- [Functions](#Functions)\n",
    "- [Data Collection](#Data-Collection)\n",
    "- [Combining Subreddit DataFrames](#Combining-Subreddit-DataFrames)"
   ]
  },
  {
   "cell_type": "markdown",
   "id": "ee512fc8",
   "metadata": {},
   "source": [
    "---"
   ]
  },
  {
   "cell_type": "markdown",
   "id": "e961e3af",
   "metadata": {},
   "source": [
    "# Import Libraries"
   ]
  },
  {
   "cell_type": "code",
   "execution_count": 1,
   "id": "9e74e023",
   "metadata": {},
   "outputs": [],
   "source": [
    "import requests\n",
    "import pandas as pd\n",
    "import numpy as np\n",
    "import timeit\n",
    "from time import process_time"
   ]
  },
  {
   "cell_type": "markdown",
   "id": "902b4d79",
   "metadata": {},
   "source": [
    "---"
   ]
  },
  {
   "cell_type": "markdown",
   "id": "d6c9e0c7",
   "metadata": {},
   "source": [
    "# Functions"
   ]
  },
  {
   "cell_type": "code",
   "execution_count": 2,
   "id": "2d3b9a7b",
   "metadata": {},
   "outputs": [],
   "source": [
    "def collect_data(subreddit, rows):\n",
    "    tic = timeit.default_timer()\n",
    "    n = 0\n",
    "    last = ''\n",
    "    posts = []\n",
    "    rows = int(rows)\n",
    "    url = 'https://api.pushshift.io/reddit/search/submission/?subreddit=' + subreddit\n",
    "    while n < rows:\n",
    "        res = requests.get('{}&before={}'.format(url, last))\n",
    "        json = res.json()\n",
    "        for i in json['data']:\n",
    "            posts.append(i)\n",
    "            n += 1\n",
    "    last = int(i['created_utc'])\n",
    "    print('Status code: ', res.status_code)\n",
    "    toc=timeit.default_timer()\n",
    "    elapsed_time = toc - tic\n",
    "    print('Total elapsed time in seconds:', elapsed_time)\n",
    "    print('Number of requests per second:', rows/elapsed_time)\n",
    "    \n",
    "    return posts"
   ]
  },
  {
   "cell_type": "markdown",
   "id": "f9e9ee8f",
   "metadata": {},
   "source": [
    "---"
   ]
  },
  {
   "cell_type": "markdown",
   "id": "1132278d",
   "metadata": {},
   "source": [
    "# Data Collection"
   ]
  },
  {
   "cell_type": "markdown",
   "id": "64da54f1",
   "metadata": {},
   "source": [
    "Despite the pushshift API documentation stating that the maximum number of results that can be returned is at 500, only 100 was returned. To overccome that, "
   ]
  },
  {
   "cell_type": "markdown",
   "id": "7d7a0ccb",
   "metadata": {},
   "source": [
    "## Subreddit: Cycling"
   ]
  },
  {
   "cell_type": "code",
   "execution_count": 3,
   "id": "8e82399d",
   "metadata": {},
   "outputs": [
    {
     "name": "stdout",
     "output_type": "stream",
     "text": [
      "Status code:  200\n",
      "Total elapsed time in seconds: 56.061447\n",
      "Number of requests per second: 35.67514052928387\n"
     ]
    }
   ],
   "source": [
    "posts = collect_data('cycling', '2000')"
   ]
  },
  {
   "cell_type": "code",
   "execution_count": 4,
   "id": "7ca5b254",
   "metadata": {},
   "outputs": [],
   "source": [
    "cycling_df = pd.DataFrame(posts)"
   ]
  },
  {
   "cell_type": "code",
   "execution_count": 5,
   "id": "fa9c98eb",
   "metadata": {},
   "outputs": [
    {
     "name": "stdout",
     "output_type": "stream",
     "text": [
      "<class 'pandas.core.frame.DataFrame'>\n",
      "RangeIndex: 2000 entries, 0 to 1999\n",
      "Data columns (total 66 columns):\n",
      " #   Column                       Non-Null Count  Dtype  \n",
      "---  ------                       --------------  -----  \n",
      " 0   all_awardings                2000 non-null   object \n",
      " 1   allow_live_comments          2000 non-null   bool   \n",
      " 2   author                       2000 non-null   object \n",
      " 3   author_flair_css_class       0 non-null      object \n",
      " 4   author_flair_richtext        2000 non-null   object \n",
      " 5   author_flair_text            0 non-null      object \n",
      " 6   author_flair_type            2000 non-null   object \n",
      " 7   author_fullname              2000 non-null   object \n",
      " 8   author_is_blocked            2000 non-null   bool   \n",
      " 9   author_patreon_flair         2000 non-null   bool   \n",
      " 10  author_premium               2000 non-null   bool   \n",
      " 11  awarders                     2000 non-null   object \n",
      " 12  can_mod_post                 2000 non-null   bool   \n",
      " 13  contest_mode                 2000 non-null   bool   \n",
      " 14  created_utc                  2000 non-null   int64  \n",
      " 15  domain                       2000 non-null   object \n",
      " 16  full_link                    2000 non-null   object \n",
      " 17  gildings                     2000 non-null   object \n",
      " 18  id                           2000 non-null   object \n",
      " 19  is_created_from_ads_ui       2000 non-null   bool   \n",
      " 20  is_crosspostable             2000 non-null   bool   \n",
      " 21  is_meta                      2000 non-null   bool   \n",
      " 22  is_original_content          2000 non-null   bool   \n",
      " 23  is_reddit_media_domain       2000 non-null   bool   \n",
      " 24  is_robot_indexable           2000 non-null   bool   \n",
      " 25  is_self                      2000 non-null   bool   \n",
      " 26  is_video                     2000 non-null   bool   \n",
      " 27  link_flair_background_color  2000 non-null   object \n",
      " 28  link_flair_richtext          2000 non-null   object \n",
      " 29  link_flair_text_color        2000 non-null   object \n",
      " 30  link_flair_type              2000 non-null   object \n",
      " 31  locked                       2000 non-null   bool   \n",
      " 32  media_only                   2000 non-null   bool   \n",
      " 33  no_follow                    2000 non-null   bool   \n",
      " 34  num_comments                 2000 non-null   int64  \n",
      " 35  num_crossposts               2000 non-null   int64  \n",
      " 36  over_18                      2000 non-null   bool   \n",
      " 37  parent_whitelist_status      2000 non-null   object \n",
      " 38  permalink                    2000 non-null   object \n",
      " 39  pinned                       2000 non-null   bool   \n",
      " 40  post_hint                    320 non-null    object \n",
      " 41  preview                      320 non-null    object \n",
      " 42  pwls                         2000 non-null   int64  \n",
      " 43  removed_by_category          240 non-null    object \n",
      " 44  retrieved_on                 2000 non-null   int64  \n",
      " 45  score                        2000 non-null   int64  \n",
      " 46  selftext                     2000 non-null   object \n",
      " 47  send_replies                 2000 non-null   bool   \n",
      " 48  spoiler                      2000 non-null   bool   \n",
      " 49  stickied                     2000 non-null   bool   \n",
      " 50  subreddit                    2000 non-null   object \n",
      " 51  subreddit_id                 2000 non-null   object \n",
      " 52  subreddit_subscribers        2000 non-null   int64  \n",
      " 53  subreddit_type               2000 non-null   object \n",
      " 54  thumbnail                    2000 non-null   object \n",
      " 55  title                        2000 non-null   object \n",
      " 56  total_awards_received        2000 non-null   int64  \n",
      " 57  treatment_tags               2000 non-null   object \n",
      " 58  upvote_ratio                 2000 non-null   float64\n",
      " 59  url                          2000 non-null   object \n",
      " 60  whitelist_status             2000 non-null   object \n",
      " 61  wls                          2000 non-null   int64  \n",
      " 62  crosspost_parent             80 non-null     object \n",
      " 63  crosspost_parent_list        80 non-null     object \n",
      " 64  url_overridden_by_dest       80 non-null     object \n",
      " 65  author_cakeday               80 non-null     object \n",
      "dtypes: bool(22), float64(1), int64(9), object(34)\n",
      "memory usage: 730.6+ KB\n"
     ]
    }
   ],
   "source": [
    "cycling_df.info()"
   ]
  },
  {
   "cell_type": "code",
   "execution_count": 6,
   "id": "b3e325a9",
   "metadata": {},
   "outputs": [],
   "source": [
    "cycling_df = cycling_df[['title','subreddit','selftext']]"
   ]
  },
  {
   "cell_type": "code",
   "execution_count": 7,
   "id": "7066bb55",
   "metadata": {},
   "outputs": [
    {
     "name": "stdout",
     "output_type": "stream",
     "text": [
      "<class 'pandas.core.frame.DataFrame'>\n",
      "RangeIndex: 2000 entries, 0 to 1999\n",
      "Data columns (total 3 columns):\n",
      " #   Column     Non-Null Count  Dtype \n",
      "---  ------     --------------  ----- \n",
      " 0   title      2000 non-null   object\n",
      " 1   subreddit  2000 non-null   object\n",
      " 2   selftext   2000 non-null   object\n",
      "dtypes: object(3)\n",
      "memory usage: 47.0+ KB\n"
     ]
    }
   ],
   "source": [
    "cycling_df.info()"
   ]
  },
  {
   "cell_type": "markdown",
   "id": "d9859457",
   "metadata": {},
   "source": [
    "## Subreddit: Diving"
   ]
  },
  {
   "cell_type": "code",
   "execution_count": 8,
   "id": "acbccdd9",
   "metadata": {},
   "outputs": [
    {
     "name": "stdout",
     "output_type": "stream",
     "text": [
      "Status code:  200\n",
      "Total elapsed time in seconds: 63.623932599999996\n",
      "Number of requests per second: 31.4347120379038\n"
     ]
    }
   ],
   "source": [
    "posts = collect_data('diving', '2000')"
   ]
  },
  {
   "cell_type": "code",
   "execution_count": 9,
   "id": "9f058533",
   "metadata": {},
   "outputs": [],
   "source": [
    "diving_df = pd.DataFrame(posts)"
   ]
  },
  {
   "cell_type": "code",
   "execution_count": 10,
   "id": "d0a018cb",
   "metadata": {},
   "outputs": [],
   "source": [
    "diving_df = diving_df[['title','subreddit','selftext']]"
   ]
  },
  {
   "cell_type": "code",
   "execution_count": 11,
   "id": "43c19d78",
   "metadata": {},
   "outputs": [
    {
     "data": {
      "text/html": [
       "<div>\n",
       "<style scoped>\n",
       "    .dataframe tbody tr th:only-of-type {\n",
       "        vertical-align: middle;\n",
       "    }\n",
       "\n",
       "    .dataframe tbody tr th {\n",
       "        vertical-align: top;\n",
       "    }\n",
       "\n",
       "    .dataframe thead th {\n",
       "        text-align: right;\n",
       "    }\n",
       "</style>\n",
       "<table border=\"1\" class=\"dataframe\">\n",
       "  <thead>\n",
       "    <tr style=\"text-align: right;\">\n",
       "      <th></th>\n",
       "      <th>title</th>\n",
       "      <th>subreddit</th>\n",
       "      <th>selftext</th>\n",
       "    </tr>\n",
       "  </thead>\n",
       "  <tbody>\n",
       "    <tr>\n",
       "      <th>0</th>\n",
       "      <td>A freediver in Florida said he saw his friends...</td>\n",
       "      <td>diving</td>\n",
       "      <td>NaN</td>\n",
       "    </tr>\n",
       "    <tr>\n",
       "      <th>1</th>\n",
       "      <td>Lobster Catch and Cook</td>\n",
       "      <td>diving</td>\n",
       "      <td></td>\n",
       "    </tr>\n",
       "    <tr>\n",
       "      <th>2</th>\n",
       "      <td>4 teenage divers killed by sea snake (hydrophi...</td>\n",
       "      <td>diving</td>\n",
       "      <td>NaN</td>\n",
       "    </tr>\n",
       "    <tr>\n",
       "      <th>3</th>\n",
       "      <td>Until the tide takes us… [OC]</td>\n",
       "      <td>diving</td>\n",
       "      <td></td>\n",
       "    </tr>\n",
       "    <tr>\n",
       "      <th>4</th>\n",
       "      <td>True!</td>\n",
       "      <td>diving</td>\n",
       "      <td></td>\n",
       "    </tr>\n",
       "    <tr>\n",
       "      <th>...</th>\n",
       "      <td>...</td>\n",
       "      <td>...</td>\n",
       "      <td>...</td>\n",
       "    </tr>\n",
       "    <tr>\n",
       "      <th>1995</th>\n",
       "      <td>Deco with a coelenterate.</td>\n",
       "      <td>diving</td>\n",
       "      <td>[removed]</td>\n",
       "    </tr>\n",
       "    <tr>\n",
       "      <th>1996</th>\n",
       "      <td>Dos Ojos Cenote, Mexico</td>\n",
       "      <td>diving</td>\n",
       "      <td></td>\n",
       "    </tr>\n",
       "    <tr>\n",
       "      <th>1997</th>\n",
       "      <td>Manati Cenote, Mexico</td>\n",
       "      <td>diving</td>\n",
       "      <td></td>\n",
       "    </tr>\n",
       "    <tr>\n",
       "      <th>1998</th>\n",
       "      <td>Some footage from a trip to Mexico</td>\n",
       "      <td>diving</td>\n",
       "      <td></td>\n",
       "    </tr>\n",
       "    <tr>\n",
       "      <th>1999</th>\n",
       "      <td>First Dives In Cozumel</td>\n",
       "      <td>diving</td>\n",
       "      <td></td>\n",
       "    </tr>\n",
       "  </tbody>\n",
       "</table>\n",
       "<p>2000 rows × 3 columns</p>\n",
       "</div>"
      ],
      "text/plain": [
       "                                                  title subreddit   selftext\n",
       "0     A freediver in Florida said he saw his friends...    diving        NaN\n",
       "1                                Lobster Catch and Cook    diving           \n",
       "2     4 teenage divers killed by sea snake (hydrophi...    diving        NaN\n",
       "3                         Until the tide takes us… [OC]    diving           \n",
       "4                                                 True!    diving           \n",
       "...                                                 ...       ...        ...\n",
       "1995                          Deco with a coelenterate.    diving  [removed]\n",
       "1996                            Dos Ojos Cenote, Mexico    diving           \n",
       "1997                              Manati Cenote, Mexico    diving           \n",
       "1998                 Some footage from a trip to Mexico    diving           \n",
       "1999                             First Dives In Cozumel    diving           \n",
       "\n",
       "[2000 rows x 3 columns]"
      ]
     },
     "execution_count": 11,
     "metadata": {},
     "output_type": "execute_result"
    }
   ],
   "source": [
    "diving_df"
   ]
  },
  {
   "cell_type": "markdown",
   "id": "7ece2ebb",
   "metadata": {},
   "source": [
    "---"
   ]
  },
  {
   "cell_type": "markdown",
   "id": "3cd2fd1a",
   "metadata": {},
   "source": [
    "# Combining Subreddit DataFrames"
   ]
  },
  {
   "cell_type": "code",
   "execution_count": 12,
   "id": "b14393d0",
   "metadata": {},
   "outputs": [],
   "source": [
    "df = pd.concat([cycling_df, diving_df])"
   ]
  },
  {
   "cell_type": "code",
   "execution_count": 13,
   "id": "d890cac2",
   "metadata": {},
   "outputs": [
    {
     "data": {
      "text/html": [
       "<div>\n",
       "<style scoped>\n",
       "    .dataframe tbody tr th:only-of-type {\n",
       "        vertical-align: middle;\n",
       "    }\n",
       "\n",
       "    .dataframe tbody tr th {\n",
       "        vertical-align: top;\n",
       "    }\n",
       "\n",
       "    .dataframe thead th {\n",
       "        text-align: right;\n",
       "    }\n",
       "</style>\n",
       "<table border=\"1\" class=\"dataframe\">\n",
       "  <thead>\n",
       "    <tr style=\"text-align: right;\">\n",
       "      <th></th>\n",
       "      <th>title</th>\n",
       "      <th>subreddit</th>\n",
       "      <th>selftext</th>\n",
       "    </tr>\n",
       "  </thead>\n",
       "  <tbody>\n",
       "    <tr>\n",
       "      <th>0</th>\n",
       "      <td>Why Are Bike Trailers So Expensive? A Cost Ana...</td>\n",
       "      <td>cycling</td>\n",
       "      <td>[removed]</td>\n",
       "    </tr>\n",
       "    <tr>\n",
       "      <th>1</th>\n",
       "      <td>chain lube</td>\n",
       "      <td>cycling</td>\n",
       "      <td>I have run out.\\nIs Finish Line Teflon Plus Dr...</td>\n",
       "    </tr>\n",
       "    <tr>\n",
       "      <th>2</th>\n",
       "      <td>Advice needed!</td>\n",
       "      <td>cycling</td>\n",
       "      <td>I'm a 18M with a body fat percentage of 24.4%....</td>\n",
       "    </tr>\n",
       "    <tr>\n",
       "      <th>3</th>\n",
       "      <td>Neoprene socks</td>\n",
       "      <td>cycling</td>\n",
       "      <td>I see a lot on this sub and among the cycling ...</td>\n",
       "    </tr>\n",
       "    <tr>\n",
       "      <th>4</th>\n",
       "      <td>Is this bike really Trek?</td>\n",
       "      <td>cycling</td>\n",
       "      <td>Hello all!\\n\\nI am looking to buy a used road ...</td>\n",
       "    </tr>\n",
       "    <tr>\n",
       "      <th>...</th>\n",
       "      <td>...</td>\n",
       "      <td>...</td>\n",
       "      <td>...</td>\n",
       "    </tr>\n",
       "    <tr>\n",
       "      <th>1995</th>\n",
       "      <td>Deco with a coelenterate.</td>\n",
       "      <td>diving</td>\n",
       "      <td>[removed]</td>\n",
       "    </tr>\n",
       "    <tr>\n",
       "      <th>1996</th>\n",
       "      <td>Dos Ojos Cenote, Mexico</td>\n",
       "      <td>diving</td>\n",
       "      <td></td>\n",
       "    </tr>\n",
       "    <tr>\n",
       "      <th>1997</th>\n",
       "      <td>Manati Cenote, Mexico</td>\n",
       "      <td>diving</td>\n",
       "      <td></td>\n",
       "    </tr>\n",
       "    <tr>\n",
       "      <th>1998</th>\n",
       "      <td>Some footage from a trip to Mexico</td>\n",
       "      <td>diving</td>\n",
       "      <td></td>\n",
       "    </tr>\n",
       "    <tr>\n",
       "      <th>1999</th>\n",
       "      <td>First Dives In Cozumel</td>\n",
       "      <td>diving</td>\n",
       "      <td></td>\n",
       "    </tr>\n",
       "  </tbody>\n",
       "</table>\n",
       "<p>4000 rows × 3 columns</p>\n",
       "</div>"
      ],
      "text/plain": [
       "                                                  title subreddit  \\\n",
       "0     Why Are Bike Trailers So Expensive? A Cost Ana...   cycling   \n",
       "1                                            chain lube   cycling   \n",
       "2                                        Advice needed!   cycling   \n",
       "3                                        Neoprene socks   cycling   \n",
       "4                             Is this bike really Trek?   cycling   \n",
       "...                                                 ...       ...   \n",
       "1995                          Deco with a coelenterate.    diving   \n",
       "1996                            Dos Ojos Cenote, Mexico    diving   \n",
       "1997                              Manati Cenote, Mexico    diving   \n",
       "1998                 Some footage from a trip to Mexico    diving   \n",
       "1999                             First Dives In Cozumel    diving   \n",
       "\n",
       "                                               selftext  \n",
       "0                                             [removed]  \n",
       "1     I have run out.\\nIs Finish Line Teflon Plus Dr...  \n",
       "2     I'm a 18M with a body fat percentage of 24.4%....  \n",
       "3     I see a lot on this sub and among the cycling ...  \n",
       "4     Hello all!\\n\\nI am looking to buy a used road ...  \n",
       "...                                                 ...  \n",
       "1995                                          [removed]  \n",
       "1996                                                     \n",
       "1997                                                     \n",
       "1998                                                     \n",
       "1999                                                     \n",
       "\n",
       "[4000 rows x 3 columns]"
      ]
     },
     "execution_count": 13,
     "metadata": {},
     "output_type": "execute_result"
    }
   ],
   "source": [
    "df"
   ]
  },
  {
   "cell_type": "code",
   "execution_count": 18,
   "id": "7587da46",
   "metadata": {},
   "outputs": [
    {
     "data": {
      "text/html": [
       "<div>\n",
       "<style scoped>\n",
       "    .dataframe tbody tr th:only-of-type {\n",
       "        vertical-align: middle;\n",
       "    }\n",
       "\n",
       "    .dataframe tbody tr th {\n",
       "        vertical-align: top;\n",
       "    }\n",
       "\n",
       "    .dataframe thead th {\n",
       "        text-align: right;\n",
       "    }\n",
       "</style>\n",
       "<table border=\"1\" class=\"dataframe\">\n",
       "  <thead>\n",
       "    <tr style=\"text-align: right;\">\n",
       "      <th></th>\n",
       "      <th>title</th>\n",
       "      <th>subreddit</th>\n",
       "      <th>selftext</th>\n",
       "    </tr>\n",
       "  </thead>\n",
       "  <tbody>\n",
       "    <tr>\n",
       "      <th>0</th>\n",
       "      <td>Why Are Bike Trailers So Expensive? A Cost Ana...</td>\n",
       "      <td>cycling</td>\n",
       "      <td>[removed]</td>\n",
       "    </tr>\n",
       "    <tr>\n",
       "      <th>1</th>\n",
       "      <td>chain lube</td>\n",
       "      <td>cycling</td>\n",
       "      <td>I have run out.\\nIs Finish Line Teflon Plus Dr...</td>\n",
       "    </tr>\n",
       "    <tr>\n",
       "      <th>2</th>\n",
       "      <td>Advice needed!</td>\n",
       "      <td>cycling</td>\n",
       "      <td>I'm a 18M with a body fat percentage of 24.4%....</td>\n",
       "    </tr>\n",
       "    <tr>\n",
       "      <th>3</th>\n",
       "      <td>Neoprene socks</td>\n",
       "      <td>cycling</td>\n",
       "      <td>I see a lot on this sub and among the cycling ...</td>\n",
       "    </tr>\n",
       "    <tr>\n",
       "      <th>4</th>\n",
       "      <td>Is this bike really Trek?</td>\n",
       "      <td>cycling</td>\n",
       "      <td>Hello all!\\n\\nI am looking to buy a used road ...</td>\n",
       "    </tr>\n",
       "    <tr>\n",
       "      <th>5</th>\n",
       "      <td>Women's cycling pull-over?</td>\n",
       "      <td>cycling</td>\n",
       "      <td>Does anyone know of a nice light pull-over wit...</td>\n",
       "    </tr>\n",
       "    <tr>\n",
       "      <th>6</th>\n",
       "      <td>Looking for a good exercise bike for a short g...</td>\n",
       "      <td>cycling</td>\n",
       "      <td>I want to get into cycling to add to my fitnes...</td>\n",
       "    </tr>\n",
       "    <tr>\n",
       "      <th>7</th>\n",
       "      <td>Top 5 Best Budget Bike Trailers for Kids (Plus...</td>\n",
       "      <td>cycling</td>\n",
       "      <td>[removed]</td>\n",
       "    </tr>\n",
       "    <tr>\n",
       "      <th>8</th>\n",
       "      <td>Best place to watch Paris Roubaix</td>\n",
       "      <td>cycling</td>\n",
       "      <td>Anyone offer some guidance on where to watch i...</td>\n",
       "    </tr>\n",
       "    <tr>\n",
       "      <th>9</th>\n",
       "      <td>Packaging options for shipping though Bike Fli...</td>\n",
       "      <td>cycling</td>\n",
       "      <td>I’m going from DC to Denver and staying for a ...</td>\n",
       "    </tr>\n",
       "  </tbody>\n",
       "</table>\n",
       "</div>"
      ],
      "text/plain": [
       "                                               title subreddit  \\\n",
       "0  Why Are Bike Trailers So Expensive? A Cost Ana...   cycling   \n",
       "1                                         chain lube   cycling   \n",
       "2                                     Advice needed!   cycling   \n",
       "3                                     Neoprene socks   cycling   \n",
       "4                          Is this bike really Trek?   cycling   \n",
       "5                         Women's cycling pull-over?   cycling   \n",
       "6  Looking for a good exercise bike for a short g...   cycling   \n",
       "7  Top 5 Best Budget Bike Trailers for Kids (Plus...   cycling   \n",
       "8                  Best place to watch Paris Roubaix   cycling   \n",
       "9  Packaging options for shipping though Bike Fli...   cycling   \n",
       "\n",
       "                                            selftext  \n",
       "0                                          [removed]  \n",
       "1  I have run out.\\nIs Finish Line Teflon Plus Dr...  \n",
       "2  I'm a 18M with a body fat percentage of 24.4%....  \n",
       "3  I see a lot on this sub and among the cycling ...  \n",
       "4  Hello all!\\n\\nI am looking to buy a used road ...  \n",
       "5  Does anyone know of a nice light pull-over wit...  \n",
       "6  I want to get into cycling to add to my fitnes...  \n",
       "7                                          [removed]  \n",
       "8  Anyone offer some guidance on where to watch i...  \n",
       "9  I’m going from DC to Denver and staying for a ...  "
      ]
     },
     "execution_count": 18,
     "metadata": {},
     "output_type": "execute_result"
    }
   ],
   "source": [
    "df.head(10)"
   ]
  },
  {
   "cell_type": "code",
   "execution_count": 20,
   "id": "80ac396f",
   "metadata": {},
   "outputs": [
    {
     "data": {
      "text/html": [
       "<div>\n",
       "<style scoped>\n",
       "    .dataframe tbody tr th:only-of-type {\n",
       "        vertical-align: middle;\n",
       "    }\n",
       "\n",
       "    .dataframe tbody tr th {\n",
       "        vertical-align: top;\n",
       "    }\n",
       "\n",
       "    .dataframe thead th {\n",
       "        text-align: right;\n",
       "    }\n",
       "</style>\n",
       "<table border=\"1\" class=\"dataframe\">\n",
       "  <thead>\n",
       "    <tr style=\"text-align: right;\">\n",
       "      <th></th>\n",
       "      <th>title</th>\n",
       "      <th>subreddit</th>\n",
       "      <th>selftext</th>\n",
       "    </tr>\n",
       "  </thead>\n",
       "  <tbody>\n",
       "    <tr>\n",
       "      <th>1990</th>\n",
       "      <td>Dive tours in Miami</td>\n",
       "      <td>diving</td>\n",
       "      <td>[removed]</td>\n",
       "    </tr>\n",
       "    <tr>\n",
       "      <th>1991</th>\n",
       "      <td>Try Diving</td>\n",
       "      <td>diving</td>\n",
       "      <td></td>\n",
       "    </tr>\n",
       "    <tr>\n",
       "      <th>1992</th>\n",
       "      <td>Who put that banana there</td>\n",
       "      <td>diving</td>\n",
       "      <td></td>\n",
       "    </tr>\n",
       "    <tr>\n",
       "      <th>1993</th>\n",
       "      <td>Diving around Dunedin, NZ</td>\n",
       "      <td>diving</td>\n",
       "      <td>May be a long shot but I just recently moved t...</td>\n",
       "    </tr>\n",
       "    <tr>\n",
       "      <th>1994</th>\n",
       "      <td>Finally Meeting a Tiger Shark</td>\n",
       "      <td>diving</td>\n",
       "      <td></td>\n",
       "    </tr>\n",
       "    <tr>\n",
       "      <th>1995</th>\n",
       "      <td>Deco with a coelenterate.</td>\n",
       "      <td>diving</td>\n",
       "      <td>[removed]</td>\n",
       "    </tr>\n",
       "    <tr>\n",
       "      <th>1996</th>\n",
       "      <td>Dos Ojos Cenote, Mexico</td>\n",
       "      <td>diving</td>\n",
       "      <td></td>\n",
       "    </tr>\n",
       "    <tr>\n",
       "      <th>1997</th>\n",
       "      <td>Manati Cenote, Mexico</td>\n",
       "      <td>diving</td>\n",
       "      <td></td>\n",
       "    </tr>\n",
       "    <tr>\n",
       "      <th>1998</th>\n",
       "      <td>Some footage from a trip to Mexico</td>\n",
       "      <td>diving</td>\n",
       "      <td></td>\n",
       "    </tr>\n",
       "    <tr>\n",
       "      <th>1999</th>\n",
       "      <td>First Dives In Cozumel</td>\n",
       "      <td>diving</td>\n",
       "      <td></td>\n",
       "    </tr>\n",
       "  </tbody>\n",
       "</table>\n",
       "</div>"
      ],
      "text/plain": [
       "                                   title subreddit  \\\n",
       "1990                 Dive tours in Miami    diving   \n",
       "1991                          Try Diving    diving   \n",
       "1992           Who put that banana there    diving   \n",
       "1993           Diving around Dunedin, NZ    diving   \n",
       "1994       Finally Meeting a Tiger Shark    diving   \n",
       "1995           Deco with a coelenterate.    diving   \n",
       "1996             Dos Ojos Cenote, Mexico    diving   \n",
       "1997               Manati Cenote, Mexico    diving   \n",
       "1998  Some footage from a trip to Mexico    diving   \n",
       "1999              First Dives In Cozumel    diving   \n",
       "\n",
       "                                               selftext  \n",
       "1990                                          [removed]  \n",
       "1991                                                     \n",
       "1992                                                     \n",
       "1993  May be a long shot but I just recently moved t...  \n",
       "1994                                                     \n",
       "1995                                          [removed]  \n",
       "1996                                                     \n",
       "1997                                                     \n",
       "1998                                                     \n",
       "1999                                                     "
      ]
     },
     "execution_count": 20,
     "metadata": {},
     "output_type": "execute_result"
    }
   ],
   "source": [
    "df.tail(10)"
   ]
  },
  {
   "cell_type": "code",
   "execution_count": 22,
   "id": "9eb91dc4",
   "metadata": {},
   "outputs": [],
   "source": [
    "df.to_csv('../data/subreddits.csv')"
   ]
  },
  {
   "cell_type": "code",
   "execution_count": null,
   "id": "624976a0",
   "metadata": {},
   "outputs": [],
   "source": []
  }
 ],
 "metadata": {
  "kernelspec": {
   "display_name": "Python 3 (ipykernel)",
   "language": "python",
   "name": "python3"
  },
  "language_info": {
   "codemirror_mode": {
    "name": "ipython",
    "version": 3
   },
   "file_extension": ".py",
   "mimetype": "text/x-python",
   "name": "python",
   "nbconvert_exporter": "python",
   "pygments_lexer": "ipython3",
   "version": "3.9.7"
  }
 },
 "nbformat": 4,
 "nbformat_minor": 5
}
