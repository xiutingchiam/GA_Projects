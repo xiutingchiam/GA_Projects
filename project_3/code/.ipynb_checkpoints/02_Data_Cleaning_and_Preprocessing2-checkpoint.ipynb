{
 "cells": [
  {
   "cell_type": "markdown",
   "id": "85cebe4d",
   "metadata": {},
   "source": [
    "<img src=\"http://imgur.com/1ZcRyrc.png\" style=\"float: left; margin: 20px; height: 55px\">\n",
    "\n",
    "# Project 3: Web APIs & NLP"
   ]
  },
  {
   "cell_type": "markdown",
   "id": "036a1199",
   "metadata": {},
   "source": [
    "# Data Cleaning and Preprocessing"
   ]
  },
  {
   "cell_type": "markdown",
   "id": "554e11b3",
   "metadata": {},
   "source": [
    "# Table of Contents:\n",
    "- [Import Libraries](#Import-Libraries)\n",
    "- [Functions](#Functions)\n",
    "- [Import Data](#Import-Data)\n",
    "- [Stemming VS Lemmatization](#Stemming-VS-Lemmatization)\n",
    "- [Stop Words](#Stop-Words)\n",
    "- [Unigrams, Bigrams and Trigrams](#Unigrams,-Bigrams-and-Trigrams)\n",
    "- [Export to CSV](#Export-to-CSV)\n",
    "- [Extras](#Extras)"
   ]
  },
  {
   "cell_type": "markdown",
   "id": "a873fd42",
   "metadata": {},
   "source": [
    "---"
   ]
  },
  {
   "cell_type": "markdown",
   "id": "443fd04e",
   "metadata": {},
   "source": [
    "# Import Libraries"
   ]
  },
  {
   "cell_type": "code",
   "execution_count": 1,
   "id": "79b6c695",
   "metadata": {},
   "outputs": [],
   "source": [
    "# Basics\n",
    "import pandas as pd\n",
    "import numpy as np\n",
    "import time\n",
    "\n",
    "# Data Visualizations\n",
    "import matplotlib.pyplot as plt\n",
    "import seaborn as sns\n",
    "%matplotlib inline\n",
    "plt.style.use('ggplot')\n",
    "\n",
    "# Text Preproccessing\n",
    "import re\n",
    "import itertools\n",
    "import string\n",
    "from bs4 import BeautifulSoup\n",
    "import nltk\n",
    "from nltk.tokenize import sent_tokenize, word_tokenize, RegexpTokenizer\n",
    "from nltk.corpus import stopwords, wordnet\n",
    "from nltk.stem import SnowballStemmer\n",
    "from nltk.stem import WordNetLemmatizer\n",
    "from nltk.tag import pos_tag\n",
    "\n",
    "# Vectorizing\n",
    "from sklearn.feature_extraction.text import CountVectorizer\n",
    "\n",
    "# Word Cloud\n",
    "from wordcloud import WordCloud"
   ]
  },
  {
   "cell_type": "markdown",
   "id": "917c7992",
   "metadata": {},
   "source": [
    "# Functions"
   ]
  },
  {
   "cell_type": "markdown",
   "id": "a36b5e97",
   "metadata": {},
   "source": [
    "### clean_text(text)\n",
    "This function will convert a string of text to lower case, and remove special characters, hyperlinks, punctuation marks, overspaces, etc from it."
   ]
  },
  {
   "cell_type": "code",
   "execution_count": 2,
   "id": "19298cf5",
   "metadata": {},
   "outputs": [],
   "source": [
    "def clean_text(text):\n",
    "    \n",
    "    # remove html characters\n",
    "    text = BeautifulSoup(text, \"lxml\").text\n",
    "    \n",
    "    # remove hyperlinks\n",
    "    text = re.sub(r'https?:\\/\\/.\\S+', \"\", text)\n",
    "        \n",
    "    # remove hashtags, only removing the hash # sign from the word\n",
    "    text = re.sub(r'#', '', text)\n",
    "        \n",
    "    # remove trailing newline \\n\n",
    "    text = text.rstrip('\\n')\n",
    "        \n",
    "    # remove ticks \"'s\" and the characters after the ticks\n",
    "    text = re.sub(\"\\'\\w+\", '', text)     \n",
    "        \n",
    "    # remove punctuations\n",
    "    text = re.sub('[%s]' % re.escape(string.punctuation), ' ', text)\n",
    "        \n",
    "    # remove unicode characters\n",
    "    text = text.encode('ascii', 'ignore').decode()\n",
    "\n",
    "    # replace over spaces\n",
    "    text = re.sub('\\s{2,}', \" \", text)\n",
    "        \n",
    "    # convert to lower case\n",
    "    text = text.lower()\n",
    "\n",
    "    return text"
   ]
  },
  {
   "cell_type": "markdown",
   "id": "b1daa2a5",
   "metadata": {},
   "source": [
    "### get_wordnet_pos(word)\n",
    "This function maps Part of Speech (POS) tag to the first character which the lemmatizer in the lemmatize_text(text) function accepts."
   ]
  },
  {
   "cell_type": "code",
   "execution_count": 3,
   "id": "6e5b2ae1",
   "metadata": {},
   "outputs": [],
   "source": [
    "def get_wordnet_pos(word):\n",
    "    tag = nltk.pos_tag([word])[0][1][0].upper()\n",
    "    tag_dict = {\"J\": wordnet.ADJ,\n",
    "                \"N\": wordnet.NOUN,\n",
    "                \"V\": wordnet.VERB,\n",
    "                \"R\": wordnet.ADV}\n",
    "\n",
    "    return tag_dict.get(tag, wordnet.NOUN)"
   ]
  },
  {
   "cell_type": "markdown",
   "id": "b8a0a74f",
   "metadata": {},
   "source": [
    "### stemming_text(text)\n",
    "This function takes in a string of text, tokenize each word in the text and process them by chopping the ends of words."
   ]
  },
  {
   "cell_type": "code",
   "execution_count": 4,
   "id": "f34f6438",
   "metadata": {},
   "outputs": [],
   "source": [
    "def stemming_text(text):\n",
    "    # instantiate SnowballStemmer\n",
    "    stemmer = SnowballStemmer(language = 'english')\n",
    "    text = [stemmer.stem(x) for x in word_tokenize(text)] \n",
    "    \n",
    "    return(\" \".join(text))\n",
    "    "
   ]
  },
  {
   "cell_type": "markdown",
   "id": "344dbd51",
   "metadata": {},
   "source": [
    "### lemmatize_text(text)\n",
    "This function takes in a string of text, tokenize each word in the text and performs lemmatizing on them."
   ]
  },
  {
   "cell_type": "code",
   "execution_count": 5,
   "id": "ed3b5335",
   "metadata": {},
   "outputs": [],
   "source": [
    "def lemmatize_text(text):\n",
    "    # instantiate WordNetLemmatizer\n",
    "    lemmatizer = WordNetLemmatizer()\n",
    "    text = [lemmatizer.lemmatize(x, get_wordnet_pos(x)) for x in word_tokenize(text)]  \n",
    "    \n",
    "    return(\" \".join(text))\n"
   ]
  },
  {
   "cell_type": "markdown",
   "id": "3dde17aa",
   "metadata": {},
   "source": [
    "### filter_stopwords(text)\n",
    "This function takes in a string of text and filter stop words based on the stop word list. Words can be added or removed from the stop word list."
   ]
  },
  {
   "cell_type": "code",
   "execution_count": 6,
   "id": "f50c4498",
   "metadata": {},
   "outputs": [],
   "source": [
    "def filter_stopwords(text):\n",
    "    # remove stop words\n",
    "    stop_words = stopwords.words('english')\n",
    "    stop_words = set(stopwords.words('english')) - {'not', 'are'}\n",
    "    stop_words = set(stopwords.words(\"english\")) | {'im', 'would', 'gon', 'na', 'hey', 'anyone', \n",
    "                                                    'dive', 'scuba', 'diver', 'surf', 'board', 'wave'}\n",
    "    text = ' '.join([word for word in text.split(' ') if word not in stop_words])\n",
    "    return text\n",
    "\n",
    "#stop_words = set(stopwords.words(\"english\")) | {'hey', 'guys'}\n",
    "#stop_words = set(stopwords.words(\"english\")) - {\"not, \" \"are\"}"
   ]
  },
  {
   "cell_type": "markdown",
   "id": "3bb510bc",
   "metadata": {},
   "source": [
    "### get_top_n_words(corpus, n = None)\n",
    "This function will return the frequency of the top (n) unigram words in the dataset"
   ]
  },
  {
   "cell_type": "code",
   "execution_count": 7,
   "id": "c72b6100",
   "metadata": {},
   "outputs": [],
   "source": [
    "def get_top_n_words(corpus, n = None):\n",
    "    vec = CountVectorizer().fit(corpus)\n",
    "    bag_of_words = vec.transform(corpus)\n",
    "    sum_words = bag_of_words.sum(axis=0) \n",
    "    words_freq = [(word, sum_words[0, idx]) for word, idx in vec.vocabulary_.items()]\n",
    "    words_freq =sorted(words_freq, key = lambda x: x[1], reverse=True)\n",
    "    return words_freq[:n]"
   ]
  },
  {
   "cell_type": "code",
   "execution_count": 8,
   "id": "81a318c3",
   "metadata": {},
   "outputs": [
    {
     "data": {
      "text/plain": [
       "[('love', 2),\n",
       " ('python', 2),\n",
       " ('world', 2),\n",
       " ('is', 1),\n",
       " ('language', 1),\n",
       " ('programming', 1),\n",
       " ('hello', 1),\n",
       " ('the', 1)]"
      ]
     },
     "execution_count": 8,
     "metadata": {},
     "output_type": "execute_result"
    }
   ],
   "source": [
    "get_top_n_words([\"I love Python\", \"Python is a language programming\", \"Hello world\", \"I love the world\"])"
   ]
  },
  {
   "cell_type": "markdown",
   "id": "e438d021",
   "metadata": {},
   "source": [
    "### get_top_n_bigram(corpus, n = None)\n",
    "This function will return the frequency of the top (n) unigram words in the dataset"
   ]
  },
  {
   "cell_type": "code",
   "execution_count": 9,
   "id": "d46daedf",
   "metadata": {},
   "outputs": [],
   "source": [
    "def get_top_n_bigram(corpus, n=None):\n",
    "    vec = CountVectorizer(ngram_range=(2, 2)).fit(corpus)\n",
    "    bag_of_words = vec.transform(corpus)\n",
    "    sum_words = bag_of_words.sum(axis=0) \n",
    "    words_freq = [(word, sum_words[0, idx]) for word, idx in vec.vocabulary_.items()]\n",
    "    words_freq =sorted(words_freq, key = lambda x: x[1], reverse=True)\n",
    "    return words_freq[:n]"
   ]
  },
  {
   "cell_type": "markdown",
   "id": "4e26648a",
   "metadata": {},
   "source": [
    "### get_top_n_trigram(corpus, n = None)\n",
    "This function will return the frequency of the top (n) unigram words in the dataset"
   ]
  },
  {
   "cell_type": "code",
   "execution_count": 10,
   "id": "887266bb",
   "metadata": {},
   "outputs": [],
   "source": [
    "def get_top_n_trigram(corpus, n=None):\n",
    "    vec = CountVectorizer(ngram_range=(3, 3)).fit(corpus)\n",
    "    bag_of_words = vec.transform(corpus)\n",
    "    sum_words = bag_of_words.sum(axis=0) \n",
    "    words_freq = [(word, sum_words[0, idx]) for word, idx in vec.vocabulary_.items()]\n",
    "    words_freq =sorted(words_freq, key = lambda x: x[1], reverse=True)\n",
    "    return words_freq[:n]"
   ]
  },
  {
   "cell_type": "markdown",
   "id": "1dce0633",
   "metadata": {},
   "source": [
    "---"
   ]
  },
  {
   "cell_type": "markdown",
   "id": "1fd9a415",
   "metadata": {},
   "source": [
    "\n",
    "\n",
    "# Import Data"
   ]
  },
  {
   "cell_type": "code",
   "execution_count": 11,
   "id": "1ce4a36e",
   "metadata": {},
   "outputs": [
    {
     "data": {
      "text/html": [
       "<div>\n",
       "<style scoped>\n",
       "    .dataframe tbody tr th:only-of-type {\n",
       "        vertical-align: middle;\n",
       "    }\n",
       "\n",
       "    .dataframe tbody tr th {\n",
       "        vertical-align: top;\n",
       "    }\n",
       "\n",
       "    .dataframe thead th {\n",
       "        text-align: right;\n",
       "    }\n",
       "</style>\n",
       "<table border=\"1\" class=\"dataframe\">\n",
       "  <thead>\n",
       "    <tr style=\"text-align: right;\">\n",
       "      <th></th>\n",
       "      <th>title</th>\n",
       "      <th>subreddit</th>\n",
       "      <th>selftext</th>\n",
       "    </tr>\n",
       "  </thead>\n",
       "  <tbody>\n",
       "    <tr>\n",
       "      <th>0</th>\n",
       "      <td>Going diving tomorrow for an open water cert a...</td>\n",
       "      <td>scubadiving</td>\n",
       "      <td>Going diving tomorrow for an open water cert a...</td>\n",
       "    </tr>\n",
       "    <tr>\n",
       "      <th>1</th>\n",
       "      <td>Diving with swimmers ear</td>\n",
       "      <td>scubadiving</td>\n",
       "      <td>NaN</td>\n",
       "    </tr>\n",
       "    <tr>\n",
       "      <th>2</th>\n",
       "      <td>BIG HUNGRY FISH!</td>\n",
       "      <td>scubadiving</td>\n",
       "      <td>NaN</td>\n",
       "    </tr>\n",
       "    <tr>\n",
       "      <th>3</th>\n",
       "      <td>Dusk at Blue Heron Bridge, Rivera Beach, FL - USA</td>\n",
       "      <td>scubadiving</td>\n",
       "      <td>&amp;amp;#x200B;\\n\\nhttps://preview.redd.it/1nwkll...</td>\n",
       "    </tr>\n",
       "    <tr>\n",
       "      <th>4</th>\n",
       "      <td>Scuba Diving Evolution</td>\n",
       "      <td>scubadiving</td>\n",
       "      <td>NaN</td>\n",
       "    </tr>\n",
       "    <tr>\n",
       "      <th>...</th>\n",
       "      <td>...</td>\n",
       "      <td>...</td>\n",
       "      <td>...</td>\n",
       "    </tr>\n",
       "    <tr>\n",
       "      <th>4019</th>\n",
       "      <td>Need to change my stance?</td>\n",
       "      <td>surfing</td>\n",
       "      <td>NaN</td>\n",
       "    </tr>\n",
       "    <tr>\n",
       "      <th>4020</th>\n",
       "      <td>Guadeloupe christmas surf</td>\n",
       "      <td>surfing</td>\n",
       "      <td>Hey!\\nAnyone surfed the guadeloupe lately, how...</td>\n",
       "    </tr>\n",
       "    <tr>\n",
       "      <th>4021</th>\n",
       "      <td>Searching for a rideshare for Fuerteventura th...</td>\n",
       "      <td>surfing</td>\n",
       "      <td>[removed]</td>\n",
       "    </tr>\n",
       "    <tr>\n",
       "      <th>4022</th>\n",
       "      <td>Epicly big for the gulf coast! Clearwater beach</td>\n",
       "      <td>surfing</td>\n",
       "      <td>NaN</td>\n",
       "    </tr>\n",
       "    <tr>\n",
       "      <th>4023</th>\n",
       "      <td>Surfmats. Have you ridden one? Would you ride ...</td>\n",
       "      <td>surfing</td>\n",
       "      <td>My buddy is dropping off a board and a surfmat...</td>\n",
       "    </tr>\n",
       "  </tbody>\n",
       "</table>\n",
       "<p>4024 rows × 3 columns</p>\n",
       "</div>"
      ],
      "text/plain": [
       "                                                  title    subreddit  \\\n",
       "0     Going diving tomorrow for an open water cert a...  scubadiving   \n",
       "1                              Diving with swimmers ear  scubadiving   \n",
       "2                                      BIG HUNGRY FISH!  scubadiving   \n",
       "3     Dusk at Blue Heron Bridge, Rivera Beach, FL - USA  scubadiving   \n",
       "4                                Scuba Diving Evolution  scubadiving   \n",
       "...                                                 ...          ...   \n",
       "4019                          Need to change my stance?      surfing   \n",
       "4020                          Guadeloupe christmas surf      surfing   \n",
       "4021  Searching for a rideshare for Fuerteventura th...      surfing   \n",
       "4022    Epicly big for the gulf coast! Clearwater beach      surfing   \n",
       "4023  Surfmats. Have you ridden one? Would you ride ...      surfing   \n",
       "\n",
       "                                               selftext  \n",
       "0     Going diving tomorrow for an open water cert a...  \n",
       "1                                                   NaN  \n",
       "2                                                   NaN  \n",
       "3     &amp;#x200B;\\n\\nhttps://preview.redd.it/1nwkll...  \n",
       "4                                                   NaN  \n",
       "...                                                 ...  \n",
       "4019                                                NaN  \n",
       "4020  Hey!\\nAnyone surfed the guadeloupe lately, how...  \n",
       "4021                                          [removed]  \n",
       "4022                                                NaN  \n",
       "4023  My buddy is dropping off a board and a surfmat...  \n",
       "\n",
       "[4024 rows x 3 columns]"
      ]
     },
     "execution_count": 11,
     "metadata": {},
     "output_type": "execute_result"
    }
   ],
   "source": [
    "df = pd.read_csv('../data/subreddits.csv', index_col=[0])\n",
    "df.reset_index(drop = True)"
   ]
  },
  {
   "cell_type": "markdown",
   "id": "292f8176",
   "metadata": {},
   "source": [
    "---"
   ]
  },
  {
   "cell_type": "markdown",
   "id": "61211cfb",
   "metadata": {},
   "source": [
    "# Data Cleaning"
   ]
  },
  {
   "cell_type": "code",
   "execution_count": 12,
   "id": "6f49ec71",
   "metadata": {},
   "outputs": [
    {
     "data": {
      "text/html": [
       "<div>\n",
       "<style scoped>\n",
       "    .dataframe tbody tr th:only-of-type {\n",
       "        vertical-align: middle;\n",
       "    }\n",
       "\n",
       "    .dataframe tbody tr th {\n",
       "        vertical-align: top;\n",
       "    }\n",
       "\n",
       "    .dataframe thead th {\n",
       "        text-align: right;\n",
       "    }\n",
       "</style>\n",
       "<table border=\"1\" class=\"dataframe\">\n",
       "  <thead>\n",
       "    <tr style=\"text-align: right;\">\n",
       "      <th></th>\n",
       "      <th>title</th>\n",
       "      <th>subreddit</th>\n",
       "      <th>selftext</th>\n",
       "    </tr>\n",
       "  </thead>\n",
       "  <tbody>\n",
       "    <tr>\n",
       "      <th>0</th>\n",
       "      <td>Going diving tomorrow for an open water cert a...</td>\n",
       "      <td>scubadiving</td>\n",
       "      <td>Going diving tomorrow for an open water cert a...</td>\n",
       "    </tr>\n",
       "    <tr>\n",
       "      <th>1</th>\n",
       "      <td>Diving with swimmers ear</td>\n",
       "      <td>scubadiving</td>\n",
       "      <td>NaN</td>\n",
       "    </tr>\n",
       "    <tr>\n",
       "      <th>2</th>\n",
       "      <td>BIG HUNGRY FISH!</td>\n",
       "      <td>scubadiving</td>\n",
       "      <td>NaN</td>\n",
       "    </tr>\n",
       "    <tr>\n",
       "      <th>3</th>\n",
       "      <td>Dusk at Blue Heron Bridge, Rivera Beach, FL - USA</td>\n",
       "      <td>scubadiving</td>\n",
       "      <td>&amp;amp;#x200B;\\n\\nhttps://preview.redd.it/1nwkll...</td>\n",
       "    </tr>\n",
       "    <tr>\n",
       "      <th>4</th>\n",
       "      <td>Scuba Diving Evolution</td>\n",
       "      <td>scubadiving</td>\n",
       "      <td>NaN</td>\n",
       "    </tr>\n",
       "    <tr>\n",
       "      <th>5</th>\n",
       "      <td>Mark V *inspired* dive helmet lamp decoration ...</td>\n",
       "      <td>scubadiving</td>\n",
       "      <td>NaN</td>\n",
       "    </tr>\n",
       "    <tr>\n",
       "      <th>6</th>\n",
       "      <td>just starting and wondering about a piece of gear</td>\n",
       "      <td>scubadiving</td>\n",
       "      <td>Just looking for some info about a regulator s...</td>\n",
       "    </tr>\n",
       "    <tr>\n",
       "      <th>7</th>\n",
       "      <td>Near miss aka: the importance of making mistak...</td>\n",
       "      <td>scubadiving</td>\n",
       "      <td>This story also reflects the difference betwee...</td>\n",
       "    </tr>\n",
       "    <tr>\n",
       "      <th>8</th>\n",
       "      <td>A Nudibranch Called Phyllidia Ocellata Cuvier</td>\n",
       "      <td>scubadiving</td>\n",
       "      <td>NaN</td>\n",
       "    </tr>\n",
       "    <tr>\n",
       "      <th>9</th>\n",
       "      <td>36 on 05Jan2022</td>\n",
       "      <td>scubadiving</td>\n",
       "      <td>NaN</td>\n",
       "    </tr>\n",
       "    <tr>\n",
       "      <th>10</th>\n",
       "      <td>Belize Liveaboards with Flexible Cancellation ...</td>\n",
       "      <td>scubadiving</td>\n",
       "      <td>Does anyone know of any liveaboards that opera...</td>\n",
       "    </tr>\n",
       "    <tr>\n",
       "      <th>11</th>\n",
       "      <td>Volunteering/part-time scuba diving work</td>\n",
       "      <td>scubadiving</td>\n",
       "      <td>Hello!\\n\\nI'm an advanced open water diver and...</td>\n",
       "    </tr>\n",
       "    <tr>\n",
       "      <th>12</th>\n",
       "      <td>/scubadiving Subdirect Statistics</td>\n",
       "      <td>scubadiving</td>\n",
       "      <td>NaN</td>\n",
       "    </tr>\n",
       "    <tr>\n",
       "      <th>13</th>\n",
       "      <td>Try Diving</td>\n",
       "      <td>scubadiving</td>\n",
       "      <td>NaN</td>\n",
       "    </tr>\n",
       "    <tr>\n",
       "      <th>14</th>\n",
       "      <td>How do I begin the process of diving?</td>\n",
       "      <td>scubadiving</td>\n",
       "      <td>I really want to become certified, but I have ...</td>\n",
       "    </tr>\n",
       "    <tr>\n",
       "      <th>15</th>\n",
       "      <td>Diving in the USA!</td>\n",
       "      <td>scubadiving</td>\n",
       "      <td>Hey everyone! Myself (F18) and father (M46) ha...</td>\n",
       "    </tr>\n",
       "    <tr>\n",
       "      <th>16</th>\n",
       "      <td>Diver Diving Scuba Ocean scuba diving water</td>\n",
       "      <td>scubadiving</td>\n",
       "      <td>NaN</td>\n",
       "    </tr>\n",
       "    <tr>\n",
       "      <th>17</th>\n",
       "      <td>Diving with a pack of Caribbean Reef Sharks a ...</td>\n",
       "      <td>scubadiving</td>\n",
       "      <td>NaN</td>\n",
       "    </tr>\n",
       "    <tr>\n",
       "      <th>18</th>\n",
       "      <td>Happy New Year to all of you.</td>\n",
       "      <td>scubadiving</td>\n",
       "      <td>NaN</td>\n",
       "    </tr>\n",
       "    <tr>\n",
       "      <th>19</th>\n",
       "      <td>BUCKET LIST✅ SCUBA Diving in the Philippines!!</td>\n",
       "      <td>scubadiving</td>\n",
       "      <td>NaN</td>\n",
       "    </tr>\n",
       "  </tbody>\n",
       "</table>\n",
       "</div>"
      ],
      "text/plain": [
       "                                                title    subreddit  \\\n",
       "0   Going diving tomorrow for an open water cert a...  scubadiving   \n",
       "1                            Diving with swimmers ear  scubadiving   \n",
       "2                                    BIG HUNGRY FISH!  scubadiving   \n",
       "3   Dusk at Blue Heron Bridge, Rivera Beach, FL - USA  scubadiving   \n",
       "4                              Scuba Diving Evolution  scubadiving   \n",
       "5   Mark V *inspired* dive helmet lamp decoration ...  scubadiving   \n",
       "6   just starting and wondering about a piece of gear  scubadiving   \n",
       "7   Near miss aka: the importance of making mistak...  scubadiving   \n",
       "8       A Nudibranch Called Phyllidia Ocellata Cuvier  scubadiving   \n",
       "9                                     36 on 05Jan2022  scubadiving   \n",
       "10  Belize Liveaboards with Flexible Cancellation ...  scubadiving   \n",
       "11           Volunteering/part-time scuba diving work  scubadiving   \n",
       "12                  /scubadiving Subdirect Statistics  scubadiving   \n",
       "13                                         Try Diving  scubadiving   \n",
       "14              How do I begin the process of diving?  scubadiving   \n",
       "15                                 Diving in the USA!  scubadiving   \n",
       "16        Diver Diving Scuba Ocean scuba diving water  scubadiving   \n",
       "17  Diving with a pack of Caribbean Reef Sharks a ...  scubadiving   \n",
       "18                      Happy New Year to all of you.  scubadiving   \n",
       "19     BUCKET LIST✅ SCUBA Diving in the Philippines!!  scubadiving   \n",
       "\n",
       "                                             selftext  \n",
       "0   Going diving tomorrow for an open water cert a...  \n",
       "1                                                 NaN  \n",
       "2                                                 NaN  \n",
       "3   &amp;#x200B;\\n\\nhttps://preview.redd.it/1nwkll...  \n",
       "4                                                 NaN  \n",
       "5                                                 NaN  \n",
       "6   Just looking for some info about a regulator s...  \n",
       "7   This story also reflects the difference betwee...  \n",
       "8                                                 NaN  \n",
       "9                                                 NaN  \n",
       "10  Does anyone know of any liveaboards that opera...  \n",
       "11  Hello!\\n\\nI'm an advanced open water diver and...  \n",
       "12                                                NaN  \n",
       "13                                                NaN  \n",
       "14  I really want to become certified, but I have ...  \n",
       "15  Hey everyone! Myself (F18) and father (M46) ha...  \n",
       "16                                                NaN  \n",
       "17                                                NaN  \n",
       "18                                                NaN  \n",
       "19                                                NaN  "
      ]
     },
     "execution_count": 12,
     "metadata": {},
     "output_type": "execute_result"
    }
   ],
   "source": [
    "df.head(20)"
   ]
  },
  {
   "cell_type": "code",
   "execution_count": 13,
   "id": "5d4f0140",
   "metadata": {},
   "outputs": [
    {
     "name": "stdout",
     "output_type": "stream",
     "text": [
      "<class 'pandas.core.frame.DataFrame'>\n",
      "Int64Index: 4024 entries, 0 to 4023\n",
      "Data columns (total 3 columns):\n",
      " #   Column     Non-Null Count  Dtype \n",
      "---  ------     --------------  ----- \n",
      " 0   title      4024 non-null   object\n",
      " 1   subreddit  4024 non-null   object\n",
      " 2   selftext   1555 non-null   object\n",
      "dtypes: object(3)\n",
      "memory usage: 125.8+ KB\n"
     ]
    }
   ],
   "source": [
    "df.info()"
   ]
  },
  {
   "cell_type": "code",
   "execution_count": 14,
   "id": "89a4f701",
   "metadata": {},
   "outputs": [
    {
     "data": {
      "text/plain": [
       "title           0\n",
       "subreddit       0\n",
       "selftext     2469\n",
       "dtype: int64"
      ]
     },
     "execution_count": 14,
     "metadata": {},
     "output_type": "execute_result"
    }
   ],
   "source": [
    "df.isna().sum()"
   ]
  },
  {
   "cell_type": "code",
   "execution_count": 15,
   "id": "c32f1134",
   "metadata": {},
   "outputs": [],
   "source": [
    "df['selftext'] = df['selftext'].fillna('')"
   ]
  },
  {
   "cell_type": "code",
   "execution_count": 16,
   "id": "82441bf9",
   "metadata": {},
   "outputs": [
    {
     "data": {
      "text/plain": [
       "title        0\n",
       "subreddit    0\n",
       "selftext     0\n",
       "dtype: int64"
      ]
     },
     "execution_count": 16,
     "metadata": {},
     "output_type": "execute_result"
    }
   ],
   "source": [
    "df.isna().sum()"
   ]
  },
  {
   "cell_type": "code",
   "execution_count": 17,
   "id": "e013f725",
   "metadata": {},
   "outputs": [
    {
     "data": {
      "text/html": [
       "<div>\n",
       "<style scoped>\n",
       "    .dataframe tbody tr th:only-of-type {\n",
       "        vertical-align: middle;\n",
       "    }\n",
       "\n",
       "    .dataframe tbody tr th {\n",
       "        vertical-align: top;\n",
       "    }\n",
       "\n",
       "    .dataframe thead th {\n",
       "        text-align: right;\n",
       "    }\n",
       "</style>\n",
       "<table border=\"1\" class=\"dataframe\">\n",
       "  <thead>\n",
       "    <tr style=\"text-align: right;\">\n",
       "      <th></th>\n",
       "      <th>title</th>\n",
       "      <th>subreddit</th>\n",
       "      <th>selftext</th>\n",
       "    </tr>\n",
       "  </thead>\n",
       "  <tbody>\n",
       "    <tr>\n",
       "      <th>36</th>\n",
       "      <td>Charge your mini diving cylinder anytime, anyw...</td>\n",
       "      <td>scubadiving</td>\n",
       "      <td>[removed]</td>\n",
       "    </tr>\n",
       "    <tr>\n",
       "      <th>37</th>\n",
       "      <td>Charge your mini diving cylinder anytime, anyw...</td>\n",
       "      <td>scubadiving</td>\n",
       "      <td>[removed]</td>\n",
       "    </tr>\n",
       "    <tr>\n",
       "      <th>94</th>\n",
       "      <td>New A Diver's Life Video: Conserving Bonaire's...</td>\n",
       "      <td>scubadiving</td>\n",
       "      <td>[removed]</td>\n",
       "    </tr>\n",
       "    <tr>\n",
       "      <th>98</th>\n",
       "      <td>New Arrivals—SMACO S700 2L Tanks Mini Scuba Ta...</td>\n",
       "      <td>scubadiving</td>\n",
       "      <td>[removed]</td>\n",
       "    </tr>\n",
       "    <tr>\n",
       "      <th>103</th>\n",
       "      <td>New Arrivals—SMACO S700 2L Tanks Mini Scuba Ta...</td>\n",
       "      <td>scubadiving</td>\n",
       "      <td>[removed]</td>\n",
       "    </tr>\n",
       "    <tr>\n",
       "      <th>...</th>\n",
       "      <td>...</td>\n",
       "      <td>...</td>\n",
       "      <td>...</td>\n",
       "    </tr>\n",
       "    <tr>\n",
       "      <th>4009</th>\n",
       "      <td>new to mass, any good spots in mass or nearby ...</td>\n",
       "      <td>surfing</td>\n",
       "      <td>[removed]</td>\n",
       "    </tr>\n",
       "    <tr>\n",
       "      <th>4012</th>\n",
       "      <td>Board bag for Flying with Board</td>\n",
       "      <td>surfing</td>\n",
       "      <td>[removed]</td>\n",
       "    </tr>\n",
       "    <tr>\n",
       "      <th>4015</th>\n",
       "      <td>Remote Work + Surfing in July/August</td>\n",
       "      <td>surfing</td>\n",
       "      <td>[removed]</td>\n",
       "    </tr>\n",
       "    <tr>\n",
       "      <th>4017</th>\n",
       "      <td>Need feedback on a product for surfers and get...</td>\n",
       "      <td>surfing</td>\n",
       "      <td>[removed]</td>\n",
       "    </tr>\n",
       "    <tr>\n",
       "      <th>4021</th>\n",
       "      <td>Searching for a rideshare for Fuerteventura th...</td>\n",
       "      <td>surfing</td>\n",
       "      <td>[removed]</td>\n",
       "    </tr>\n",
       "  </tbody>\n",
       "</table>\n",
       "<p>277 rows × 3 columns</p>\n",
       "</div>"
      ],
      "text/plain": [
       "                                                  title    subreddit  \\\n",
       "36    Charge your mini diving cylinder anytime, anyw...  scubadiving   \n",
       "37    Charge your mini diving cylinder anytime, anyw...  scubadiving   \n",
       "94    New A Diver's Life Video: Conserving Bonaire's...  scubadiving   \n",
       "98    New Arrivals—SMACO S700 2L Tanks Mini Scuba Ta...  scubadiving   \n",
       "103   New Arrivals—SMACO S700 2L Tanks Mini Scuba Ta...  scubadiving   \n",
       "...                                                 ...          ...   \n",
       "4009  new to mass, any good spots in mass or nearby ...      surfing   \n",
       "4012                    Board bag for Flying with Board      surfing   \n",
       "4015               Remote Work + Surfing in July/August      surfing   \n",
       "4017  Need feedback on a product for surfers and get...      surfing   \n",
       "4021  Searching for a rideshare for Fuerteventura th...      surfing   \n",
       "\n",
       "       selftext  \n",
       "36    [removed]  \n",
       "37    [removed]  \n",
       "94    [removed]  \n",
       "98    [removed]  \n",
       "103   [removed]  \n",
       "...         ...  \n",
       "4009  [removed]  \n",
       "4012  [removed]  \n",
       "4015  [removed]  \n",
       "4017  [removed]  \n",
       "4021  [removed]  \n",
       "\n",
       "[277 rows x 3 columns]"
      ]
     },
     "execution_count": 17,
     "metadata": {},
     "output_type": "execute_result"
    }
   ],
   "source": [
    "df[df['selftext'] == '[removed]']"
   ]
  },
  {
   "cell_type": "code",
   "execution_count": 18,
   "id": "6670fa1c",
   "metadata": {},
   "outputs": [],
   "source": [
    "df['selftext'] = df['selftext'].replace(['[removed]'],'')"
   ]
  },
  {
   "cell_type": "code",
   "execution_count": 19,
   "id": "7e5cb5a3",
   "metadata": {
    "scrolled": true
   },
   "outputs": [
    {
     "data": {
      "text/html": [
       "<div>\n",
       "<style scoped>\n",
       "    .dataframe tbody tr th:only-of-type {\n",
       "        vertical-align: middle;\n",
       "    }\n",
       "\n",
       "    .dataframe tbody tr th {\n",
       "        vertical-align: top;\n",
       "    }\n",
       "\n",
       "    .dataframe thead th {\n",
       "        text-align: right;\n",
       "    }\n",
       "</style>\n",
       "<table border=\"1\" class=\"dataframe\">\n",
       "  <thead>\n",
       "    <tr style=\"text-align: right;\">\n",
       "      <th></th>\n",
       "      <th>title</th>\n",
       "      <th>subreddit</th>\n",
       "      <th>selftext</th>\n",
       "    </tr>\n",
       "  </thead>\n",
       "  <tbody>\n",
       "  </tbody>\n",
       "</table>\n",
       "</div>"
      ],
      "text/plain": [
       "Empty DataFrame\n",
       "Columns: [title, subreddit, selftext]\n",
       "Index: []"
      ]
     },
     "execution_count": 19,
     "metadata": {},
     "output_type": "execute_result"
    }
   ],
   "source": [
    "df[df['selftext'] == '[removed]']"
   ]
  },
  {
   "cell_type": "code",
   "execution_count": 20,
   "id": "c24337b7",
   "metadata": {},
   "outputs": [
    {
     "data": {
      "text/html": [
       "<div>\n",
       "<style scoped>\n",
       "    .dataframe tbody tr th:only-of-type {\n",
       "        vertical-align: middle;\n",
       "    }\n",
       "\n",
       "    .dataframe tbody tr th {\n",
       "        vertical-align: top;\n",
       "    }\n",
       "\n",
       "    .dataframe thead th {\n",
       "        text-align: right;\n",
       "    }\n",
       "</style>\n",
       "<table border=\"1\" class=\"dataframe\">\n",
       "  <thead>\n",
       "    <tr style=\"text-align: right;\">\n",
       "      <th></th>\n",
       "      <th>title</th>\n",
       "      <th>subreddit</th>\n",
       "      <th>selftext</th>\n",
       "    </tr>\n",
       "  </thead>\n",
       "  <tbody>\n",
       "    <tr>\n",
       "      <th>423</th>\n",
       "      <td>Can someone give me the answer to this question?</td>\n",
       "      <td>scubadiving</td>\n",
       "      <td>[deleted]</td>\n",
       "    </tr>\n",
       "    <tr>\n",
       "      <th>449</th>\n",
       "      <td>New A Diver's Life Video: Diving Bonaire's Res...</td>\n",
       "      <td>scubadiving</td>\n",
       "      <td>[deleted]</td>\n",
       "    </tr>\n",
       "    <tr>\n",
       "      <th>510</th>\n",
       "      <td>GoPros have gotten so much better at photos</td>\n",
       "      <td>scubadiving</td>\n",
       "      <td>[deleted]</td>\n",
       "    </tr>\n",
       "    <tr>\n",
       "      <th>540</th>\n",
       "      <td>Hello Redditors! We are a dive centre based in...</td>\n",
       "      <td>scubadiving</td>\n",
       "      <td>[deleted]</td>\n",
       "    </tr>\n",
       "    <tr>\n",
       "      <th>609</th>\n",
       "      <td>Vehicle recovery (DART)</td>\n",
       "      <td>scubadiving</td>\n",
       "      <td>[deleted]</td>\n",
       "    </tr>\n",
       "    <tr>\n",
       "      <th>724</th>\n",
       "      <td>Found an old photo from my open water in 2006....</td>\n",
       "      <td>scubadiving</td>\n",
       "      <td>[deleted]</td>\n",
       "    </tr>\n",
       "    <tr>\n",
       "      <th>989</th>\n",
       "      <td>Santa Cruz Island, California</td>\n",
       "      <td>scubadiving</td>\n",
       "      <td>[deleted]</td>\n",
       "    </tr>\n",
       "    <tr>\n",
       "      <th>1038</th>\n",
       "      <td>My cool trip from Cenote</td>\n",
       "      <td>scubadiving</td>\n",
       "      <td>[deleted]</td>\n",
       "    </tr>\n",
       "    <tr>\n",
       "      <th>1075</th>\n",
       "      <td>Maybe a stupid question, But: Why do diving-co...</td>\n",
       "      <td>scubadiving</td>\n",
       "      <td>[deleted]</td>\n",
       "    </tr>\n",
       "    <tr>\n",
       "      <th>1141</th>\n",
       "      <td>Interesting find at a little known local spot</td>\n",
       "      <td>scubadiving</td>\n",
       "      <td>[deleted]</td>\n",
       "    </tr>\n",
       "    <tr>\n",
       "      <th>1149</th>\n",
       "      <td>Is anyone else terrified of night dives?</td>\n",
       "      <td>scubadiving</td>\n",
       "      <td>[deleted]</td>\n",
       "    </tr>\n",
       "    <tr>\n",
       "      <th>1161</th>\n",
       "      <td>Missing diving in Little Cayman</td>\n",
       "      <td>scubadiving</td>\n",
       "      <td>[deleted]</td>\n",
       "    </tr>\n",
       "    <tr>\n",
       "      <th>1204</th>\n",
       "      <td>How I started my career as a full time underwa...</td>\n",
       "      <td>scubadiving</td>\n",
       "      <td>[deleted]</td>\n",
       "    </tr>\n",
       "    <tr>\n",
       "      <th>1205</th>\n",
       "      <td>How I started my career as a full time underwa...</td>\n",
       "      <td>scubadiving</td>\n",
       "      <td>[deleted]</td>\n",
       "    </tr>\n",
       "    <tr>\n",
       "      <th>1215</th>\n",
       "      <td>Recommendations?! In California. Preferably so...</td>\n",
       "      <td>scubadiving</td>\n",
       "      <td>[deleted]</td>\n",
       "    </tr>\n",
       "    <tr>\n",
       "      <th>1364</th>\n",
       "      <td>Diving the mysterious Hilma Hooker Wreck on Bo...</td>\n",
       "      <td>scubadiving</td>\n",
       "      <td>[deleted]</td>\n",
       "    </tr>\n",
       "    <tr>\n",
       "      <th>2307</th>\n",
       "      <td>What's the opposite of AC/DC?</td>\n",
       "      <td>surfing</td>\n",
       "      <td>[deleted]</td>\n",
       "    </tr>\n",
       "    <tr>\n",
       "      <th>2309</th>\n",
       "      <td>Weekend Question Thread</td>\n",
       "      <td>surfing</td>\n",
       "      <td>[deleted]</td>\n",
       "    </tr>\n",
       "    <tr>\n",
       "      <th>2497</th>\n",
       "      <td>most beautiful beach in Southern California? M...</td>\n",
       "      <td>surfing</td>\n",
       "      <td>[deleted]</td>\n",
       "    </tr>\n",
       "    <tr>\n",
       "      <th>3288</th>\n",
       "      <td>Do you mainly buy new boards, used boards, or ...</td>\n",
       "      <td>surfing</td>\n",
       "      <td>[deleted]</td>\n",
       "    </tr>\n",
       "    <tr>\n",
       "      <th>3300</th>\n",
       "      <td>Swimcaps while surfing?</td>\n",
       "      <td>surfing</td>\n",
       "      <td>[deleted]</td>\n",
       "    </tr>\n",
       "    <tr>\n",
       "      <th>3302</th>\n",
       "      <td>How does a thruster fin set up on a fish tail ...</td>\n",
       "      <td>surfing</td>\n",
       "      <td>[deleted]</td>\n",
       "    </tr>\n",
       "    <tr>\n",
       "      <th>3339</th>\n",
       "      <td>After running into someone mid turn(prev. post...</td>\n",
       "      <td>surfing</td>\n",
       "      <td>[deleted]</td>\n",
       "    </tr>\n",
       "    <tr>\n",
       "      <th>3355</th>\n",
       "      <td>Fluo feather funk? This is gonna be a bright one.</td>\n",
       "      <td>surfing</td>\n",
       "      <td>[deleted]</td>\n",
       "    </tr>\n",
       "    <tr>\n",
       "      <th>3359</th>\n",
       "      <td>Advice on all-round boards (beginner/intermedi...</td>\n",
       "      <td>surfing</td>\n",
       "      <td>[deleted]</td>\n",
       "    </tr>\n",
       "    <tr>\n",
       "      <th>3360</th>\n",
       "      <td>Beginner here, was recently given 2 boards, on...</td>\n",
       "      <td>surfing</td>\n",
       "      <td>[deleted]</td>\n",
       "    </tr>\n",
       "    <tr>\n",
       "      <th>3608</th>\n",
       "      <td>Scored at a local board swap (local shaper)</td>\n",
       "      <td>surfing</td>\n",
       "      <td>[deleted]</td>\n",
       "    </tr>\n",
       "    <tr>\n",
       "      <th>3656</th>\n",
       "      <td>Scored at local board swap today (local South ...</td>\n",
       "      <td>surfing</td>\n",
       "      <td>[deleted]</td>\n",
       "    </tr>\n",
       "  </tbody>\n",
       "</table>\n",
       "</div>"
      ],
      "text/plain": [
       "                                                  title    subreddit  \\\n",
       "423    Can someone give me the answer to this question?  scubadiving   \n",
       "449   New A Diver's Life Video: Diving Bonaire's Res...  scubadiving   \n",
       "510         GoPros have gotten so much better at photos  scubadiving   \n",
       "540   Hello Redditors! We are a dive centre based in...  scubadiving   \n",
       "609                             Vehicle recovery (DART)  scubadiving   \n",
       "724   Found an old photo from my open water in 2006....  scubadiving   \n",
       "989                       Santa Cruz Island, California  scubadiving   \n",
       "1038                           My cool trip from Cenote  scubadiving   \n",
       "1075  Maybe a stupid question, But: Why do diving-co...  scubadiving   \n",
       "1141      Interesting find at a little known local spot  scubadiving   \n",
       "1149           Is anyone else terrified of night dives?  scubadiving   \n",
       "1161                    Missing diving in Little Cayman  scubadiving   \n",
       "1204  How I started my career as a full time underwa...  scubadiving   \n",
       "1205  How I started my career as a full time underwa...  scubadiving   \n",
       "1215  Recommendations?! In California. Preferably so...  scubadiving   \n",
       "1364  Diving the mysterious Hilma Hooker Wreck on Bo...  scubadiving   \n",
       "2307                      What's the opposite of AC/DC?      surfing   \n",
       "2309                            Weekend Question Thread      surfing   \n",
       "2497  most beautiful beach in Southern California? M...      surfing   \n",
       "3288  Do you mainly buy new boards, used boards, or ...      surfing   \n",
       "3300                            Swimcaps while surfing?      surfing   \n",
       "3302  How does a thruster fin set up on a fish tail ...      surfing   \n",
       "3339  After running into someone mid turn(prev. post...      surfing   \n",
       "3355  Fluo feather funk? This is gonna be a bright one.      surfing   \n",
       "3359  Advice on all-round boards (beginner/intermedi...      surfing   \n",
       "3360  Beginner here, was recently given 2 boards, on...      surfing   \n",
       "3608        Scored at a local board swap (local shaper)      surfing   \n",
       "3656  Scored at local board swap today (local South ...      surfing   \n",
       "\n",
       "       selftext  \n",
       "423   [deleted]  \n",
       "449   [deleted]  \n",
       "510   [deleted]  \n",
       "540   [deleted]  \n",
       "609   [deleted]  \n",
       "724   [deleted]  \n",
       "989   [deleted]  \n",
       "1038  [deleted]  \n",
       "1075  [deleted]  \n",
       "1141  [deleted]  \n",
       "1149  [deleted]  \n",
       "1161  [deleted]  \n",
       "1204  [deleted]  \n",
       "1205  [deleted]  \n",
       "1215  [deleted]  \n",
       "1364  [deleted]  \n",
       "2307  [deleted]  \n",
       "2309  [deleted]  \n",
       "2497  [deleted]  \n",
       "3288  [deleted]  \n",
       "3300  [deleted]  \n",
       "3302  [deleted]  \n",
       "3339  [deleted]  \n",
       "3355  [deleted]  \n",
       "3359  [deleted]  \n",
       "3360  [deleted]  \n",
       "3608  [deleted]  \n",
       "3656  [deleted]  "
      ]
     },
     "execution_count": 20,
     "metadata": {},
     "output_type": "execute_result"
    }
   ],
   "source": [
    "df[df['selftext'] == '[deleted]']"
   ]
  },
  {
   "cell_type": "code",
   "execution_count": 21,
   "id": "1d7a174b",
   "metadata": {},
   "outputs": [],
   "source": [
    "df['selftext'] = df['selftext'].replace(['[deleted]'],'')"
   ]
  },
  {
   "cell_type": "code",
   "execution_count": 22,
   "id": "75a12167",
   "metadata": {},
   "outputs": [
    {
     "data": {
      "text/html": [
       "<div>\n",
       "<style scoped>\n",
       "    .dataframe tbody tr th:only-of-type {\n",
       "        vertical-align: middle;\n",
       "    }\n",
       "\n",
       "    .dataframe tbody tr th {\n",
       "        vertical-align: top;\n",
       "    }\n",
       "\n",
       "    .dataframe thead th {\n",
       "        text-align: right;\n",
       "    }\n",
       "</style>\n",
       "<table border=\"1\" class=\"dataframe\">\n",
       "  <thead>\n",
       "    <tr style=\"text-align: right;\">\n",
       "      <th></th>\n",
       "      <th>title</th>\n",
       "      <th>subreddit</th>\n",
       "      <th>selftext</th>\n",
       "    </tr>\n",
       "  </thead>\n",
       "  <tbody>\n",
       "  </tbody>\n",
       "</table>\n",
       "</div>"
      ],
      "text/plain": [
       "Empty DataFrame\n",
       "Columns: [title, subreddit, selftext]\n",
       "Index: []"
      ]
     },
     "execution_count": 22,
     "metadata": {},
     "output_type": "execute_result"
    }
   ],
   "source": [
    "df[df['selftext'] == '[deleted]']"
   ]
  },
  {
   "cell_type": "code",
   "execution_count": 23,
   "id": "b34f9197",
   "metadata": {
    "scrolled": true
   },
   "outputs": [
    {
     "data": {
      "text/html": [
       "<div>\n",
       "<style scoped>\n",
       "    .dataframe tbody tr th:only-of-type {\n",
       "        vertical-align: middle;\n",
       "    }\n",
       "\n",
       "    .dataframe tbody tr th {\n",
       "        vertical-align: top;\n",
       "    }\n",
       "\n",
       "    .dataframe thead th {\n",
       "        text-align: right;\n",
       "    }\n",
       "</style>\n",
       "<table border=\"1\" class=\"dataframe\">\n",
       "  <thead>\n",
       "    <tr style=\"text-align: right;\">\n",
       "      <th></th>\n",
       "      <th>title</th>\n",
       "      <th>subreddit</th>\n",
       "      <th>selftext</th>\n",
       "      <th>diving</th>\n",
       "    </tr>\n",
       "  </thead>\n",
       "  <tbody>\n",
       "    <tr>\n",
       "      <th>0</th>\n",
       "      <td>Going diving tomorrow for an open water cert a...</td>\n",
       "      <td>scubadiving</td>\n",
       "      <td>Going diving tomorrow for an open water cert a...</td>\n",
       "      <td>1</td>\n",
       "    </tr>\n",
       "    <tr>\n",
       "      <th>1</th>\n",
       "      <td>Diving with swimmers ear</td>\n",
       "      <td>scubadiving</td>\n",
       "      <td></td>\n",
       "      <td>1</td>\n",
       "    </tr>\n",
       "    <tr>\n",
       "      <th>2</th>\n",
       "      <td>BIG HUNGRY FISH!</td>\n",
       "      <td>scubadiving</td>\n",
       "      <td></td>\n",
       "      <td>1</td>\n",
       "    </tr>\n",
       "    <tr>\n",
       "      <th>3</th>\n",
       "      <td>Dusk at Blue Heron Bridge, Rivera Beach, FL - USA</td>\n",
       "      <td>scubadiving</td>\n",
       "      <td>&amp;amp;#x200B;\\n\\nhttps://preview.redd.it/1nwkll...</td>\n",
       "      <td>1</td>\n",
       "    </tr>\n",
       "    <tr>\n",
       "      <th>4</th>\n",
       "      <td>Scuba Diving Evolution</td>\n",
       "      <td>scubadiving</td>\n",
       "      <td></td>\n",
       "      <td>1</td>\n",
       "    </tr>\n",
       "  </tbody>\n",
       "</table>\n",
       "</div>"
      ],
      "text/plain": [
       "                                               title    subreddit  \\\n",
       "0  Going diving tomorrow for an open water cert a...  scubadiving   \n",
       "1                           Diving with swimmers ear  scubadiving   \n",
       "2                                   BIG HUNGRY FISH!  scubadiving   \n",
       "3  Dusk at Blue Heron Bridge, Rivera Beach, FL - USA  scubadiving   \n",
       "4                             Scuba Diving Evolution  scubadiving   \n",
       "\n",
       "                                            selftext  diving  \n",
       "0  Going diving tomorrow for an open water cert a...       1  \n",
       "1                                                          1  \n",
       "2                                                          1  \n",
       "3  &amp;#x200B;\\n\\nhttps://preview.redd.it/1nwkll...       1  \n",
       "4                                                          1  "
      ]
     },
     "execution_count": 23,
     "metadata": {},
     "output_type": "execute_result"
    }
   ],
   "source": [
    "#Create diving column when diving = 1, cycling = 0 \n",
    "df['diving'] = df['subreddit'].map({'scubadiving':1,'surfing':0})\n",
    "df.head()"
   ]
  },
  {
   "cell_type": "code",
   "execution_count": 24,
   "id": "0febe936",
   "metadata": {
    "scrolled": true
   },
   "outputs": [
    {
     "data": {
      "text/plain": [
       "1    2024\n",
       "0    2000\n",
       "Name: diving, dtype: int64"
      ]
     },
     "execution_count": 24,
     "metadata": {},
     "output_type": "execute_result"
    }
   ],
   "source": [
    "df['diving'].value_counts()"
   ]
  },
  {
   "cell_type": "markdown",
   "id": "4e982c8c",
   "metadata": {},
   "source": [
    "Check for and view duplicated rows"
   ]
  },
  {
   "cell_type": "code",
   "execution_count": 25,
   "id": "7ceded33",
   "metadata": {},
   "outputs": [
    {
     "name": "stdout",
     "output_type": "stream",
     "text": [
      "                                                  title    subreddit selftext  \\\n",
      "40          Diver Diving Scuba Ocean scuba diving water  scubadiving            \n",
      "46                               Scuba Diving Evolution  scubadiving            \n",
      "52          Diver Diving Scuba Ocean scuba diving water  scubadiving            \n",
      "68                                   Scuba Diving Diver  scubadiving            \n",
      "69                               Scuba Diving Evolution  scubadiving            \n",
      "...                                                 ...          ...      ...   \n",
      "3919                                          Soft tops      surfing            \n",
      "3922                            Weekend Question Thread      surfing            \n",
      "3937       Nor’easter or hurricane? What do you prefer?      surfing            \n",
      "3994  Cornish Surf (Canon AE1-P, Portra 160) Does an...      surfing            \n",
      "3998                                The Wednesday Whine      surfing            \n",
      "\n",
      "      diving  \n",
      "40         1  \n",
      "46         1  \n",
      "52         1  \n",
      "68         1  \n",
      "69         1  \n",
      "...      ...  \n",
      "3919       0  \n",
      "3922       0  \n",
      "3937       0  \n",
      "3994       0  \n",
      "3998       0  \n",
      "\n",
      "[99 rows x 4 columns]\n"
     ]
    }
   ],
   "source": [
    "print(df[df.duplicated() == True])"
   ]
  },
  {
   "cell_type": "markdown",
   "id": "f41149f5",
   "metadata": {},
   "source": [
    "Drop duplicated rows"
   ]
  },
  {
   "cell_type": "code",
   "execution_count": 26,
   "id": "1aaf1c93",
   "metadata": {},
   "outputs": [],
   "source": [
    "df = df.drop_duplicates(subset=['title', 'subreddit'], keep = 'last')\n",
    "df = df.reset_index(drop=True)"
   ]
  },
  {
   "cell_type": "code",
   "execution_count": 27,
   "id": "9a97ee6d",
   "metadata": {
    "scrolled": false
   },
   "outputs": [
    {
     "name": "stdout",
     "output_type": "stream",
     "text": [
      "<class 'pandas.core.frame.DataFrame'>\n",
      "RangeIndex: 3909 entries, 0 to 3908\n",
      "Data columns (total 4 columns):\n",
      " #   Column     Non-Null Count  Dtype \n",
      "---  ------     --------------  ----- \n",
      " 0   title      3909 non-null   object\n",
      " 1   subreddit  3909 non-null   object\n",
      " 2   selftext   3909 non-null   object\n",
      " 3   diving     3909 non-null   int64 \n",
      "dtypes: int64(1), object(3)\n",
      "memory usage: 122.3+ KB\n"
     ]
    }
   ],
   "source": [
    "df.info()"
   ]
  },
  {
   "cell_type": "markdown",
   "id": "5646de13",
   "metadata": {},
   "source": [
    "Check if a copy of the duplicated rows still remains"
   ]
  },
  {
   "cell_type": "code",
   "execution_count": 28,
   "id": "40dc4979",
   "metadata": {
    "scrolled": true
   },
   "outputs": [
    {
     "data": {
      "text/html": [
       "<div>\n",
       "<style scoped>\n",
       "    .dataframe tbody tr th:only-of-type {\n",
       "        vertical-align: middle;\n",
       "    }\n",
       "\n",
       "    .dataframe tbody tr th {\n",
       "        vertical-align: top;\n",
       "    }\n",
       "\n",
       "    .dataframe thead th {\n",
       "        text-align: right;\n",
       "    }\n",
       "</style>\n",
       "<table border=\"1\" class=\"dataframe\">\n",
       "  <thead>\n",
       "    <tr style=\"text-align: right;\">\n",
       "      <th></th>\n",
       "      <th>title</th>\n",
       "      <th>subreddit</th>\n",
       "      <th>selftext</th>\n",
       "      <th>diving</th>\n",
       "    </tr>\n",
       "  </thead>\n",
       "  <tbody>\n",
       "    <tr>\n",
       "      <th>129</th>\n",
       "      <td>Scuba Diving Evolution</td>\n",
       "      <td>scubadiving</td>\n",
       "      <td></td>\n",
       "      <td>1</td>\n",
       "    </tr>\n",
       "  </tbody>\n",
       "</table>\n",
       "</div>"
      ],
      "text/plain": [
       "                      title    subreddit selftext  diving\n",
       "129  Scuba Diving Evolution  scubadiving                1"
      ]
     },
     "execution_count": 28,
     "metadata": {},
     "output_type": "execute_result"
    }
   ],
   "source": [
    "df[df['title'] == 'Scuba Diving Evolution']"
   ]
  },
  {
   "cell_type": "markdown",
   "id": "778c9ad3",
   "metadata": {},
   "source": [
    "## Combine 'title' and 'selftext'"
   ]
  },
  {
   "cell_type": "code",
   "execution_count": 29,
   "id": "489bf5ed",
   "metadata": {},
   "outputs": [],
   "source": [
    "df['text'] = df['title'] + ' ' + df['selftext']"
   ]
  },
  {
   "cell_type": "code",
   "execution_count": 30,
   "id": "2dc7b702",
   "metadata": {},
   "outputs": [
    {
     "data": {
      "text/html": [
       "<div>\n",
       "<style scoped>\n",
       "    .dataframe tbody tr th:only-of-type {\n",
       "        vertical-align: middle;\n",
       "    }\n",
       "\n",
       "    .dataframe tbody tr th {\n",
       "        vertical-align: top;\n",
       "    }\n",
       "\n",
       "    .dataframe thead th {\n",
       "        text-align: right;\n",
       "    }\n",
       "</style>\n",
       "<table border=\"1\" class=\"dataframe\">\n",
       "  <thead>\n",
       "    <tr style=\"text-align: right;\">\n",
       "      <th></th>\n",
       "      <th>title</th>\n",
       "      <th>subreddit</th>\n",
       "      <th>selftext</th>\n",
       "      <th>diving</th>\n",
       "      <th>text</th>\n",
       "    </tr>\n",
       "  </thead>\n",
       "  <tbody>\n",
       "    <tr>\n",
       "      <th>0</th>\n",
       "      <td>Going diving tomorrow for an open water cert a...</td>\n",
       "      <td>scubadiving</td>\n",
       "      <td>Going diving tomorrow for an open water cert a...</td>\n",
       "      <td>1</td>\n",
       "      <td>Going diving tomorrow for an open water cert a...</td>\n",
       "    </tr>\n",
       "    <tr>\n",
       "      <th>1</th>\n",
       "      <td>Diving with swimmers ear</td>\n",
       "      <td>scubadiving</td>\n",
       "      <td></td>\n",
       "      <td>1</td>\n",
       "      <td>Diving with swimmers ear</td>\n",
       "    </tr>\n",
       "    <tr>\n",
       "      <th>2</th>\n",
       "      <td>BIG HUNGRY FISH!</td>\n",
       "      <td>scubadiving</td>\n",
       "      <td></td>\n",
       "      <td>1</td>\n",
       "      <td>BIG HUNGRY FISH!</td>\n",
       "    </tr>\n",
       "    <tr>\n",
       "      <th>3</th>\n",
       "      <td>Dusk at Blue Heron Bridge, Rivera Beach, FL - USA</td>\n",
       "      <td>scubadiving</td>\n",
       "      <td>&amp;amp;#x200B;\\n\\nhttps://preview.redd.it/1nwkll...</td>\n",
       "      <td>1</td>\n",
       "      <td>Dusk at Blue Heron Bridge, Rivera Beach, FL - ...</td>\n",
       "    </tr>\n",
       "    <tr>\n",
       "      <th>4</th>\n",
       "      <td>Mark V *inspired* dive helmet lamp decoration ...</td>\n",
       "      <td>scubadiving</td>\n",
       "      <td></td>\n",
       "      <td>1</td>\n",
       "      <td>Mark V *inspired* dive helmet lamp decoration ...</td>\n",
       "    </tr>\n",
       "  </tbody>\n",
       "</table>\n",
       "</div>"
      ],
      "text/plain": [
       "                                               title    subreddit  \\\n",
       "0  Going diving tomorrow for an open water cert a...  scubadiving   \n",
       "1                           Diving with swimmers ear  scubadiving   \n",
       "2                                   BIG HUNGRY FISH!  scubadiving   \n",
       "3  Dusk at Blue Heron Bridge, Rivera Beach, FL - USA  scubadiving   \n",
       "4  Mark V *inspired* dive helmet lamp decoration ...  scubadiving   \n",
       "\n",
       "                                            selftext  diving  \\\n",
       "0  Going diving tomorrow for an open water cert a...       1   \n",
       "1                                                          1   \n",
       "2                                                          1   \n",
       "3  &amp;#x200B;\\n\\nhttps://preview.redd.it/1nwkll...       1   \n",
       "4                                                          1   \n",
       "\n",
       "                                                text  \n",
       "0  Going diving tomorrow for an open water cert a...  \n",
       "1                          Diving with swimmers ear   \n",
       "2                                  BIG HUNGRY FISH!   \n",
       "3  Dusk at Blue Heron Bridge, Rivera Beach, FL - ...  \n",
       "4  Mark V *inspired* dive helmet lamp decoration ...  "
      ]
     },
     "execution_count": 30,
     "metadata": {},
     "output_type": "execute_result"
    }
   ],
   "source": [
    "df.head()"
   ]
  },
  {
   "cell_type": "code",
   "execution_count": 31,
   "id": "9bc0ce33",
   "metadata": {},
   "outputs": [],
   "source": [
    "df.drop(columns = ['title', 'subreddit', 'selftext'], axis = 1, inplace = True)"
   ]
  },
  {
   "cell_type": "code",
   "execution_count": 32,
   "id": "85885d52",
   "metadata": {},
   "outputs": [
    {
     "data": {
      "text/html": [
       "<div>\n",
       "<style scoped>\n",
       "    .dataframe tbody tr th:only-of-type {\n",
       "        vertical-align: middle;\n",
       "    }\n",
       "\n",
       "    .dataframe tbody tr th {\n",
       "        vertical-align: top;\n",
       "    }\n",
       "\n",
       "    .dataframe thead th {\n",
       "        text-align: right;\n",
       "    }\n",
       "</style>\n",
       "<table border=\"1\" class=\"dataframe\">\n",
       "  <thead>\n",
       "    <tr style=\"text-align: right;\">\n",
       "      <th></th>\n",
       "      <th>diving</th>\n",
       "      <th>text</th>\n",
       "    </tr>\n",
       "  </thead>\n",
       "  <tbody>\n",
       "    <tr>\n",
       "      <th>0</th>\n",
       "      <td>1</td>\n",
       "      <td>Going diving tomorrow for an open water cert a...</td>\n",
       "    </tr>\n",
       "    <tr>\n",
       "      <th>1</th>\n",
       "      <td>1</td>\n",
       "      <td>Diving with swimmers ear</td>\n",
       "    </tr>\n",
       "    <tr>\n",
       "      <th>2</th>\n",
       "      <td>1</td>\n",
       "      <td>BIG HUNGRY FISH!</td>\n",
       "    </tr>\n",
       "    <tr>\n",
       "      <th>3</th>\n",
       "      <td>1</td>\n",
       "      <td>Dusk at Blue Heron Bridge, Rivera Beach, FL - ...</td>\n",
       "    </tr>\n",
       "    <tr>\n",
       "      <th>4</th>\n",
       "      <td>1</td>\n",
       "      <td>Mark V *inspired* dive helmet lamp decoration ...</td>\n",
       "    </tr>\n",
       "  </tbody>\n",
       "</table>\n",
       "</div>"
      ],
      "text/plain": [
       "   diving                                               text\n",
       "0       1  Going diving tomorrow for an open water cert a...\n",
       "1       1                          Diving with swimmers ear \n",
       "2       1                                  BIG HUNGRY FISH! \n",
       "3       1  Dusk at Blue Heron Bridge, Rivera Beach, FL - ...\n",
       "4       1  Mark V *inspired* dive helmet lamp decoration ..."
      ]
     },
     "execution_count": 32,
     "metadata": {},
     "output_type": "execute_result"
    }
   ],
   "source": [
    "df.head()"
   ]
  },
  {
   "cell_type": "code",
   "execution_count": 33,
   "id": "063caa8a",
   "metadata": {},
   "outputs": [
    {
     "data": {
      "text/plain": [
       "0    1960\n",
       "1    1949\n",
       "Name: diving, dtype: int64"
      ]
     },
     "execution_count": 33,
     "metadata": {},
     "output_type": "execute_result"
    }
   ],
   "source": [
    "df['diving'].value_counts()"
   ]
  },
  {
   "cell_type": "markdown",
   "id": "e18983da",
   "metadata": {},
   "source": [
    "---"
   ]
  },
  {
   "cell_type": "markdown",
   "id": "efe9a354",
   "metadata": {},
   "source": [
    "# Cleanup Text"
   ]
  },
  {
   "cell_type": "code",
   "execution_count": 34,
   "id": "84ecb841",
   "metadata": {},
   "outputs": [
    {
     "name": "stderr",
     "output_type": "stream",
     "text": [
      "C:\\Users\\xiuti\\anaconda3\\lib\\site-packages\\bs4\\__init__.py:337: MarkupResemblesLocatorWarning: \". \" looks like a directory name, not markup. You may want to open a file found in this directory and pass the filehandle into Beautiful Soup.\n",
      "  warnings.warn(\n"
     ]
    }
   ],
   "source": [
    "df['text'] = df.text.apply(clean_text)"
   ]
  },
  {
   "cell_type": "code",
   "execution_count": 35,
   "id": "c6ba1554",
   "metadata": {},
   "outputs": [
    {
     "name": "stdout",
     "output_type": "stream",
     "text": [
      "going diving tomorrow for an open water cert and doc has told me i have swimmers ear today going diving tomorrow for an open water cert and doc has told me i have swimmers ear today i have no pain or irritation a few days ago i went swimming and equalised with no pain should i go or skip out and leave it for another day doc has prescribed me antibiotics if i did dive can i take these in conjunction with the dive \n"
     ]
    }
   ],
   "source": [
    "print(df['text'][0])"
   ]
  },
  {
   "cell_type": "code",
   "execution_count": 36,
   "id": "b792a004",
   "metadata": {},
   "outputs": [
    {
     "name": "stdout",
     "output_type": "stream",
     "text": [
      "what group is good for diving at key largo in florida i want to go to the national park and rainbow reef does anyone know a good dive shop to go with i would also like to look into getting some certifications while there \n"
     ]
    }
   ],
   "source": [
    "print(df['text'][100])"
   ]
  },
  {
   "cell_type": "code",
   "execution_count": 37,
   "id": "242632e1",
   "metadata": {},
   "outputs": [
    {
     "name": "stdout",
     "output_type": "stream",
     "text": [
      "i went scuba diving and now im spitting fresh blood is this ok it was my first time scuba diving my lefy ear hurt a lot when we first decended and equalizing didnt work i asked the instructor to take me back up then we went back down and it was less painful but we made it to the floor dubai mall shark aquarium now im spitting blood and my left ear really hurts what should i do \n"
     ]
    }
   ],
   "source": [
    "print(df['text'][200])"
   ]
  },
  {
   "cell_type": "code",
   "execution_count": 38,
   "id": "07165101",
   "metadata": {},
   "outputs": [
    {
     "data": {
      "text/html": [
       "<div>\n",
       "<style scoped>\n",
       "    .dataframe tbody tr th:only-of-type {\n",
       "        vertical-align: middle;\n",
       "    }\n",
       "\n",
       "    .dataframe tbody tr th {\n",
       "        vertical-align: top;\n",
       "    }\n",
       "\n",
       "    .dataframe thead th {\n",
       "        text-align: right;\n",
       "    }\n",
       "</style>\n",
       "<table border=\"1\" class=\"dataframe\">\n",
       "  <thead>\n",
       "    <tr style=\"text-align: right;\">\n",
       "      <th></th>\n",
       "      <th>diving</th>\n",
       "      <th>text</th>\n",
       "    </tr>\n",
       "  </thead>\n",
       "  <tbody>\n",
       "    <tr>\n",
       "      <th>0</th>\n",
       "      <td>1</td>\n",
       "      <td>going diving tomorrow for an open water cert a...</td>\n",
       "    </tr>\n",
       "    <tr>\n",
       "      <th>1</th>\n",
       "      <td>1</td>\n",
       "      <td>diving with swimmers ear</td>\n",
       "    </tr>\n",
       "    <tr>\n",
       "      <th>2</th>\n",
       "      <td>1</td>\n",
       "      <td>big hungry fish</td>\n",
       "    </tr>\n",
       "    <tr>\n",
       "      <th>3</th>\n",
       "      <td>1</td>\n",
       "      <td>dusk at blue heron bridge rivera beach fl usa ...</td>\n",
       "    </tr>\n",
       "    <tr>\n",
       "      <th>4</th>\n",
       "      <td>1</td>\n",
       "      <td>mark v inspired dive helmet lamp decoration im...</td>\n",
       "    </tr>\n",
       "  </tbody>\n",
       "</table>\n",
       "</div>"
      ],
      "text/plain": [
       "   diving                                               text\n",
       "0       1  going diving tomorrow for an open water cert a...\n",
       "1       1                          diving with swimmers ear \n",
       "2       1                                   big hungry fish \n",
       "3       1  dusk at blue heron bridge rivera beach fl usa ...\n",
       "4       1  mark v inspired dive helmet lamp decoration im..."
      ]
     },
     "execution_count": 38,
     "metadata": {},
     "output_type": "execute_result"
    }
   ],
   "source": [
    "df.head()"
   ]
  },
  {
   "cell_type": "code",
   "execution_count": 39,
   "id": "d9acc7f3",
   "metadata": {},
   "outputs": [],
   "source": [
    "dive_clean = get_top_n_words(df[df['diving'] == 1]['text'], 20)\n",
    "surf_clean = get_top_n_words(df[df['diving'] == 0]['text'], 20)\n",
    "\n",
    "dive_clean_df = pd.DataFrame(dive_clean, columns = ['unigram' , 'count'])\n",
    "surf_clean_df = pd.DataFrame(surf_clean, columns = ['unigram' , 'count'])"
   ]
  },
  {
   "cell_type": "code",
   "execution_count": 40,
   "id": "258e08db",
   "metadata": {},
   "outputs": [
    {
     "data": {
      "image/png": "[encoded data removed]",
      "text/plain": [
       "<Figure size 1080x576 with 1 Axes>"
      ]
     },
     "metadata": {},
     "output_type": "display_data"
    },
    {
     "data": {
      "image/png": "[encoded data removed]",
      "text/plain": [
       "<Figure size 1080x576 with 1 Axes>"
      ]
     },
     "metadata": {},
     "output_type": "display_data"
    }
   ],
   "source": [
    "plt.figure(figsize = (15, 8))\n",
    "dive_unigram_cbar = sns.barplot(x = 'count', y = 'unigram', data = dive_clean_df)\n",
    "dive_unigram_cbar.axes.set_title('Top 20 Common Unigram from r/scubadiving (Before NLP)',fontsize = 20)\n",
    "dive_unigram_cbar.set_xlabel('Frequency',fontsize=16)\n",
    "dive_unigram_cbar.set_ylabel('Unigram',fontsize=16)\n",
    "plt.tight_layout()\n",
    "plt.savefig('../images/scubadiving_unigram_barplot+aftercleanup.png')\n",
    "plt.show()\n",
    "\n",
    "plt.figure(figsize = (15, 8))\n",
    "surf_unigram_b4cbar = sns.barplot(x = 'count', y = 'unigram', data = surf_clean_df)\n",
    "surf_unigram_b4cbar.axes.set_title('Top 20 Common Unigram from r/surfing (Before NLP)',fontsize = 20)\n",
    "surf_unigram_b4cbar.set_xlabel('Frequency',fontsize=16)\n",
    "surf_unigram_b4cbar.set_ylabel('Word',fontsize=16)\n",
    "plt.tight_layout()\n",
    "plt.savefig('../images/surfing_unigram_barplot_aftercleanup.png')\n",
    "plt.show()"
   ]
  },
  {
   "cell_type": "markdown",
   "id": "70637fa2",
   "metadata": {},
   "source": [
    "---"
   ]
  },
  {
   "cell_type": "markdown",
   "id": "bdf08e43",
   "metadata": {},
   "source": [
    "# Stemming VS Lemmatization\n",
    "The process of Lemmatization deals with the semantics, morphology and the parts-of-speech (POS) the word belongs to, while Stemming refers to a crude heuristic process that chops off the ends of words, and this often includes the removal of derivational affixes [(source)](https://towardsdatascience.com/building-a-text-normalizer-using-nltk-ft-pos-tagger-e713e611db8), as it does not consider how a word is being used, hence leading to not so meaningful stems. \n",
    "\n",
    "In most applications, lemmatization performs better than stemming. However, before we decide on whether to use stemming or lemmatization, we shall use some observations in the DataFrame to compare how stemming and lemmatization work on these text."
   ]
  },
  {
   "cell_type": "code",
   "execution_count": 41,
   "id": "827880b6",
   "metadata": {},
   "outputs": [],
   "source": [
    "# create copies of the DataFrame to compare between Stemming and Lemmatizing\n",
    "stem_df = df.copy()\n",
    "lem_df = df.copy()"
   ]
  },
  {
   "cell_type": "code",
   "execution_count": 42,
   "id": "d1313608",
   "metadata": {},
   "outputs": [
    {
     "data": {
      "text/html": [
       "<div>\n",
       "<style scoped>\n",
       "    .dataframe tbody tr th:only-of-type {\n",
       "        vertical-align: middle;\n",
       "    }\n",
       "\n",
       "    .dataframe tbody tr th {\n",
       "        vertical-align: top;\n",
       "    }\n",
       "\n",
       "    .dataframe thead th {\n",
       "        text-align: right;\n",
       "    }\n",
       "</style>\n",
       "<table border=\"1\" class=\"dataframe\">\n",
       "  <thead>\n",
       "    <tr style=\"text-align: right;\">\n",
       "      <th></th>\n",
       "      <th>diving</th>\n",
       "      <th>text</th>\n",
       "    </tr>\n",
       "  </thead>\n",
       "  <tbody>\n",
       "    <tr>\n",
       "      <th>0</th>\n",
       "      <td>1</td>\n",
       "      <td>going diving tomorrow for an open water cert a...</td>\n",
       "    </tr>\n",
       "    <tr>\n",
       "      <th>1</th>\n",
       "      <td>1</td>\n",
       "      <td>diving with swimmers ear</td>\n",
       "    </tr>\n",
       "    <tr>\n",
       "      <th>2</th>\n",
       "      <td>1</td>\n",
       "      <td>big hungry fish</td>\n",
       "    </tr>\n",
       "    <tr>\n",
       "      <th>3</th>\n",
       "      <td>1</td>\n",
       "      <td>dusk at blue heron bridge rivera beach fl usa ...</td>\n",
       "    </tr>\n",
       "    <tr>\n",
       "      <th>4</th>\n",
       "      <td>1</td>\n",
       "      <td>mark v inspired dive helmet lamp decoration im...</td>\n",
       "    </tr>\n",
       "  </tbody>\n",
       "</table>\n",
       "</div>"
      ],
      "text/plain": [
       "   diving                                               text\n",
       "0       1  going diving tomorrow for an open water cert a...\n",
       "1       1                          diving with swimmers ear \n",
       "2       1                                   big hungry fish \n",
       "3       1  dusk at blue heron bridge rivera beach fl usa ...\n",
       "4       1  mark v inspired dive helmet lamp decoration im..."
      ]
     },
     "execution_count": 42,
     "metadata": {},
     "output_type": "execute_result"
    }
   ],
   "source": [
    "stem_df.head()"
   ]
  },
  {
   "cell_type": "code",
   "execution_count": 43,
   "id": "8c208d5e",
   "metadata": {},
   "outputs": [
    {
     "data": {
      "text/html": [
       "<div>\n",
       "<style scoped>\n",
       "    .dataframe tbody tr th:only-of-type {\n",
       "        vertical-align: middle;\n",
       "    }\n",
       "\n",
       "    .dataframe tbody tr th {\n",
       "        vertical-align: top;\n",
       "    }\n",
       "\n",
       "    .dataframe thead th {\n",
       "        text-align: right;\n",
       "    }\n",
       "</style>\n",
       "<table border=\"1\" class=\"dataframe\">\n",
       "  <thead>\n",
       "    <tr style=\"text-align: right;\">\n",
       "      <th></th>\n",
       "      <th>diving</th>\n",
       "      <th>text</th>\n",
       "    </tr>\n",
       "  </thead>\n",
       "  <tbody>\n",
       "    <tr>\n",
       "      <th>0</th>\n",
       "      <td>1</td>\n",
       "      <td>going diving tomorrow for an open water cert a...</td>\n",
       "    </tr>\n",
       "    <tr>\n",
       "      <th>1</th>\n",
       "      <td>1</td>\n",
       "      <td>diving with swimmers ear</td>\n",
       "    </tr>\n",
       "    <tr>\n",
       "      <th>2</th>\n",
       "      <td>1</td>\n",
       "      <td>big hungry fish</td>\n",
       "    </tr>\n",
       "    <tr>\n",
       "      <th>3</th>\n",
       "      <td>1</td>\n",
       "      <td>dusk at blue heron bridge rivera beach fl usa ...</td>\n",
       "    </tr>\n",
       "    <tr>\n",
       "      <th>4</th>\n",
       "      <td>1</td>\n",
       "      <td>mark v inspired dive helmet lamp decoration im...</td>\n",
       "    </tr>\n",
       "  </tbody>\n",
       "</table>\n",
       "</div>"
      ],
      "text/plain": [
       "   diving                                               text\n",
       "0       1  going diving tomorrow for an open water cert a...\n",
       "1       1                          diving with swimmers ear \n",
       "2       1                                   big hungry fish \n",
       "3       1  dusk at blue heron bridge rivera beach fl usa ...\n",
       "4       1  mark v inspired dive helmet lamp decoration im..."
      ]
     },
     "execution_count": 43,
     "metadata": {},
     "output_type": "execute_result"
    }
   ],
   "source": [
    "lem_df.head()"
   ]
  },
  {
   "cell_type": "markdown",
   "id": "88525d0c",
   "metadata": {},
   "source": [
    "## Before Stemming or Lemmatization"
   ]
  },
  {
   "cell_type": "code",
   "execution_count": 44,
   "id": "70d2d72f",
   "metadata": {},
   "outputs": [
    {
     "name": "stdout",
     "output_type": "stream",
     "text": [
      "going diving tomorrow for an open water cert and doc has told me i have swimmers ear today going diving tomorrow for an open water cert and doc has told me i have swimmers ear today i have no pain or irritation a few days ago i went swimming and equalised with no pain should i go or skip out and leave it for another day doc has prescribed me antibiotics if i did dive can i take these in conjunction with the dive \n"
     ]
    }
   ],
   "source": [
    "print(stem_df['text'][0])"
   ]
  },
  {
   "cell_type": "code",
   "execution_count": 45,
   "id": "cc0050c7",
   "metadata": {},
   "outputs": [
    {
     "name": "stdout",
     "output_type": "stream",
     "text": [
      "what group is good for diving at key largo in florida i want to go to the national park and rainbow reef does anyone know a good dive shop to go with i would also like to look into getting some certifications while there \n"
     ]
    }
   ],
   "source": [
    "print(stem_df['text'][100])"
   ]
  },
  {
   "cell_type": "code",
   "execution_count": 46,
   "id": "447269b9",
   "metadata": {},
   "outputs": [
    {
     "name": "stdout",
     "output_type": "stream",
     "text": [
      "i went scuba diving and now im spitting fresh blood is this ok it was my first time scuba diving my lefy ear hurt a lot when we first decended and equalizing didnt work i asked the instructor to take me back up then we went back down and it was less painful but we made it to the floor dubai mall shark aquarium now im spitting blood and my left ear really hurts what should i do \n"
     ]
    }
   ],
   "source": [
    "print(stem_df['text'][200])"
   ]
  },
  {
   "cell_type": "markdown",
   "id": "4f6c1ad2",
   "metadata": {},
   "source": [
    "## Stemming\n",
    "We shall use SnowballStemmer instead of PorterStemmer as it is an improved and more agressive version of the PorterStemmer."
   ]
  },
  {
   "cell_type": "code",
   "execution_count": 47,
   "id": "5b13b36a",
   "metadata": {},
   "outputs": [
    {
     "name": "stdout",
     "output_type": "stream",
     "text": [
      "Total elapsed time in seconds: 1.2247960567474365\n"
     ]
    }
   ],
   "source": [
    "start_timer = time.time()\n",
    "stem_df['text'] = stem_df.text.apply(stemming_text)\n",
    "end_timer = time.time()\n",
    "print('Total elapsed time in seconds:', end_timer - start_timer)"
   ]
  },
  {
   "cell_type": "code",
   "execution_count": 48,
   "id": "157859ef",
   "metadata": {},
   "outputs": [
    {
     "name": "stdout",
     "output_type": "stream",
     "text": [
      "go dive tomorrow for an open water cert and doc has told me i have swimmer ear today go dive tomorrow for an open water cert and doc has told me i have swimmer ear today i have no pain or irrit a few day ago i went swim and equalis with no pain should i go or skip out and leav it for anoth day doc has prescrib me antibiot if i did dive can i take these in conjunct with the dive\n"
     ]
    }
   ],
   "source": [
    "print(stem_df['text'][0])"
   ]
  },
  {
   "cell_type": "code",
   "execution_count": 49,
   "id": "2abb10e2",
   "metadata": {},
   "outputs": [
    {
     "name": "stdout",
     "output_type": "stream",
     "text": [
      "what group is good for dive at key largo in florida i want to go to the nation park and rainbow reef doe anyon know a good dive shop to go with i would also like to look into get some certif while there\n"
     ]
    }
   ],
   "source": [
    "print(stem_df['text'][100])"
   ]
  },
  {
   "cell_type": "code",
   "execution_count": 50,
   "id": "175ee43c",
   "metadata": {},
   "outputs": [
    {
     "name": "stdout",
     "output_type": "stream",
     "text": [
      "i went scuba dive and now im spit fresh blood is this ok it was my first time scuba dive my lefi ear hurt a lot when we first decend and equal didnt work i ask the instructor to take me back up then we went back down and it was less pain but we made it to the floor dubai mall shark aquarium now im spit blood and my left ear realli hurt what should i do\n"
     ]
    }
   ],
   "source": [
    "print(stem_df['text'][200])"
   ]
  },
  {
   "cell_type": "code",
   "execution_count": 51,
   "id": "a767b4e0",
   "metadata": {},
   "outputs": [],
   "source": [
    "dive_stem = get_top_n_words(stem_df[stem_df['diving'] == 1]['text'], 20)\n",
    "surf_stem = get_top_n_words(stem_df[stem_df['diving'] == 0]['text'], 20)\n",
    "\n",
    "dive_stem_df = pd.DataFrame(dive_stem, columns = ['unigram' , 'count'])\n",
    "surf_stem_df = pd.DataFrame(surf_stem, columns = ['unigram' , 'count'])"
   ]
  },
  {
   "cell_type": "code",
   "execution_count": 52,
   "id": "bdfd4883",
   "metadata": {},
   "outputs": [
    {
     "data": {
      "image/png": "[encoded data removed]",
      "text/plain": [
       "<Figure size 1080x576 with 1 Axes>"
      ]
     },
     "metadata": {},
     "output_type": "display_data"
    },
    {
     "data": {
      "image/png": "[encoded data removed]",
      "text/plain": [
       "<Figure size 1080x576 with 1 Axes>"
      ]
     },
     "metadata": {},
     "output_type": "display_data"
    }
   ],
   "source": [
    "plt.figure(figsize = (15, 8))\n",
    "dive_unigram_stembar = sns.barplot(x = 'count', y = 'unigram', data = dive_stem_df)\n",
    "dive_unigram_stembar.axes.set_title('Top 20 Common Unigram from r/scubadiving (After Stemming)',fontsize = 20)\n",
    "dive_unigram_stembar.set_xlabel('Frequency',fontsize=16)\n",
    "dive_unigram_stembar.set_ylabel('Unigram',fontsize=16)\n",
    "plt.tight_layout()\n",
    "plt.savefig('../images/scubadiving_unigram_barplot_afterstemming.png')\n",
    "plt.show()\n",
    "\n",
    "plt.figure(figsize = (15, 8))\n",
    "surf_unigram_stembar = sns.barplot(x = 'count', y = 'unigram', data = surf_stem_df)\n",
    "surf_unigram_stembar.axes.set_title('Top 20 Common Unigram from r/surfing (After Stemming)',fontsize = 20)\n",
    "surf_unigram_stembar.set_xlabel('Frequency',fontsize=16)\n",
    "surf_unigram_stembar.set_ylabel('Word',fontsize=16)\n",
    "plt.tight_layout()\n",
    "plt.savefig('../images/surfing_unigram_barplot_afterstemming.png')\n",
    "plt.show()"
   ]
  },
  {
   "cell_type": "markdown",
   "id": "964924cd",
   "metadata": {},
   "source": [
    "## Lemmatization"
   ]
  },
  {
   "cell_type": "code",
   "execution_count": null,
   "id": "78a8dd54",
   "metadata": {},
   "outputs": [],
   "source": [
    "start_timer = time.time()\n",
    "lem_df['text'] = lem_df.text.apply(lemmatize_text)\n",
    "end_timer = time.time()\n",
    "print('Total elapsed time in seconds:', end_timer - start_timer)"
   ]
  },
  {
   "cell_type": "code",
   "execution_count": null,
   "id": "8ef0281a",
   "metadata": {},
   "outputs": [],
   "source": [
    "print(lem_df['text'][0])"
   ]
  },
  {
   "cell_type": "code",
   "execution_count": null,
   "id": "70112cdf",
   "metadata": {},
   "outputs": [],
   "source": [
    "print(lem_df['text'][100])"
   ]
  },
  {
   "cell_type": "code",
   "execution_count": null,
   "id": "80b8dcd0",
   "metadata": {},
   "outputs": [],
   "source": [
    "print(lem_df['text'][200])"
   ]
  },
  {
   "cell_type": "code",
   "execution_count": null,
   "id": "c651b110",
   "metadata": {},
   "outputs": [],
   "source": [
    "dive_lem = get_top_n_words(lem_df[lem_df['diving'] == 1]['text'], 20)\n",
    "surf_lem = get_top_n_words(lem_df[lem_df['diving'] == 0]['text'], 20)\n",
    "\n",
    "dive_lem_df = pd.DataFrame(dive_lem, columns = ['unigram' , 'count'])\n",
    "surf_lem_df = pd.DataFrame(surf_lem, columns = ['unigram' , 'count'])"
   ]
  },
  {
   "cell_type": "code",
   "execution_count": null,
   "id": "d6a26132",
   "metadata": {},
   "outputs": [],
   "source": [
    "plt.figure(figsize = (15, 8))\n",
    "dive_unigram_lembar = sns.barplot(x = 'count', y = 'unigram', data = dive_lem_df)\n",
    "dive_unigram_lembar.axes.set_title('Top 20 Common Unigram from r/scubadiving (After Lemmatization)',fontsize = 20)\n",
    "dive_unigram_lembar.set_xlabel('Frequency',fontsize=16)\n",
    "dive_unigram_lembar.set_ylabel('Unigram',fontsize=16)\n",
    "plt.tight_layout()\n",
    "plt.savefig('../images/scubadiving_unigram_barplot_afterlemma.png')\n",
    "plt.show()\n",
    "\n",
    "plt.figure(figsize = (15, 8))\n",
    "surf_unigram_lembar = sns.barplot(x = 'count', y = 'unigram', data = surf_lem_df)\n",
    "surf_unigram_lembar.axes.set_title('Top 20 Common Unigram from r/surfing (After Lemmatization)',fontsize = 20)\n",
    "surf_unigram_lembar.set_xlabel('Frequency',fontsize=16)\n",
    "surf_unigram_lembar.set_ylabel('Word',fontsize=16)\n",
    "plt.tight_layout()\n",
    "plt.savefig('../images/surfing_unigram_barplot_afterlemma.png')\n",
    "plt.show()"
   ]
  },
  {
   "cell_type": "markdown",
   "id": "36be86dd",
   "metadata": {},
   "source": [
    "### Choice: Lemmatization\n",
    "Refering to `print(stem_df['text'][0])`, words like 'irritation', 'equalise', 'leave', 'prescribe' and 'antibiotic', stemming changed the these words to 'irritat', 'equalis', 'leav', 'prescib' and 'antibiot' which are no longer meaningful now. As lemmatization will give us complete English words while reducing words to their core meaning, it kept these words intact.\n",
    "\n",
    "Even though stemming takes a much shorter time to process than lemmatization, we will use lemmatization in this project as it is important for us to preserve the meaning of the original words.\n",
    "\n",
    "It is difficult to compare the difference between the top 20 words after stemming and after lemmatization because most of these words are stop words such as 'the', 'be', 'to', 'and', 'in', etc., which are not related to scubadiving and surfing, and hence not very meaningful. We will now filter out stop words to see if we will get more meaningful words."
   ]
  },
  {
   "cell_type": "markdown",
   "id": "4e4cc4e0",
   "metadata": {},
   "source": [
    "---"
   ]
  },
  {
   "cell_type": "markdown",
   "id": "ea02ed23",
   "metadata": {},
   "source": [
    "# Stop Words\n",
    "Stop words are the most common words in a body of text that can be removed (in most cases) without affecting the overall message enough to lose its meaning. These words are often removed during natural language processing to improve search and other analytical efficiencies as fewer words to process also mean less processing time."
   ]
  },
  {
   "cell_type": "code",
   "execution_count": null,
   "id": "c61db501",
   "metadata": {},
   "outputs": [],
   "source": [
    "# copy lem_df to df\n",
    "df = lem_df.copy()\n",
    "df.head()"
   ]
  },
  {
   "cell_type": "code",
   "execution_count": null,
   "id": "14d94f2e",
   "metadata": {},
   "outputs": [],
   "source": [
    "df['text'] = df.text.apply(filter_stopwords)"
   ]
  },
  {
   "cell_type": "code",
   "execution_count": null,
   "id": "b92f7544",
   "metadata": {},
   "outputs": [],
   "source": [
    "print(df['text'][0])"
   ]
  },
  {
   "cell_type": "code",
   "execution_count": null,
   "id": "58f0f2a8",
   "metadata": {},
   "outputs": [],
   "source": [
    "print(df['text'][100])"
   ]
  },
  {
   "cell_type": "code",
   "execution_count": null,
   "id": "373db11c",
   "metadata": {},
   "outputs": [],
   "source": [
    "print(df['text'][200])"
   ]
  },
  {
   "cell_type": "code",
   "execution_count": null,
   "id": "4cdad8e8",
   "metadata": {},
   "outputs": [],
   "source": [
    "df.head()"
   ]
  },
  {
   "cell_type": "markdown",
   "id": "fed014f6",
   "metadata": {},
   "source": [
    "---"
   ]
  },
  {
   "cell_type": "markdown",
   "id": "6f32570a",
   "metadata": {},
   "source": [
    "# Unigrams, Bigrams and Trigrams"
   ]
  },
  {
   "cell_type": "markdown",
   "id": "255c4430",
   "metadata": {},
   "source": [
    "## Unigrams"
   ]
  },
  {
   "cell_type": "code",
   "execution_count": null,
   "id": "5c49baa7",
   "metadata": {},
   "outputs": [],
   "source": [
    "dive_unigram = get_top_n_words(df[df['diving'] == 1]['text'], 20)\n",
    "surf_unigram = get_top_n_words(df[df['diving'] == 0]['text'], 20)\n",
    "\n",
    "dive_unigram_df = pd.DataFrame(dive_unigram, columns = ['unigram' , 'count'])\n",
    "surf_unigram_df = pd.DataFrame(surf_unigram, columns = ['unigram' , 'count'])"
   ]
  },
  {
   "cell_type": "code",
   "execution_count": null,
   "id": "40595748",
   "metadata": {
    "scrolled": true
   },
   "outputs": [],
   "source": [
    "plt.figure(figsize = (15, 8))\n",
    "dive_unigram_bar = sns.barplot(x = 'count', y = 'unigram', data = dive_unigram_df)\n",
    "dive_unigram_bar.axes.set_title('Top 20 Common Unigram from r/scubadiving (After Filtering Stopwords)',fontsize = 20)\n",
    "dive_unigram_bar.set_xlabel('Frequency',fontsize=16)\n",
    "dive_unigram_bar.set_ylabel('Unigram',fontsize=16)\n",
    "plt.tight_layout()\n",
    "plt.savefig('../images/scubadiving_unigram_barplot_afterstop.png')\n",
    "plt.show()\n",
    "\n",
    "plt.figure(figsize = (15, 8))\n",
    "surf_unigram_bar = sns.barplot(x = 'count', y = 'unigram', data = surf_unigram_df)\n",
    "surf_unigram_bar.axes.set_title('Top 20 Common Unigram from r/surfing (After Filtering Stopwords)',fontsize = 20)\n",
    "surf_unigram_bar.set_xlabel('Frequency',fontsize=16)\n",
    "surf_unigram_bar.set_ylabel('Word',fontsize=16)\n",
    "plt.tight_layout()\n",
    "plt.savefig('../images/surfing_unigram_barplot_afterstop.png')\n",
    "plt.show()"
   ]
  },
  {
   "cell_type": "markdown",
   "id": "e315709d",
   "metadata": {},
   "source": [
    "After filtering out stopwords, we are getting more meaningful words that are related to the individual subreddits for the top 20 common unigrams. "
   ]
  },
  {
   "cell_type": "markdown",
   "id": "2357af09",
   "metadata": {},
   "source": [
    "## Bigrams"
   ]
  },
  {
   "cell_type": "code",
   "execution_count": null,
   "id": "eec0a6d4",
   "metadata": {},
   "outputs": [],
   "source": [
    "dive_bigram = get_top_n_bigram(df[df['diving'] == 1]['text'], 20)\n",
    "dive_bigram_df = pd.DataFrame(dive_bigram, columns = ['bigram' , 'count'])\n",
    "\n",
    "surf_bigram = get_top_n_bigram(df[df['diving'] == 0]['text'], 20)\n",
    "surf_bigram_df = pd.DataFrame(surf_bigram, columns = ['bigram' , 'count'])"
   ]
  },
  {
   "cell_type": "code",
   "execution_count": null,
   "id": "1d58faac",
   "metadata": {},
   "outputs": [],
   "source": [
    "dive_bigram_df"
   ]
  },
  {
   "cell_type": "code",
   "execution_count": null,
   "id": "10272ce1",
   "metadata": {},
   "outputs": [],
   "source": [
    "surf_bigram_df"
   ]
  },
  {
   "cell_type": "code",
   "execution_count": null,
   "id": "a12b8a25",
   "metadata": {
    "scrolled": false
   },
   "outputs": [],
   "source": [
    "plt.figure(figsize = (15, 8))\n",
    "dive_bigram_bar = sns.barplot(x = 'count', y = 'bigram', data = dive_bigram_df)\n",
    "dive_bigram_bar.axes.set_title('Top 20 Common Bigrams from r/scubadiving',fontsize = 20)\n",
    "dive_bigram_bar.set_xlabel('Frequency',fontsize=16)\n",
    "dive_bigram_bar.set_ylabel('Bigram',fontsize=16)\n",
    "plt.tight_layout()\n",
    "plt.savefig('../images/scubadiving_bigram_barplot.png')\n",
    "plt.show()\n",
    "\n",
    "plt.figure(figsize = (15, 8))\n",
    "surf_bigram_bar = sns.barplot(x = 'count', y = 'bigram', data = surf_bigram_df)\n",
    "surf_bigram_bar.axes.set_title('Top 20 Common Bigrams from r/surfing',fontsize = 20)\n",
    "surf_bigram_bar.set_xlabel('Frequency',fontsize=16)\n",
    "surf_bigram_bar.set_ylabel('Bigram',fontsize=16)\n",
    "plt.tight_layout()\n",
    "plt.savefig('../images/surfing_bigram_barplot.png')\n",
    "plt.show()"
   ]
  },
  {
   "cell_type": "markdown",
   "id": "98babbc7",
   "metadata": {},
   "source": [
    "## Trigrams"
   ]
  },
  {
   "cell_type": "code",
   "execution_count": null,
   "id": "bfee4aa2",
   "metadata": {},
   "outputs": [],
   "source": [
    "dive_trigram = get_top_n_trigram(df[df['diving'] == 1]['text'], 20)\n",
    "dive_trigram_df = pd.DataFrame(dive_trigram, columns = ['trigram' , 'count'])\n",
    "\n",
    "surf_trigram = get_top_n_trigram(df[df['diving'] == 0]['text'], 20)\n",
    "surf_trigram_df = pd.DataFrame(surf_trigram, columns = ['trigram' , 'count'])"
   ]
  },
  {
   "cell_type": "code",
   "execution_count": null,
   "id": "ee02c073",
   "metadata": {},
   "outputs": [],
   "source": [
    "dive_trigram_df"
   ]
  },
  {
   "cell_type": "code",
   "execution_count": null,
   "id": "93468a21",
   "metadata": {},
   "outputs": [],
   "source": [
    "surf_trigram_df"
   ]
  },
  {
   "cell_type": "code",
   "execution_count": null,
   "id": "7be9bed1",
   "metadata": {},
   "outputs": [],
   "source": [
    "plt.figure(figsize = (15, 8))\n",
    "dive_trigram_bar = sns.barplot(x = 'count', y = 'trigram', data = dive_trigram_df)\n",
    "dive_trigram_bar.axes.set_title('Top 20 Common Trigrams from r/scubadiving',fontsize = 20)\n",
    "dive_trigram_bar.set_xlabel('Frequency',fontsize=16)\n",
    "dive_trigram_bar.set_ylabel('Trigram',fontsize=16)\n",
    "plt.tight_layout()\n",
    "plt.savefig('../images/scubadiving_trigram_barplot.png')\n",
    "plt.show()\n",
    "\n",
    "plt.figure(figsize = (15, 8))\n",
    "surf_bigram_bar = sns.barplot(x = 'count', y = 'trigram', data = surf_trigram_df)\n",
    "surf_bigram_bar.axes.set_title('Top 20 Common Trigrams from r/surfing',fontsize = 20)\n",
    "surf_bigram_bar.set_xlabel('Frequency',fontsize=16)\n",
    "surf_bigram_bar.set_ylabel('Trigram',fontsize=16)\n",
    "plt.tight_layout()\n",
    "plt.savefig('../images/surfing_trigram_barplot.png')\n",
    "\n",
    "plt.show()"
   ]
  },
  {
   "cell_type": "markdown",
   "id": "cc6d333b",
   "metadata": {},
   "source": [
    "Words including {'im', 'would', 'gon', 'na', 'hey', 'anyone'} have been added to the stopword list after running the top 20 common words barplots a few times after noting that these words which do not hold much meaning are showing up on the barplots. "
   ]
  },
  {
   "cell_type": "markdown",
   "id": "86975dc7",
   "metadata": {},
   "source": [
    "---"
   ]
  },
  {
   "cell_type": "markdown",
   "id": "8c971b75",
   "metadata": {},
   "source": [
    "# Export to CSV\n",
    "Cleaned and preprocessed data is exported for use in the notebook 3, `03_Modelling`."
   ]
  },
  {
   "cell_type": "code",
   "execution_count": null,
   "id": "5a9e5ef5",
   "metadata": {},
   "outputs": [],
   "source": [
    "df"
   ]
  },
  {
   "cell_type": "code",
   "execution_count": null,
   "id": "5404c109",
   "metadata": {},
   "outputs": [],
   "source": [
    "df['text'].iloc[590]"
   ]
  },
  {
   "cell_type": "code",
   "execution_count": null,
   "id": "7206161d",
   "metadata": {},
   "outputs": [],
   "source": [
    "df.to_csv('../data/subreddits_cleaned2.csv')"
   ]
  },
  {
   "cell_type": "markdown",
   "id": "f65d5be5",
   "metadata": {},
   "source": [
    "---"
   ]
  },
  {
   "cell_type": "markdown",
   "id": "f1d02729",
   "metadata": {},
   "source": [
    "# Extras"
   ]
  },
  {
   "cell_type": "markdown",
   "id": "869eb8c2",
   "metadata": {},
   "source": [
    "## Word Cloud"
   ]
  },
  {
   "cell_type": "code",
   "execution_count": null,
   "id": "cb07436d",
   "metadata": {},
   "outputs": [],
   "source": [
    "text = ' '\n",
    "for x in df[df['diving']== 1]['text']: \n",
    "      \n",
    "    # typecaste each val to string \n",
    "    x = str(x) \n",
    "  \n",
    "    # split the value \n",
    "    values = x.split(' ') \n",
    "      \n",
    "    # Converts each token into lowercase \n",
    "    for i in range(len(values)): \n",
    "        values[i] = values[i].lower() \n",
    "          \n",
    "    for words in values: \n",
    "        text = text + words + ' '\n",
    "  \n",
    "  \n",
    "word_cloud = WordCloud(max_words= 100,\n",
    "                      width = 744, \n",
    "                      height = 544,\n",
    "                      background_color ='white',\n",
    "                      contour_width=3, \n",
    "                      colormap='coolwarm',\n",
    "                      min_font_size = 10).generate(text) \n",
    "  \n",
    "# plot the WordCloud image                        \n",
    "plt.figure(figsize = (14, 14)) \n",
    "plt.imshow(word_cloud) \n",
    "plt.axis(\"off\")\n",
    "plt.savefig('../images/diving_wordcloud.png')"
   ]
  },
  {
   "cell_type": "code",
   "execution_count": null,
   "id": "fd986403",
   "metadata": {},
   "outputs": [],
   "source": [
    "text = ' '\n",
    "for x in df[df['diving']== 0]['text']: \n",
    "      \n",
    "    # typecaste each val to string \n",
    "    x = str(x) \n",
    "  \n",
    "    # split the value \n",
    "    values = x.split(' ') \n",
    "      \n",
    "    # Converts each token into lowercase \n",
    "    for i in range(len(values)): \n",
    "        values[i] = values[i].lower() \n",
    "          \n",
    "    for words in values: \n",
    "        text = text + words + ' '\n",
    "  \n",
    "  \n",
    "word_cloud = WordCloud(max_words= 100,\n",
    "                      width = 744, \n",
    "                      height = 544,\n",
    "                      background_color ='white',\n",
    "                      contour_width=3, \n",
    "                      colormap='coolwarm',\n",
    "                      min_font_size = 10).generate(text) \n",
    "  \n",
    "# plot the WordCloud image                        \n",
    "plt.figure(figsize = (14, 14)) \n",
    "plt.imshow(word_cloud) \n",
    "plt.axis(\"off\")\n",
    "plt.savefig('../images/surfing_wordcloud.png')"
   ]
  },
  {
   "cell_type": "code",
   "execution_count": null,
   "id": "d76ebce6",
   "metadata": {},
   "outputs": [],
   "source": []
  }
 ],
 "metadata": {
  "kernelspec": {
   "display_name": "Python 3 (ipykernel)",
   "language": "python",
   "name": "python3"
  },
  "language_info": {
   "codemirror_mode": {
    "name": "ipython",
    "version": 3
   },
   "file_extension": ".py",
   "mimetype": "text/x-python",
   "name": "python",
   "nbconvert_exporter": "python",
   "pygments_lexer": "ipython3",
   "version": "3.9.7"
  }
 },
 "nbformat": 4,
 "nbformat_minor": 5
}
